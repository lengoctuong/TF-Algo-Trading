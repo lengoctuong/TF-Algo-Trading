{
 "cells": [
  {
   "cell_type": "markdown",
   "id": "ee1c54ef",
   "metadata": {},
   "source": [
    "### Backtest TF Trading"
   ]
  },
  {
   "cell_type": "markdown",
   "id": "92e73784",
   "metadata": {},
   "source": [
    "eda:\n",
    "- eda indicators\n",
    "- check eligible all time\n",
    "- loc start / end date, mua cp co kha nang bi dung giao dich\n",
    "\n",
    "improve backtest:\n",
    "- [critical] mua theo tuan\n",
    "- [high] neu today = max date cua ma, nhung tuong lai van con -> ban het\n",
    "- [medium] t+2.5\n",
    "- [medium] don bay (case > 1)\n",
    "- [medium] bo loc (vd vn100)\n",
    "- [medium] cpi\n",
    "- [medium] scale REBALANCE_THRESHOLD by MIN_ASSUMED_HOLDINGS\n",
    "\n",
    "tuning:\n",
    "- [high] MAX_LEVERAGE\n",
    "- [medium] MIN_AVG_VOLUME\n",
    "- [medium] MIN_ASSUMED_HOLDINGS cao + REBALANCE_THRESHOLD thap\n",
    "\n",
    "stat:\n",
    "- from 08-01-2005: first date\n",
    "- from 09-07-2005: ~ 3 days/week\n",
    "- 12-09-2025: end date\n"
   ]
  },
  {
   "cell_type": "code",
   "execution_count": null,
   "id": "6e5e932e",
   "metadata": {},
   "outputs": [],
   "source": [
    "import pandas as pd\n",
    "import numpy as np\n",
    "import os\n",
    "from tqdm import tqdm\n",
    "\n",
    "# ==============================================================================\n",
    "# BƯỚC 1: CẤU HÌNH CHIẾN LƯỢC\n",
    "# ==============================================================================\n",
    "class StrategyConfig:\n",
    "    # Universe Filtering\n",
    "    MIN_PRICE_THRESHOLD = 10000\n",
    "    MIN_AVG_VOLUME = 100000\n",
    "    AVG_DOLLAR_VOLUME_WINDOW = 42\n",
    "\n",
    "    # Entry/Exit Signals\n",
    "    ATR_WINDOW = 42\n",
    "    ATR_MULTIPLIER = 10\n",
    "\n",
    "    # Position Sizing & Risk Management\n",
    "    VOLATILITY_WINDOW = 42\n",
    "    TARGET_VOLATILITY = 0.30\n",
    "    MIN_ASSUMED_HOLDINGS = 30\n",
    "    MAX_LEVERAGE = 1.0\n",
    "\n",
    "    # Transaction Costs\n",
    "    COMMISSION_RATE = 0.0015\n",
    "    SELL_TAX_RATE = 0.001\n",
    "    SLIPPAGE_RATE = 0.0005\n",
    "    \n",
    "    # Initial Capital\n",
    "    INITIAL_CAPITAL = 100_000_000\n"
   ]
  },
  {
   "cell_type": "code",
   "execution_count": 2,
   "id": "14193093",
   "metadata": {},
   "outputs": [],
   "source": [
    "# ==============================================================================\n",
    "# BƯỚC 2: CHUẨN BỊ VÀ XỬ LÝ DỮ LIỆU\n",
    "# ==============================================================================\n",
    "def calculate_indicators(df, config):\n",
    "    \"\"\"Tính toán các chỉ báo cần thiết cho một DataFrame cổ phiếu.\"\"\"\n",
    "    # Sắp xếp theo thời gian\n",
    "    df = df.sort_values('time').reset_index(drop=True)\n",
    "\n",
    "    # Đỉnh mọi thời đại (All-Time High)\n",
    "    df['ath'] = df['close'].cummax()\n",
    "\n",
    "    # Tính ATR\n",
    "    df['prev_close'] = df['close'].shift(1)\n",
    "    \n",
    "    # --- XỬ LÝ LỖI ---\n",
    "    # Thay thế các giá trị NaN hoặc 0 trong prev_close để tránh lỗi chia cho 0\n",
    "    # Ta có thể thay bằng giá close của chính ngày hôm đó, lợi nhuận sẽ là 0, an toàn\n",
    "    df['prev_close_safe'] = df['prev_close'].fillna(df['close'])\n",
    "    df.loc[df['prev_close_safe'] == 0, 'prev_close_safe'] = df['close'] # Nếu prev_close_safe vẫn = 0\n",
    "\n",
    "    tr1 = df['high'] - df['low']\n",
    "    tr2 = abs(df['high'] - df['prev_close_safe'])\n",
    "    tr3 = abs(df['low'] - df['prev_close_safe'])\n",
    "    tr = pd.concat([tr1, tr2, tr3], axis=1).max(axis=1)\n",
    "    df['atr'] = tr.ewm(span=config.ATR_WINDOW, adjust=False).mean()\n",
    "\n",
    "    # Tính Volatility (độ biến động hàng năm)\n",
    "    # Tạo một chuỗi tỷ lệ an toàn để tính log\n",
    "    ratio = df['close'] / df['prev_close_safe']\n",
    "    # Nếu tỷ lệ là 0 hoặc âm (do dữ liệu lỗi), thay bằng 1 để log(1)=0\n",
    "    ratio[ratio <= 0] = 1 \n",
    "    \n",
    "    df['daily_return'] = np.log(ratio)\n",
    "    df['volatility'] = df['daily_return'].rolling(window=config.VOLATILITY_WINDOW).std() * np.sqrt(252)\n",
    "    \n",
    "    # Tính thanh khoản\n",
    "    df['vnd_volume'] = df['volume'] * df['close']\n",
    "    df['avg_volume'] = df['volume'].rolling(window=config.AVG_DOLLAR_VOLUME_WINDOW).mean()\n",
    "    df['avg_vnd_volume'] = df['vnd_volume'].rolling(window=config.AVG_DOLLAR_VOLUME_WINDOW).mean()\n",
    "\n",
    "    # Xóa các cột tạm thời\n",
    "    return df.drop(columns=['prev_close', 'daily_return', 'vnd_volume', 'prev_close_safe'])\n",
    "\n",
    "def load_and_prepare_data(data_path, config):\n",
    "    \"\"\"Đọc tất cả file CSV, tính chỉ báo và hợp nhất thành một DataFrame lớn.\"\"\"\n",
    "    all_files = [f for f in os.listdir(data_path) if f.endswith('.csv')]\n",
    "    all_data = []\n",
    "    \n",
    "    print(\"Bắt đầu đọc và xử lý dữ liệu...\")\n",
    "    for filename in tqdm(all_files, desc=\"Đang xử lý các mã CP\"):\n",
    "        ticker = filename.split('.')[0]\n",
    "        filepath = os.path.join(data_path, filename)\n",
    "        try:\n",
    "            df = pd.read_csv(filepath)\n",
    "            # Chuẩn hóa tên cột\n",
    "            df.columns = df.columns.str.lower()\n",
    "            df = df[['time', 'open', 'high', 'low', 'close', 'volume']]\n",
    "            df['time'] = pd.to_datetime(df['time'])\n",
    "            df['ticker'] = ticker\n",
    "\n",
    "            price_cols = ['open', 'high', 'low', 'close']\n",
    "            for col in price_cols:\n",
    "                df[col] = df[col] * 1000.0\n",
    "\n",
    "            # Tính toán chỉ báo\n",
    "            df_with_indicators = calculate_indicators(df, config)\n",
    "            all_data.append(df_with_indicators)\n",
    "        except Exception as e:\n",
    "            print(f\"Lỗi khi xử lý file {filename}: {e}\")\n",
    "\n",
    "    # Hợp nhất tất cả dữ liệu\n",
    "    full_df = pd.concat(all_data, ignore_index=True)\n",
    "    full_df = full_df.sort_values(by=['time', 'ticker']).reset_index(drop=True)\n",
    "    \n",
    "    print(f\"\\nXử lý dữ liệu hoàn tất. Tổng cộng {full_df['ticker'].nunique()} mã cổ phiếu.\")\n",
    "    print(f\"Dữ liệu từ {full_df['time'].min().date()} đến {full_df['time'].max().date()}.\")\n",
    "    \n",
    "    return full_df.set_index(['time', 'ticker'])\n"
   ]
  },
  {
   "cell_type": "code",
   "execution_count": 3,
   "id": "ccaba9d4",
   "metadata": {},
   "outputs": [],
   "source": [
    "# ==============================================================================\n",
    "# BƯỚC 3: XÂY DỰNG CLASS QUẢN LÝ DANH MỤC\n",
    "# ==============================================================================\n",
    "class Portfolio:\n",
    "    def __init__(self, config):\n",
    "        self.config = config\n",
    "        self.cash = config.INITIAL_CAPITAL\n",
    "        self.holdings = {}  # { 'FPT': {'quantity': 100, 'entry_price': 120000}, ... }\n",
    "        self.stop_losses = {} # { 'FPT': 112100, ... }\n",
    "        self.history = []\n",
    "\n",
    "    def get_total_value(self, current_prices):\n",
    "        \"\"\"Tính tổng giá trị tài sản (NAV).\"\"\"\n",
    "        stock_value = 0\n",
    "        for ticker, position in self.holdings.items():\n",
    "            stock_value += position['quantity'] * current_prices.get(ticker, 0)\n",
    "        return self.cash + stock_value\n",
    "\n",
    "    def record_nav(self, date, current_prices):\n",
    "        \"\"\"Ghi lại giá trị NAV hàng ngày.\"\"\"\n",
    "        nav = self.get_total_value(current_prices)\n",
    "        self.history.append({'date': date, 'nav': nav})\n",
    "\n",
    "    def execute_buy(self, ticker, price, quantity, sl_data=None):\n",
    "        \"\"\"Thực thi lệnh mua và cập nhật stop loss nếu có.\"\"\"\n",
    "        cost = price * quantity * (1 + self.config.COMMISSION_RATE + self.config.SLIPPAGE_RATE)\n",
    "        \n",
    "        if self.cash < cost:\n",
    "            print(f\"  > [WARNING] Không đủ tiền mặt để mua {quantity} {ticker}.\")\n",
    "            return False # Báo hiệu mua thất bại\n",
    "\n",
    "        self.cash -= cost\n",
    "        if ticker in self.holdings:\n",
    "            # Mua thêm (cho tái cân bằng) - logic này chưa được dùng trong script hiện tại\n",
    "            total_quantity = self.holdings[ticker]['quantity'] + quantity\n",
    "            total_cost = self.holdings[ticker]['entry_price'] * self.holdings[ticker]['quantity'] + price * quantity\n",
    "            self.holdings[ticker]['entry_price'] = total_cost / total_quantity\n",
    "            self.holdings[ticker]['quantity'] = total_quantity\n",
    "        else:\n",
    "            self.holdings[ticker] = {'quantity': quantity, 'entry_price': price}\n",
    "        \n",
    "        print(f\"  > MUA {quantity} {ticker} @ {price:,.0f} VND\")\n",
    "\n",
    "        # --- PHẦN QUAN TRỌNG: Cập nhật stop loss SAU KHI mua thành công ---\n",
    "        if sl_data:\n",
    "            sl_ath = sl_data['ath']\n",
    "            sl_atr = sl_data['atr']\n",
    "            sl_close = sl_data['close']\n",
    "            \n",
    "            # Thêm một lớp bảo vệ để tránh chia cho 0\n",
    "            if sl_close > 0 and sl_atr is not None and pd.notna(sl_atr):\n",
    "                discount_factor = (1 - sl_atr / sl_close) ** self.config.ATR_MULTIPLIER\n",
    "                self.stop_losses[ticker] = sl_ath * discount_factor\n",
    "            else:\n",
    "                # Nếu dữ liệu không hợp lệ, đặt một stop loss an toàn (ví dụ: giá mua - 7%)\n",
    "                self.stop_losses[ticker] = price * 0.93\n",
    "                print(f\"  > [WARNING] Dữ liệu ATR/Close không hợp lệ cho {ticker}. Đặt SL mặc định.\")\n",
    "        \n",
    "        return True # Báo hiệu mua thành công\n",
    "\n",
    "    def execute_sell(self, ticker, price, quantity):\n",
    "        \"\"\"Thực thi lệnh bán.\"\"\"\n",
    "        if ticker in self.holdings and self.holdings[ticker]['quantity'] >= quantity:\n",
    "            revenue = price * quantity * (1 - self.config.COMMISSION_RATE - self.config.SELL_TAX_RATE - self.config.SLIPPAGE_RATE)\n",
    "            self.cash += revenue\n",
    "            self.holdings[ticker]['quantity'] -= quantity\n",
    "            if self.holdings[ticker]['quantity'] == 0:\n",
    "                del self.holdings[ticker]\n",
    "                del self.stop_losses[ticker]\n",
    "            print(f\"  > BÁN {quantity} {ticker} @ {price:,.0f} VND\")\n",
    "        else:\n",
    "            print(f\"  > [WARNING] Có lỗi khi dev: số lượng bán > số lượng sỡ hữu.\")\n"
   ]
  },
  {
   "cell_type": "code",
   "execution_count": 7,
   "id": "4dc11d6b",
   "metadata": {},
   "outputs": [],
   "source": [
    "# ==============================================================================\n",
    "# BƯỚC 4: LOGIC CHÍNH CỦA BACKTEST (PHIÊN BẢN SỬA LỖI SL)\n",
    "# ==============================================================================\n",
    "def run_backtest(data, config):\n",
    "    portfolio = Portfolio(config)\n",
    "    all_dates = data.index.get_level_values('time').unique().sort_values()\n",
    "\n",
    "    # Khởi tạo các danh sách quyết định giao dịch\n",
    "    buy_list = {}  # { 'ticker': {'quantity': Q, 'sl_data':{...}} }\n",
    "    sell_list = {} # { 'ticker': quantity }\n",
    "\n",
    "    print(\"\\nBắt đầu quá trình backtest...\")\n",
    "    for i in tqdm(range(len(all_dates)), desc=\"Đang mô phỏng giao dịch\"):\n",
    "        today = all_dates[i]\n",
    "        daily_data_today = data.loc[today]\n",
    "\n",
    "        # --- 1. (Đầu ngày) THỰC THI GIAO DỊCH ĐÃ QUYẾT ĐỊNH TỪ HÔM TRƯỚC ---\n",
    "        # Bán trước\n",
    "        for ticker, quantity in sell_list.items():\n",
    "            if ticker in daily_data_today.index:\n",
    "                sell_price = daily_data_today.loc[ticker, 'open']\n",
    "                portfolio.execute_sell(ticker, sell_price, quantity)\n",
    "            else:\n",
    "                print(f'[WARNING] Mã {ticker} (quyết định bán): không tìm thấy trong thông tin giá của ngày hiện tại.')\n",
    "        \n",
    "        # Mua sau\n",
    "        for ticker, order_details in buy_list.items():\n",
    "            if ticker in daily_data_today.index:\n",
    "                buy_price = daily_data_today.loc[ticker, 'open']\n",
    "                quantity = order_details['quantity']\n",
    "                sl_data = order_details['sl_data']\n",
    "                portfolio.execute_buy(ticker, buy_price, quantity, sl_data=sl_data)\n",
    "            else:\n",
    "                print(f'[WARNING] Mã {ticker} (quyết định mua): không tìm thấy trong thông tin giá của ngày hiện tại.')\n",
    "        \n",
    "        # --- 2. (Cuối ngày) KẾT THÚC NGÀY GIAO DỊCH & GHI NHẬN NAV ---\n",
    "        current_prices = daily_data_today['close'].to_dict()\n",
    "        portfolio.record_nav(today, current_prices)\n",
    "        nav_eod = portfolio.get_total_value(current_prices)\n",
    "        \n",
    "        if i % 100 == 0:\n",
    "            print(f\"\\n--- Ngày: {today.date()} ---\")\n",
    "            print(f\"NAV: {nav_eod:,.0f} VND | Tiền mặt: {portfolio.cash:,.0f} VND | CP: {len(portfolio.holdings)}\")\n",
    "\n",
    "        # --- 3. (Cuối ngày) RA QUYẾT ĐỊNH CHO NGÀY MAI ---\n",
    "        buy_list.clear()\n",
    "        sell_list.clear()\n",
    "        \n",
    "        # A. Quyết định bán (Stop-Loss)\n",
    "        for ticker, position in list(portfolio.holdings.items()):\n",
    "            if ticker in daily_data_today.index:\n",
    "                if daily_data_today.loc[ticker, 'close'] < portfolio.stop_losses[ticker]:\n",
    "                    sell_list[ticker] = position['quantity']\n",
    "            else:\n",
    "                print(f'[WARNING] Mã {ticker} (holding): không tìm thấy trong thông tin giá của ngày hiện tại.')\n",
    "\n",
    "        # B. Quyết định mua mới\n",
    "        # 1. Lọc vũ trụ & tìm tín hiệu\n",
    "        eligible = daily_data_today[\n",
    "            (daily_data_today['close'] > config.MIN_PRICE_THRESHOLD) &\n",
    "            (daily_data_today['avg_volume'] > config.MIN_AVG_VOLUME) &\n",
    "            (daily_data_today['volatility'] > 0)\n",
    "        ]\n",
    "\n",
    "        new_signals = eligible[\n",
    "            (eligible['close'] >= eligible['ath']) &\n",
    "            (~eligible.index.isin(portfolio.holdings.keys()))\n",
    "        ]\n",
    "\n",
    "        # 2. Tính toán trọng số (sử dụng NAV cuối ngày hôm nay)\n",
    "        current_holdings = [t for t in portfolio.holdings.keys() if t not in sell_list]\n",
    "        target_holdings = current_holdings + list(new_signals.index)\n",
    "        \n",
    "        if not target_holdings:\n",
    "            continue\n",
    "            \n",
    "        n_holdings = len(target_holdings)\n",
    "        weights = {}\n",
    "        total_weight = 0\n",
    "        for ticker in target_holdings:\n",
    "            if ticker in daily_data_today.index:\n",
    "                vol = daily_data_today.loc[ticker, 'volatility']\n",
    "                if pd.notna(vol) and vol > 0:\n",
    "                    weight = (config.TARGET_VOLATILITY / vol) * (1 / max(config.MIN_ASSUMED_HOLDINGS, n_holdings))\n",
    "                    weights[ticker] = weight\n",
    "                    total_weight += weight\n",
    "                else:\n",
    "                    print(f'[INFO] Mã {ticker} có volatility trong n ngày không hợp lệ.')\n",
    "            else:\n",
    "                if ticker not in new_signals.index:\n",
    "                    print(f'[WARNING] Mã {ticker} (tín hiệu mua): không tìm thấy trong thông tin giá của ngày hiện tại.')\n",
    "\n",
    "        if total_weight > config.MAX_LEVERAGE:\n",
    "            weights = {t: w * (config.MAX_LEVERAGE / total_weight) for t, w in weights.items()}\n",
    "\n",
    "        # 3. Tạo lệnh mua và gói kèm dữ liệu SL\n",
    "        for ticker in new_signals.index:\n",
    "            if ticker in weights:\n",
    "                estimated_price = daily_data_today.loc[ticker, 'close']\n",
    "                target_value = weights[ticker] * nav_eod\n",
    "                quantity = int(target_value / estimated_price)\n",
    "                \n",
    "                if quantity > 0:\n",
    "                    # Gói dữ liệu cần thiết để tính SL vào lệnh mua\n",
    "                    sl_data_package = {\n",
    "                        'ath': daily_data_today.loc[ticker, 'ath'],\n",
    "                        'atr': daily_data_today.loc[ticker, 'atr'],\n",
    "                        'close': daily_data_today.loc[ticker, 'close']\n",
    "                    }\n",
    "                    buy_list[ticker] = {\n",
    "                        'quantity': quantity,\n",
    "                        'sl_data': sl_data_package\n",
    "                    }\n",
    "        \n",
    "        # C. Cập nhật trailing stop-loss cho các vị thế hiện tại\n",
    "        for ticker in current_holdings:\n",
    "            if ticker in daily_data_today.index:\n",
    "                data_row = daily_data_today.loc[ticker]\n",
    "                new_sl_candidate = data_row['ath'] * ((1 - data_row['atr'] / data_row['close']) ** config.ATR_MULTIPLIER)\n",
    "                \n",
    "                if new_sl_candidate > portfolio.stop_losses.get(ticker, 0):\n",
    "                    portfolio.stop_losses[ticker] = new_sl_candidate\n",
    "\n",
    "    return pd.DataFrame(portfolio.history).set_index('date')\n"
   ]
  },
  {
   "cell_type": "code",
   "execution_count": 10,
   "id": "34a278ce",
   "metadata": {},
   "outputs": [
    {
     "name": "stdout",
     "output_type": "stream",
     "text": [
      "Bắt đầu đọc và xử lý dữ liệu...\n"
     ]
    },
    {
     "name": "stderr",
     "output_type": "stream",
     "text": [
      "Đang xử lý các mã CP:   0%|                                                                                                     | 0/1686 [00:00<?, ?it/s]"
     ]
    },
    {
     "name": "stderr",
     "output_type": "stream",
     "text": [
      "Đang xử lý các mã CP: 100%|██████████████████████████████████████████████████████████████████████████████████████████| 1686/1686 [01:03<00:00, 26.71it/s]\n"
     ]
    },
    {
     "name": "stdout",
     "output_type": "stream",
     "text": [
      "\n",
      "Xử lý dữ liệu hoàn tất. Tổng cộng 1686 mã cổ phiếu.\n",
      "Dữ liệu từ 2000-07-28 đến 2025-09-12.\n"
     ]
    }
   ],
   "source": [
    "# ==============================================================================\n",
    "# BƯỚC 5: CHẠY CHƯƠNG TRÌNH\n",
    "# ==============================================================================\n",
    "DATA_PATH = '/mnt/c/Users/HOME/Downloads/TF-algo-trading/processed_stock_history_backup'\n",
    "config = StrategyConfig()\n",
    "\n",
    "# Chạy một lần để chuẩn bị dữ liệu\n",
    "full_data = load_and_prepare_data(DATA_PATH, config)\n",
    "# full_data_backup = full_data.copy()"
   ]
  },
  {
   "cell_type": "code",
   "execution_count": 11,
   "id": "aa5ee44a",
   "metadata": {},
   "outputs": [
    {
     "name": "stdout",
     "output_type": "stream",
     "text": [
      "\n",
      "Bắt đầu quá trình backtest...\n"
     ]
    },
    {
     "name": "stderr",
     "output_type": "stream",
     "text": [
      "Đang mô phỏng giao dịch:   0%|                                                                                                  | 0/6124 [00:00<?, ?it/s]"
     ]
    },
    {
     "name": "stdout",
     "output_type": "stream",
     "text": [
      "\n",
      "--- Ngày: 2000-07-28 ---\n",
      "NAV: 100,000,000 VND | Tiền mặt: 100,000,000 VND | CP: 0\n"
     ]
    },
    {
     "name": "stderr",
     "output_type": "stream",
     "text": [
      "Đang mô phỏng giao dịch:   3%|██▎                                                                                    | 160/6124 [00:00<00:15, 388.90it/s]"
     ]
    },
    {
     "name": "stdout",
     "output_type": "stream",
     "text": [
      "\n",
      "--- Ngày: 2001-03-30 ---\n",
      "NAV: 100,000,000 VND | Tiền mặt: 100,000,000 VND | CP: 0\n",
      "\n",
      "--- Ngày: 2001-11-23 ---\n",
      "NAV: 100,000,000 VND | Tiền mặt: 100,000,000 VND | CP: 0\n"
     ]
    },
    {
     "name": "stderr",
     "output_type": "stream",
     "text": [
      "Đang mô phỏng giao dịch:   6%|█████▍                                                                                 | 380/6124 [00:01<00:11, 499.29it/s]"
     ]
    },
    {
     "name": "stdout",
     "output_type": "stream",
     "text": [
      "\n",
      "--- Ngày: 2002-05-30 ---\n",
      "NAV: 100,000,000 VND | Tiền mặt: 100,000,000 VND | CP: 0\n",
      "\n",
      "--- Ngày: 2002-10-18 ---\n",
      "NAV: 100,000,000 VND | Tiền mặt: 100,000,000 VND | CP: 0\n"
     ]
    },
    {
     "name": "stderr",
     "output_type": "stream",
     "text": [
      "Đang mô phỏng giao dịch:   9%|████████▏                                                                              | 573/6124 [00:01<00:14, 378.37it/s]"
     ]
    },
    {
     "name": "stdout",
     "output_type": "stream",
     "text": [
      "\n",
      "--- Ngày: 2003-03-20 ---\n",
      "NAV: 100,000,000 VND | Tiền mặt: 100,000,000 VND | CP: 0\n",
      "\n",
      "--- Ngày: 2003-08-12 ---\n",
      "NAV: 100,000,000 VND | Tiền mặt: 100,000,000 VND | CP: 0\n"
     ]
    },
    {
     "name": "stderr",
     "output_type": "stream",
     "text": [
      "Đang mô phỏng giao dịch:  12%|██████████▌                                                                            | 741/6124 [00:02<00:20, 268.83it/s]"
     ]
    },
    {
     "name": "stdout",
     "output_type": "stream",
     "text": [
      "\n",
      "--- Ngày: 2004-01-05 ---\n",
      "NAV: 100,000,000 VND | Tiền mặt: 100,000,000 VND | CP: 0\n"
     ]
    },
    {
     "name": "stderr",
     "output_type": "stream",
     "text": [
      "Đang mô phỏng giao dịch:  13%|███████████▎                                                                           | 796/6124 [00:02<00:15, 339.13it/s]"
     ]
    },
    {
     "name": "stdout",
     "output_type": "stream",
     "text": [
      "\n",
      "--- Ngày: 2004-06-03 ---\n",
      "NAV: 100,000,000 VND | Tiền mặt: 100,000,000 VND | CP: 0\n"
     ]
    },
    {
     "name": "stderr",
     "output_type": "stream",
     "text": [
      "Đang mô phỏng giao dịch:  15%|█████████████▍                                                                         | 943/6124 [00:03<00:21, 236.83it/s]"
     ]
    },
    {
     "name": "stdout",
     "output_type": "stream",
     "text": [
      "\n",
      "--- Ngày: 2004-10-25 ---\n",
      "NAV: 100,000,000 VND | Tiền mặt: 100,000,000 VND | CP: 0\n"
     ]
    },
    {
     "name": "stderr",
     "output_type": "stream",
     "text": [
      "Đang mô phỏng giao dịch:  17%|███████████████                                                                       | 1070/6124 [00:03<00:17, 296.21it/s]"
     ]
    },
    {
     "name": "stdout",
     "output_type": "stream",
     "text": [
      "\n",
      "--- Ngày: 2005-03-17 ---\n",
      "NAV: 100,000,000 VND | Tiền mặt: 100,000,000 VND | CP: 0\n",
      "\n",
      "--- Ngày: 2005-08-03 ---\n",
      "NAV: 100,000,000 VND | Tiền mặt: 100,000,000 VND | CP: 0\n"
     ]
    },
    {
     "name": "stderr",
     "output_type": "stream",
     "text": [
      "Đang mô phỏng giao dịch:  21%|█████████████████▉                                                                    | 1275/6124 [00:03<00:11, 434.71it/s]"
     ]
    },
    {
     "name": "stdout",
     "output_type": "stream",
     "text": [
      "\n",
      "--- Ngày: 2005-12-19 ---\n",
      "NAV: 100,000,000 VND | Tiền mặt: 100,000,000 VND | CP: 0\n",
      "  > MUA 12 BBC @ 26,080 VND\n",
      "  > MUA 21 TYA @ 16,080 VND\n",
      "\n",
      "--- Ngày: 2006-05-17 ---\n",
      "NAV: 100,118,219 VND | Tiền mặt: 99,348,059 VND | CP: 2\n"
     ]
    },
    {
     "name": "stderr",
     "output_type": "stream",
     "text": [
      "Đang mô phỏng giao dịch:  22%|███████████████████                                                                   | 1361/6124 [00:04<00:13, 343.76it/s]"
     ]
    },
    {
     "name": "stdout",
     "output_type": "stream",
     "text": [
      "  > BÁN 12 BBC @ 25,870 VND\n",
      "  > BÁN 21 TYA @ 16,050 VND\n"
     ]
    },
    {
     "name": "stderr",
     "output_type": "stream",
     "text": [
      "Đang mô phỏng giao dịch:  23%|████████████████████                                                                  | 1432/6124 [00:04<00:16, 293.23it/s]"
     ]
    },
    {
     "name": "stdout",
     "output_type": "stream",
     "text": [
      "  > MUA 28 GMD @ 16,510 VND\n",
      "\n",
      "--- Ngày: 2006-10-05 ---\n",
      "NAV: 100,005,842 VND | Tiền mặt: 99,530,402 VND | CP: 1\n",
      "  > MUA 25 SAM @ 16,170 VND\n"
     ]
    },
    {
     "name": "stderr",
     "output_type": "stream",
     "text": [
      "Đang mô phỏng giao dịch:  24%|████████████████████▉                                                                 | 1490/6124 [00:04<00:18, 245.10it/s]"
     ]
    },
    {
     "name": "stdout",
     "output_type": "stream",
     "text": [
      "  > MUA 33 PPC @ 10,970 VND\n",
      "  > MUA 29 STB @ 13,450 VND\n",
      "  > MUA 26 CII @ 10,250 VND\n",
      "  > MUA 27 BMP @ 10,600 VND\n",
      "[WARNING] Mã PPC (holding): không tìm thấy trong thông tin giá của ngày hiện tại.\n",
      "[WARNING] Mã PPC (tín hiệu mua): không tìm thấy trong thông tin giá của ngày hiện tại.\n",
      "  > MUA 19 ITA @ 17,990 VND\n",
      "[WARNING] Mã PPC (holding): không tìm thấy trong thông tin giá của ngày hiện tại.\n",
      "[WARNING] Mã PPC (tín hiệu mua): không tìm thấy trong thông tin giá của ngày hiện tại.\n",
      "[WARNING] Mã PPC (holding): không tìm thấy trong thông tin giá của ngày hiện tại.\n",
      "[WARNING] Mã PPC (tín hiệu mua): không tìm thấy trong thông tin giá của ngày hiện tại.\n",
      "[WARNING] Mã PPC (holding): không tìm thấy trong thông tin giá của ngày hiện tại.\n",
      "[WARNING] Mã PPC (tín hiệu mua): không tìm thấy trong thông tin giá của ngày hiện tại.\n",
      "[WARNING] Mã PPC (holding): không tìm thấy trong thông tin giá của ngày hiện tại.\n",
      "[WARNING] Mã PPC (tín hiệu mua): không tìm thấy trong thông tin giá của ngày hiện tại.\n",
      "[WARNING] Mã PPC (holding): không tìm thấy trong thông tin giá của ngày hiện tại.\n",
      "[WARNING] Mã PPC (tín hiệu mua): không tìm thấy trong thông tin giá của ngày hiện tại.\n",
      "  > MUA 27 REE @ 9,680 VND\n",
      "[WARNING] Mã PPC (holding): không tìm thấy trong thông tin giá của ngày hiện tại.\n",
      "[WARNING] Mã PPC (tín hiệu mua): không tìm thấy trong thông tin giá của ngày hiện tại.\n",
      "[WARNING] Mã PPC (holding): không tìm thấy trong thông tin giá của ngày hiện tại.\n",
      "[WARNING] Mã PPC (tín hiệu mua): không tìm thấy trong thông tin giá của ngày hiện tại.\n",
      "[WARNING] Mã PPC (holding): không tìm thấy trong thông tin giá của ngày hiện tại.\n",
      "[WARNING] Mã PPC (tín hiệu mua): không tìm thấy trong thông tin giá của ngày hiện tại.\n",
      "  > MUA 8 BBC @ 34,280 VND\n",
      "[WARNING] Mã PPC (holding): không tìm thấy trong thông tin giá của ngày hiện tại.\n",
      "[WARNING] Mã PPC (tín hiệu mua): không tìm thấy trong thông tin giá của ngày hiện tại.\n",
      "  > MUA 9 BCC @ 21,310 VND\n",
      "  > MUA 7 TTP @ 43,960 VND\n",
      "  > MUA 7 BTS @ 29,220 VND\n",
      "  > MUA 6 PVD @ 45,600 VND\n",
      "  > MUA 15 FPT @ 16,390 VND\n",
      "  > MUA 23 PGC @ 10,470 VND\n",
      "  > MUA 9 VIP @ 23,890 VND\n"
     ]
    },
    {
     "name": "stderr",
     "output_type": "stream",
     "text": [
      "Đang mô phỏng giao dịch:  25%|█████████████████████▎                                                                | 1516/6124 [00:05<00:23, 197.75it/s]"
     ]
    },
    {
     "name": "stdout",
     "output_type": "stream",
     "text": [
      "  > MUA 6 ICF @ 27,870 VND\n",
      "  > MUA 10 DCT @ 29,900 VND\n",
      "\n",
      "--- Ngày: 2007-03-05 ---\n",
      "NAV: 101,981,408 VND | Tiền mặt: 94,788,978 VND | CP: 18\n",
      "  > MUA 3 HNM @ 65,970 VND\n",
      "  > MUA 23 SSI @ 11,350 VND\n",
      "[WARNING] Mã ICF (holding): không tìm thấy trong thông tin giá của ngày hiện tại.\n",
      "[WARNING] Mã ICF (tín hiệu mua): không tìm thấy trong thông tin giá của ngày hiện tại.\n",
      "[WARNING] Mã ICF (holding): không tìm thấy trong thông tin giá của ngày hiện tại.\n",
      "[WARNING] Mã ICF (tín hiệu mua): không tìm thấy trong thông tin giá của ngày hiện tại.\n",
      "[WARNING] Mã ICF (holding): không tìm thấy trong thông tin giá của ngày hiện tại.\n",
      "[WARNING] Mã ICF (tín hiệu mua): không tìm thấy trong thông tin giá của ngày hiện tại.\n",
      "[WARNING] Mã ICF (holding): không tìm thấy trong thông tin giá của ngày hiện tại.\n",
      "[WARNING] Mã ICF (tín hiệu mua): không tìm thấy trong thông tin giá của ngày hiện tại.\n",
      "[WARNING] Mã ICF (holding): không tìm thấy trong thông tin giá của ngày hiện tại.\n",
      "[WARNING] Mã ICF (tín hiệu mua): không tìm thấy trong thông tin giá của ngày hiện tại.\n",
      "  > BÁN 10 DCT @ 30,280 VND\n",
      "[WARNING] Mã ICF (holding): không tìm thấy trong thông tin giá của ngày hiện tại.\n",
      "[WARNING] Mã ICF (tín hiệu mua): không tìm thấy trong thông tin giá của ngày hiện tại.\n",
      "[WARNING] Mã ICF (holding): không tìm thấy trong thông tin giá của ngày hiện tại.\n",
      "[WARNING] Mã ICF (tín hiệu mua): không tìm thấy trong thông tin giá của ngày hiện tại.\n",
      "  > BÁN 23 PGC @ 8,550 VND\n",
      "[WARNING] Mã ICF (holding): không tìm thấy trong thông tin giá của ngày hiện tại.\n",
      "[WARNING] Mã ICF (tín hiệu mua): không tìm thấy trong thông tin giá của ngày hiện tại.\n",
      "[WARNING] Mã ICF (holding): không tìm thấy trong thông tin giá của ngày hiện tại.\n",
      "[WARNING] Mã ICF (tín hiệu mua): không tìm thấy trong thông tin giá của ngày hiện tại.\n",
      "[WARNING] Mã ICF (holding): không tìm thấy trong thông tin giá của ngày hiện tại.\n",
      "[WARNING] Mã ICF (tín hiệu mua): không tìm thấy trong thông tin giá của ngày hiện tại.\n",
      "[WARNING] Mã ICF (holding): không tìm thấy trong thông tin giá của ngày hiện tại.\n",
      "[WARNING] Mã ICF (tín hiệu mua): không tìm thấy trong thông tin giá của ngày hiện tại.\n",
      "[WARNING] Mã ICF (holding): không tìm thấy trong thông tin giá của ngày hiện tại.\n",
      "[WARNING] Mã ICF (tín hiệu mua): không tìm thấy trong thông tin giá của ngày hiện tại.\n",
      "[WARNING] Mã ICF (holding): không tìm thấy trong thông tin giá của ngày hiện tại.\n",
      "[WARNING] Mã ICF (tín hiệu mua): không tìm thấy trong thông tin giá của ngày hiện tại.\n",
      "[WARNING] Mã ICF (holding): không tìm thấy trong thông tin giá của ngày hiện tại.\n",
      "[WARNING] Mã ICF (tín hiệu mua): không tìm thấy trong thông tin giá của ngày hiện tại.\n",
      "[WARNING] Mã ICF (holding): không tìm thấy trong thông tin giá của ngày hiện tại.\n"
     ]
    },
    {
     "name": "stderr",
     "output_type": "stream",
     "text": [
      "Đang mô phỏng giao dịch:  25%|█████████████████████▉                                                                | 1558/6124 [00:05<00:25, 179.66it/s]"
     ]
    },
    {
     "name": "stdout",
     "output_type": "stream",
     "text": [
      "[WARNING] Mã ICF (tín hiệu mua): không tìm thấy trong thông tin giá của ngày hiện tại.\n",
      "[WARNING] Mã ICF (holding): không tìm thấy trong thông tin giá của ngày hiện tại.\n",
      "[WARNING] Mã ICF (tín hiệu mua): không tìm thấy trong thông tin giá của ngày hiện tại.\n",
      "[WARNING] Mã ICF (holding): không tìm thấy trong thông tin giá của ngày hiện tại.\n",
      "[WARNING] Mã ICF (tín hiệu mua): không tìm thấy trong thông tin giá của ngày hiện tại.\n",
      "[WARNING] Mã ICF (holding): không tìm thấy trong thông tin giá của ngày hiện tại.\n",
      "[WARNING] Mã ICF (tín hiệu mua): không tìm thấy trong thông tin giá của ngày hiện tại.\n",
      "[WARNING] Mã ICF (holding): không tìm thấy trong thông tin giá của ngày hiện tại.\n",
      "[WARNING] Mã ICF (tín hiệu mua): không tìm thấy trong thông tin giá của ngày hiện tại.\n",
      "  > BÁN 8 BBC @ 34,950 VND\n",
      "[WARNING] Mã ICF (holding): không tìm thấy trong thông tin giá của ngày hiện tại.\n",
      "[WARNING] Mã ICF (tín hiệu mua): không tìm thấy trong thông tin giá của ngày hiện tại.\n",
      "  > BÁN 26 CII @ 10,240 VND\n",
      "[WARNING] Mã ICF (holding): không tìm thấy trong thông tin giá của ngày hiện tại.\n",
      "[WARNING] Mã ICF (tín hiệu mua): không tìm thấy trong thông tin giá của ngày hiện tại.\n",
      "  > BÁN 6 PVD @ 33,540 VND\n",
      "[WARNING] Mã ICF (holding): không tìm thấy trong thông tin giá của ngày hiện tại.\n",
      "[WARNING] Mã ICF (tín hiệu mua): không tìm thấy trong thông tin giá của ngày hiện tại.\n",
      "[WARNING] Mã ICF (holding): không tìm thấy trong thông tin giá của ngày hiện tại.\n",
      "[WARNING] Mã ICF (tín hiệu mua): không tìm thấy trong thông tin giá của ngày hiện tại.\n",
      "[WARNING] Mã ICF (holding): không tìm thấy trong thông tin giá của ngày hiện tại.\n",
      "[WARNING] Mã ICF (tín hiệu mua): không tìm thấy trong thông tin giá của ngày hiện tại.\n",
      "  > BÁN 15 FPT @ 11,350 VND\n",
      "[WARNING] Mã ICF (holding): không tìm thấy trong thông tin giá của ngày hiện tại.\n",
      "[WARNING] Mã ICF (tín hiệu mua): không tìm thấy trong thông tin giá của ngày hiện tại.\n",
      "  > BÁN 7 TTP @ 40,760 VND\n",
      "  > BÁN 9 VIP @ 20,550 VND\n",
      "[WARNING] Mã ICF (holding): không tìm thấy trong thông tin giá của ngày hiện tại.\n",
      "[WARNING] Mã ICF (tín hiệu mua): không tìm thấy trong thông tin giá của ngày hiện tại.\n",
      "  > BÁN 28 GMD @ 29,780 VND\n",
      "  > BÁN 27 BMP @ 8,920 VND\n",
      "  > BÁN 27 REE @ 11,700 VND\n",
      "[WARNING] Mã ICF (holding): không tìm thấy trong thông tin giá của ngày hiện tại.\n",
      "[WARNING] Mã ICF (tín hiệu mua): không tìm thấy trong thông tin giá của ngày hiện tại.\n",
      "[WARNING] Mã ICF (holding): không tìm thấy trong thông tin giá của ngày hiện tại.\n",
      "[WARNING] Mã ICF (tín hiệu mua): không tìm thấy trong thông tin giá của ngày hiện tại.\n",
      "[WARNING] Mã ICF (holding): không tìm thấy trong thông tin giá của ngày hiện tại.\n",
      "[WARNING] Mã ICF (tín hiệu mua): không tìm thấy trong thông tin giá của ngày hiện tại.\n",
      "[WARNING] Mã ICF (holding): không tìm thấy trong thông tin giá của ngày hiện tại.\n",
      "[WARNING] Mã ICF (tín hiệu mua): không tìm thấy trong thông tin giá của ngày hiện tại.\n",
      "[INFO] Mã PPC có volatility trong n ngày không hợp lệ.\n",
      "  > MUA 9 SJS @ 27,580 VND\n",
      "[INFO] Mã PPC có volatility trong n ngày không hợp lệ.\n",
      "[INFO] Mã PPC có volatility trong n ngày không hợp lệ.\n",
      "[INFO] Mã PPC có volatility trong n ngày không hợp lệ.\n",
      "[INFO] Mã PPC có volatility trong n ngày không hợp lệ.\n",
      "[INFO] Mã PPC có volatility trong n ngày không hợp lệ.\n",
      "[INFO] Mã PPC có volatility trong n ngày không hợp lệ.\n",
      "[INFO] Mã PPC có volatility trong n ngày không hợp lệ.\n",
      "[INFO] Mã PPC có volatility trong n ngày không hợp lệ.\n",
      "[INFO] Mã PPC có volatility trong n ngày không hợp lệ.\n",
      "[INFO] Mã PPC có volatility trong n ngày không hợp lệ.\n",
      "[INFO] Mã PPC có volatility trong n ngày không hợp lệ.\n",
      "  > BÁN 25 SAM @ 23,370 VND\n",
      "  > BÁN 6 ICF @ 26,420 VND\n",
      "[INFO] Mã PPC có volatility trong n ngày không hợp lệ.\n",
      "[INFO] Mã PPC có volatility trong n ngày không hợp lệ.\n",
      "[INFO] Mã PPC có volatility trong n ngày không hợp lệ.\n",
      "[INFO] Mã PPC có volatility trong n ngày không hợp lệ.\n",
      "[INFO] Mã PPC có volatility trong n ngày không hợp lệ.\n",
      "  > BÁN 3 HNM @ 37,510 VND\n",
      "[INFO] Mã PPC có volatility trong n ngày không hợp lệ.\n"
     ]
    },
    {
     "name": "stderr",
     "output_type": "stream",
     "text": [
      "Đang mô phỏng giao dịch:  26%|██████████████████████▌                                                               | 1605/6124 [00:05<00:22, 202.99it/s]"
     ]
    },
    {
     "name": "stdout",
     "output_type": "stream",
     "text": [
      "[INFO] Mã PPC có volatility trong n ngày không hợp lệ.\n",
      "[INFO] Mã PPC có volatility trong n ngày không hợp lệ.\n",
      "  > BÁN 29 STB @ 23,100 VND\n",
      "  > BÁN 33 PPC @ 15,120 VND\n",
      "\n",
      "--- Ngày: 2007-07-27 ---\n",
      "NAV: 100,755,838 VND | Tiền mặt: 99,366,268 VND | CP: 5\n",
      "  > BÁN 9 SJS @ 29,380 VND\n",
      "  > BÁN 9 BCC @ 19,520 VND\n"
     ]
    },
    {
     "name": "stderr",
     "output_type": "stream",
     "text": [
      "Đang mô phỏng giao dịch:  28%|███████████████████████▋                                                              | 1686/6124 [00:05<00:18, 236.53it/s]"
     ]
    },
    {
     "name": "stdout",
     "output_type": "stream",
     "text": [
      "  > MUA 28 PPC @ 16,330 VND\n",
      "  > MUA 20 VSH @ 14,490 VND\n",
      "  > MUA 9 VNE @ 29,840 VND\n",
      "[WARNING] Mã SSI (holding): không tìm thấy trong thông tin giá của ngày hiện tại.\n",
      "[WARNING] Mã SSI (tín hiệu mua): không tìm thấy trong thông tin giá của ngày hiện tại.\n",
      "[WARNING] Mã SSI (holding): không tìm thấy trong thông tin giá của ngày hiện tại.\n",
      "[WARNING] Mã SSI (tín hiệu mua): không tìm thấy trong thông tin giá của ngày hiện tại.\n",
      "[WARNING] Mã SSI (holding): không tìm thấy trong thông tin giá của ngày hiện tại.\n",
      "[WARNING] Mã SSI (tín hiệu mua): không tìm thấy trong thông tin giá của ngày hiện tại.\n",
      "[WARNING] Mã SSI (holding): không tìm thấy trong thông tin giá của ngày hiện tại.\n",
      "[WARNING] Mã SSI (tín hiệu mua): không tìm thấy trong thông tin giá của ngày hiện tại.\n",
      "[WARNING] Mã SSI (holding): không tìm thấy trong thông tin giá của ngày hiện tại.\n",
      "[WARNING] Mã SSI (tín hiệu mua): không tìm thấy trong thông tin giá của ngày hiện tại.\n",
      "[WARNING] Mã SSI (holding): không tìm thấy trong thông tin giá của ngày hiện tại.\n",
      "[WARNING] Mã SSI (tín hiệu mua): không tìm thấy trong thông tin giá của ngày hiện tại.\n",
      "[WARNING] Mã SSI (holding): không tìm thấy trong thông tin giá của ngày hiện tại.\n",
      "[WARNING] Mã SSI (tín hiệu mua): không tìm thấy trong thông tin giá của ngày hiện tại.\n",
      "[WARNING] Mã SSI (holding): không tìm thấy trong thông tin giá của ngày hiện tại.\n",
      "[WARNING] Mã SSI (tín hiệu mua): không tìm thấy trong thông tin giá của ngày hiện tại.\n",
      "[WARNING] Mã SSI (holding): không tìm thấy trong thông tin giá của ngày hiện tại.\n",
      "[WARNING] Mã SSI (tín hiệu mua): không tìm thấy trong thông tin giá của ngày hiện tại.\n",
      "[WARNING] Mã SSI (holding): không tìm thấy trong thông tin giá của ngày hiện tại.\n",
      "[WARNING] Mã SSI (tín hiệu mua): không tìm thấy trong thông tin giá của ngày hiện tại.\n",
      "  > BÁN 7 BTS @ 27,180 VND\n",
      "  > BÁN 20 VSH @ 10,810 VND\n",
      "\n",
      "--- Ngày: 2007-12-17 ---\n",
      "NAV: 100,662,067 VND | Tiền mặt: 99,192,657 VND | CP: 4\n"
     ]
    },
    {
     "name": "stderr",
     "output_type": "stream",
     "text": [
      "Đang mô phỏng giao dịch:  28%|████████████████████████▎                                                             | 1734/6124 [00:06<00:20, 210.04it/s]"
     ]
    },
    {
     "name": "stdout",
     "output_type": "stream",
     "text": [
      "  > BÁN 9 VNE @ 23,790 VND\n",
      "  > BÁN 23 SSI @ 12,660 VND\n",
      "  > BÁN 28 PPC @ 12,700 VND\n",
      "  > BÁN 19 ITA @ 25,340 VND\n"
     ]
    },
    {
     "name": "stderr",
     "output_type": "stream",
     "text": [
      "Đang mô phỏng giao dịch:  30%|█████████████████████████▊                                                            | 1840/6124 [00:06<00:15, 285.20it/s]"
     ]
    },
    {
     "name": "stdout",
     "output_type": "stream",
     "text": [
      "\n",
      "--- Ngày: 2008-05-22 ---\n",
      "NAV: 100,530,980 VND | Tiền mặt: 100,530,980 VND | CP: 0\n"
     ]
    },
    {
     "name": "stderr",
     "output_type": "stream",
     "text": [
      "Đang mô phỏng giao dịch:  32%|███████████████████████████▏                                                          | 1939/6124 [00:06<00:11, 352.20it/s]"
     ]
    },
    {
     "name": "stdout",
     "output_type": "stream",
     "text": [
      "\n",
      "--- Ngày: 2008-10-13 ---\n",
      "NAV: 100,530,980 VND | Tiền mặt: 100,530,980 VND | CP: 0\n"
     ]
    },
    {
     "name": "stderr",
     "output_type": "stream",
     "text": [
      "Đang mô phỏng giao dịch:  33%|████████████████████████████▋                                                         | 2047/6124 [00:06<00:13, 301.00it/s]"
     ]
    },
    {
     "name": "stdout",
     "output_type": "stream",
     "text": [
      "\n",
      "--- Ngày: 2009-03-10 ---\n",
      "NAV: 100,530,980 VND | Tiền mặt: 100,530,980 VND | CP: 0\n",
      "  > MUA 15 HAG @ 20,910 VND\n",
      "  > MUA 26 LCG @ 10,280 VND\n",
      "  > MUA 30 NBB @ 10,850 VND\n",
      "  > MUA 20 PVG @ 10,840 VND\n",
      "  > MUA 18 VST @ 13,560 VND\n",
      "  > MUA 15 VCG @ 13,180 VND\n",
      "  > MUA 11 BLF @ 17,820 VND\n",
      "  > MUA 7 STL @ 24,800 VND\n",
      "  > MUA 11 HLA @ 22,070 VND\n"
     ]
    },
    {
     "name": "stderr",
     "output_type": "stream",
     "text": [
      "Đang mô phỏng giao dịch:  34%|█████████████████████████████▌                                                        | 2109/6124 [00:07<00:16, 240.89it/s]"
     ]
    },
    {
     "name": "stdout",
     "output_type": "stream",
     "text": [
      "  > BÁN 26 LCG @ 9,540 VND\n",
      "  > BÁN 11 BLF @ 11,360 VND\n",
      "  > BÁN 11 HLA @ 16,080 VND\n",
      "  > BÁN 20 PVG @ 7,390 VND\n",
      "  > BÁN 15 VCG @ 8,460 VND\n",
      "\n",
      "--- Ngày: 2009-07-31 ---\n",
      "NAV: 100,240,562 VND | Tiền mặt: 99,171,332 VND | CP: 4\n",
      "  > MUA 10 HLA @ 24,730 VND\n"
     ]
    },
    {
     "name": "stderr",
     "output_type": "stream",
     "text": [
      "Đang mô phỏng giao dịch:  35%|█████████████████████████████▉                                                        | 2135/6124 [00:07<00:19, 200.96it/s]"
     ]
    },
    {
     "name": "stdout",
     "output_type": "stream",
     "text": [
      "  > MUA 24 LSS @ 12,190 VND\n",
      "  > MUA 19 PVG @ 13,160 VND\n",
      "  > MUA 17 VCG @ 14,520 VND\n",
      "  > MUA 15 CNT @ 18,350 VND\n",
      "  > MUA 15 UNI @ 17,630 VND\n",
      "  > MUA 24 VGS @ 10,660 VND\n",
      "  > MUA 16 PVA @ 15,620 VND\n",
      "  > MUA 18 SSM @ 12,430 VND\n",
      "  > MUA 7 KSH @ 44,540 VND\n",
      "  > MUA 41 HOM @ 10,590 VND\n",
      "  > MUA 15 SDP @ 16,920 VND\n",
      "  > MUA 15 ICG @ 18,160 VND\n",
      "  > MUA 18 SD4 @ 14,090 VND\n",
      "  > MUA 15 VC1 @ 15,180 VND\n",
      "  > MUA 34 NBP @ 10,900 VND\n"
     ]
    },
    {
     "name": "stderr",
     "output_type": "stream",
     "text": [
      "Đang mô phỏng giao dịch:  36%|██████████████████████████████▌                                                       | 2178/6124 [00:07<00:21, 184.00it/s]"
     ]
    },
    {
     "name": "stdout",
     "output_type": "stream",
     "text": [
      "  > MUA 13 PVX @ 24,070 VND\n",
      "  > MUA 10 BKC @ 20,590 VND\n",
      "  > MUA 21 CII @ 15,380 VND\n",
      "  > BÁN 15 SDP @ 18,670 VND\n",
      "  > BÁN 34 NBP @ 6,430 VND\n",
      "  > BÁN 7 KSH @ 60,110 VND\n",
      "  > BÁN 24 LSS @ 12,800 VND\n",
      "  > BÁN 15 CNT @ 13,170 VND\n",
      "  > MUA 32 VIC @ 10,060 VND\n",
      "  > BÁN 10 HLA @ 23,970 VND\n",
      "  > BÁN 17 VCG @ 14,970 VND\n",
      "  > BÁN 16 PVA @ 11,610 VND\n",
      "  > BÁN 18 SSM @ 7,490 VND\n",
      "  > BÁN 15 ICG @ 11,410 VND\n",
      "  > BÁN 18 SD4 @ 9,770 VND\n",
      "  > BÁN 15 VC1 @ 10,960 VND\n",
      "  > BÁN 7 STL @ 32,950 VND\n",
      "  > BÁN 15 UNI @ 12,650 VND\n",
      "  > BÁN 13 PVX @ 17,050 VND\n",
      "  > BÁN 15 HAG @ 29,090 VND\n",
      "  > BÁN 18 VST @ 13,420 VND\n",
      "  > BÁN 24 VGS @ 8,970 VND\n",
      "  > BÁN 19 PVG @ 10,200 VND\n",
      "  > BÁN 10 BKC @ 9,930 VND\n",
      "  > BÁN 41 HOM @ 6,350 VND\n",
      "  > BÁN 21 CII @ 10,740 VND\n"
     ]
    },
    {
     "name": "stderr",
     "output_type": "stream",
     "text": [
      "Đang mô phỏng giao dịch:  37%|███████████████████████████████▍                                                      | 2237/6124 [00:08<00:21, 178.66it/s]"
     ]
    },
    {
     "name": "stdout",
     "output_type": "stream",
     "text": [
      "\n",
      "--- Ngày: 2009-12-21 ---\n",
      "NAV: 99,530,030 VND | Tiền mặt: 98,615,810 VND | CP: 2\n",
      "  > MUA 10 PVA @ 22,220 VND\n",
      "  > MUA 10 ITC @ 23,580 VND\n",
      "  > MUA 14 SSM @ 13,530 VND\n"
     ]
    },
    {
     "name": "stderr",
     "output_type": "stream",
     "text": [
      "Đang mô phỏng giao dịch:  37%|███████████████████████████████▉                                                      | 2277/6124 [00:08<00:21, 181.82it/s]"
     ]
    },
    {
     "name": "stdout",
     "output_type": "stream",
     "text": [
      "  > MUA 21 SHN @ 10,940 VND\n",
      "  > MUA 10 HAG @ 41,130 VND\n",
      "  > MUA 23 HUT @ 10,190 VND\n",
      "  > MUA 11 V15 @ 20,120 VND\n",
      "  > MUA 19 TIE @ 16,270 VND\n",
      "  > MUA 2 CNT @ 20,670 VND\n",
      "  > MUA 9 MCG @ 33,100 VND\n",
      "  > MUA 6 DCS @ 35,300 VND\n",
      "  > MUA 19 MAC @ 10,960 VND\n",
      "  > MUA 7 SDU @ 53,720 VND\n",
      "  > MUA 22 TKC @ 11,200 VND\n",
      "  > MUA 16 L44 @ 13,200 VND\n",
      "  > MUA 33 MTG @ 11,280 VND\n",
      "  > MUA 9 PDC @ 24,100 VND\n",
      "  > MUA 24 PGT @ 10,880 VND\n",
      "  > MUA 16 VC9 @ 15,370 VND\n",
      "  > MUA 11 VE1 @ 21,800 VND\n",
      "  > MUA 10 PVX @ 28,660 VND\n"
     ]
    },
    {
     "name": "stderr",
     "output_type": "stream",
     "text": [
      "Đang mô phỏng giao dịch:  38%|████████████████████████████████▌                                                     | 2320/6124 [00:08<00:20, 184.43it/s]"
     ]
    },
    {
     "name": "stdout",
     "output_type": "stream",
     "text": [
      "  > BÁN 6 DCS @ 21,030 VND\n",
      "  > BÁN 9 PDC @ 15,700 VND\n",
      "  > BÁN 10 PVA @ 49,040 VND\n",
      "  > BÁN 14 SSM @ 14,000 VND\n",
      "  > BÁN 19 MAC @ 6,860 VND\n",
      "\n",
      "--- Ngày: 2010-05-21 ---\n",
      "NAV: 99,219,120 VND | Tiền mặt: 94,417,460 VND | CP: 18\n",
      "  > BÁN 21 SHN @ 16,170 VND\n",
      "  > BÁN 9 MCG @ 24,960 VND\n",
      "  > BÁN 22 TKC @ 9,110 VND\n",
      "  > MUA 11 MSN @ 25,990 VND\n",
      "  > MUA 24 VE9 @ 10,850 VND\n",
      "  > MUA 9 VES @ 25,900 VND\n",
      "  > MUA 19 VNG @ 16,740 VND\n",
      "  > MUA 7 GGG @ 25,160 VND\n",
      "  > MUA 4 S96 @ 41,100 VND\n",
      "  > MUA 13 UNI @ 20,750 VND\n",
      "  > MUA 11 SRB @ 16,600 VND\n",
      "  > MUA 14 CTI @ 17,680 VND\n",
      "  > BÁN 10 ITC @ 18,050 VND\n",
      "  > MUA 14 LIG @ 13,050 VND\n",
      "  > MUA 11 DXV @ 21,760 VND\n",
      "  > MUA 15 FDC @ 19,210 VND\n"
     ]
    },
    {
     "name": "stderr",
     "output_type": "stream",
     "text": [
      "Đang mô phỏng giao dịch:  38%|█████████████████████████████████                                                     | 2355/6124 [00:08<00:26, 143.67it/s]"
     ]
    },
    {
     "name": "stdout",
     "output_type": "stream",
     "text": [
      "  > MUA 7 SHN @ 27,750 VND\n",
      "  > MUA 8 HDO @ 18,460 VND\n",
      "  > MUA 10 OGC @ 30,690 VND\n",
      "  > MUA 15 CTC @ 15,580 VND\n",
      "  > MUA 4 MKV @ 40,980 VND\n",
      "  > BÁN 16 VC9 @ 10,800 VND\n",
      "  > BÁN 13 UNI @ 17,510 VND\n",
      "  > BÁN 19 TIE @ 12,240 VND\n",
      "  > BÁN 10 PVX @ 21,090 VND\n"
     ]
    },
    {
     "name": "stderr",
     "output_type": "stream",
     "text": [
      "Đang mô phỏng giao dịch:  39%|█████████████████████████████████▌                                                    | 2391/6124 [00:09<00:23, 157.73it/s]"
     ]
    },
    {
     "name": "stdout",
     "output_type": "stream",
     "text": [
      "  > BÁN 30 NBB @ 27,450 VND\n",
      "  > BÁN 33 MTG @ 11,170 VND\n",
      "  > BÁN 15 FDC @ 18,030 VND\n",
      "  > BÁN 2 CNT @ 15,580 VND\n",
      "  > BÁN 11 SRB @ 16,900 VND\n",
      "  > BÁN 10 HAG @ 34,060 VND\n",
      "  > BÁN 24 VE9 @ 12,320 VND\n",
      "  > BÁN 15 CTC @ 10,340 VND\n",
      "  > BÁN 9 VES @ 20,700 VND\n",
      "  > BÁN 11 DXV @ 15,970 VND\n",
      "  > BÁN 7 SDU @ 45,880 VND\n",
      "  > BÁN 11 VE1 @ 18,000 VND\n",
      "  > BÁN 7 GGG @ 13,860 VND\n",
      "  > BÁN 14 CTI @ 15,240 VND\n",
      "  > BÁN 8 HDO @ 14,470 VND\n",
      "  > BÁN 4 S96 @ 25,040 VND\n",
      "  > BÁN 7 SHN @ 22,310 VND\n",
      "  > BÁN 10 OGC @ 23,750 VND\n",
      "  > BÁN 32 VIC @ 8,600 VND\n",
      "  > MUA 10 AAA @ 19,220 VND\n",
      "  > MUA 19 DTL @ 17,570 VND\n",
      "  > MUA 12 BVH @ 35,940 VND\n",
      "  > BÁN 10 AAA @ 11,550 VND\n",
      "  > BÁN 16 L44 @ 9,400 VND\n",
      "\n",
      "--- Ngày: 2010-10-12 ---\n",
      "NAV: 98,542,490 VND | Tiền mặt: 96,138,360 VND | CP: 9\n"
     ]
    },
    {
     "name": "stderr",
     "output_type": "stream",
     "text": [
      "Đang mô phỏng giao dịch:  39%|█████████████████████████████████▊                                                    | 2408/6124 [00:09<00:32, 115.61it/s]"
     ]
    },
    {
     "name": "stdout",
     "output_type": "stream",
     "text": [
      "  > BÁN 24 PGT @ 7,130 VND\n",
      "  > BÁN 23 HUT @ 9,420 VND\n",
      "  > BÁN 11 V15 @ 16,260 VND\n"
     ]
    },
    {
     "name": "stderr",
     "output_type": "stream",
     "text": [
      "Đang mô phỏng giao dịch:  40%|██████████████████████████████████▏                                                   | 2436/6124 [00:09<00:32, 114.42it/s]"
     ]
    },
    {
     "name": "stdout",
     "output_type": "stream",
     "text": [
      "  > BÁN 14 LIG @ 6,800 VND\n",
      "  > MUA 34 VIC @ 11,460 VND\n",
      "  > BÁN 4 MKV @ 39,150 VND\n",
      "  > MUA 20 DLG @ 19,730 VND\n"
     ]
    },
    {
     "name": "stderr",
     "output_type": "stream",
     "text": [
      "Đang mô phỏng giao dịch:  40%|██████████████████████████████████▊                                                   | 2480/6124 [00:09<00:23, 156.96it/s]"
     ]
    },
    {
     "name": "stdout",
     "output_type": "stream",
     "text": [
      "  > MUA 17 HQC @ 18,420 VND\n",
      "  > MUA 31 VNF @ 10,120 VND\n",
      "  > BÁN 12 BVH @ 52,480 VND\n"
     ]
    },
    {
     "name": "stderr",
     "output_type": "stream",
     "text": [
      "Đang mô phỏng giao dịch:  41%|███████████████████████████████████▍                                                  | 2521/6124 [00:09<00:21, 169.83it/s]"
     ]
    },
    {
     "name": "stdout",
     "output_type": "stream",
     "text": [
      "\n",
      "--- Ngày: 2011-03-10 ---\n",
      "NAV: 98,959,473 VND | Tiền mặt: 96,168,293 VND | CP: 7\n",
      "  > MUA 55 VNM @ 10,450 VND\n"
     ]
    },
    {
     "name": "stderr",
     "output_type": "stream",
     "text": [
      "Đang mô phỏng giao dịch:  42%|████████████████████████████████████▎                                                 | 2588/6124 [00:10<00:17, 202.36it/s]"
     ]
    },
    {
     "name": "stdout",
     "output_type": "stream",
     "text": [
      "  > BÁN 31 VNF @ 5,740 VND\n",
      "  > BÁN 17 HQC @ 16,920 VND\n",
      "  > BÁN 11 MSN @ 45,810 VND\n",
      "  > BÁN 19 DTL @ 15,180 VND\n",
      "  > BÁN 34 VIC @ 15,440 VND\n",
      "  > BÁN 55 VNM @ 8,990 VND\n",
      "  > MUA 12 VIC @ 21,520 VND\n",
      "  > MUA 30 VNM @ 11,660 VND\n"
     ]
    },
    {
     "name": "stderr",
     "output_type": "stream",
     "text": [
      "Đang mô phỏng giao dịch:  43%|█████████████████████████████████████                                                 | 2636/6124 [00:10<00:15, 220.71it/s]"
     ]
    },
    {
     "name": "stdout",
     "output_type": "stream",
     "text": [
      "  > BÁN 20 DLG @ 15,920 VND\n",
      "\n",
      "--- Ngày: 2011-08-03 ---\n",
      "NAV: 98,454,260 VND | Tiền mặt: 97,571,070 VND | CP: 3\n",
      "  > BÁN 12 VIC @ 16,680 VND\n",
      "  > BÁN 19 VNG @ 14,890 VND\n"
     ]
    },
    {
     "name": "stderr",
     "output_type": "stream",
     "text": [
      "Đang mô phỏng giao dịch:  45%|██████████████████████████████████████▌                                               | 2749/6124 [00:10<00:12, 271.41it/s]"
     ]
    },
    {
     "name": "stdout",
     "output_type": "stream",
     "text": [
      "\n",
      "--- Ngày: 2011-12-22 ---\n",
      "NAV: 98,468,191 VND | Tiền mặt: 98,052,691 VND | CP: 1\n",
      "  > MUA 23 FLC @ 10,590 VND\n",
      "  > BÁN 30 VNM @ 11,930 VND\n",
      "  > MUA 48 EIB @ 10,260 VND\n",
      "  > MUA 20 JVC @ 15,100 VND\n",
      "  > BÁN 23 FLC @ 15,490 VND\n"
     ]
    },
    {
     "name": "stderr",
     "output_type": "stream",
     "text": [
      "Đang mô phỏng giao dịch:  46%|███████████████████████████████████████▍                                              | 2804/6124 [00:11<00:13, 250.41it/s]"
     ]
    },
    {
     "name": "stdout",
     "output_type": "stream",
     "text": [
      "  > MUA 29 CTG @ 10,970 VND\n",
      "\n",
      "--- Ngày: 2012-05-23 ---\n",
      "NAV: 98,486,786 VND | Tiền mặt: 97,405,826 VND | CP: 3\n"
     ]
    },
    {
     "name": "stderr",
     "output_type": "stream",
     "text": [
      "Đang mô phỏng giao dịch:  47%|████████████████████████████████████████▏                                             | 2858/6124 [00:11<00:13, 251.19it/s]"
     ]
    },
    {
     "name": "stdout",
     "output_type": "stream",
     "text": [
      "  > BÁN 20 JVC @ 13,900 VND\n",
      "  > BÁN 48 EIB @ 9,880 VND\n",
      "  > BÁN 29 CTG @ 8,970 VND\n"
     ]
    },
    {
     "name": "stderr",
     "output_type": "stream",
     "text": [
      "Đang mô phỏng giao dịch:  48%|████████████████████████████████████████▉                                             | 2915/6124 [00:11<00:13, 237.25it/s]"
     ]
    },
    {
     "name": "stdout",
     "output_type": "stream",
     "text": [
      "  > MUA 22 VNM @ 17,990 VND\n",
      "\n",
      "--- Ngày: 2012-10-11 ---\n",
      "NAV: 98,431,967 VND | Tiền mặt: 98,018,587 VND | CP: 1\n"
     ]
    },
    {
     "name": "stderr",
     "output_type": "stream",
     "text": [
      "Đang mô phỏng giao dịch:  48%|█████████████████████████████████████████▌                                            | 2962/6124 [00:11<00:15, 201.53it/s]"
     ]
    },
    {
     "name": "stdout",
     "output_type": "stream",
     "text": [
      "  > MUA 13 DHM @ 19,880 VND\n",
      "  > MUA 36 SII @ 11,880 VND\n",
      "  > MUA 45 GAS @ 18,290 VND\n",
      "  > BÁN 13 DHM @ 14,700 VND\n",
      "  > MUA 32 CTG @ 11,210 VND\n"
     ]
    },
    {
     "name": "stderr",
     "output_type": "stream",
     "text": [
      "Đang mô phỏng giao dịch:  50%|██████████████████████████████████████████▋                                           | 3037/6124 [00:12<00:13, 226.55it/s]"
     ]
    },
    {
     "name": "stdout",
     "output_type": "stream",
     "text": [
      "\n",
      "--- Ngày: 2013-03-11 ---\n",
      "NAV: 98,561,898 VND | Tiền mặt: 96,337,488 VND | CP: 4\n",
      "  > MUA 8 HAR @ 29,100 VND\n",
      "  > BÁN 32 CTG @ 8,680 VND\n",
      "  > BÁN 8 HAR @ 21,400 VND\n",
      "  > MUA 59 LAS @ 10,160 VND\n",
      "  > MUA 33 DRC @ 10,460 VND\n"
     ]
    },
    {
     "name": "stderr",
     "output_type": "stream",
     "text": [
      "Đang mô phỏng giao dịch:  51%|███████████████████████████████████████████▋                                          | 3108/6124 [00:12<00:13, 218.12it/s]"
     ]
    },
    {
     "name": "stdout",
     "output_type": "stream",
     "text": [
      "  > MUA 24 HVG @ 14,350 VND\n",
      "\n",
      "--- Ngày: 2013-08-02 ---\n",
      "NAV: 99,197,988 VND | Tiền mặt: 95,260,238 VND | CP: 6\n"
     ]
    },
    {
     "name": "stderr",
     "output_type": "stream",
     "text": [
      "Đang mô phỏng giao dịch:  52%|████████████████████████████████████████████▍                                         | 3160/6124 [00:12<00:13, 226.21it/s]"
     ]
    },
    {
     "name": "stdout",
     "output_type": "stream",
     "text": [
      "  > BÁN 24 HVG @ 10,550 VND\n",
      "  > BÁN 59 LAS @ 10,830 VND\n"
     ]
    },
    {
     "name": "stderr",
     "output_type": "stream",
     "text": [
      "Đang mô phỏng giao dịch:  53%|█████████████████████████████████████████████▎                                        | 3227/6124 [00:13<00:14, 205.31it/s]"
     ]
    },
    {
     "name": "stdout",
     "output_type": "stream",
     "text": [
      "\n",
      "--- Ngày: 2013-12-23 ---\n",
      "NAV: 99,183,141 VND | Tiền mặt: 96,149,731 VND | CP: 4\n",
      "  > MUA 36 PXS @ 10,050 VND\n",
      "  > MUA 55 PGS @ 10,550 VND\n",
      "  > MUA 40 FCN @ 10,550 VND\n",
      "  > MUA 37 C32 @ 10,630 VND\n",
      "  > MUA 50 PGD @ 10,220 VND\n",
      "  > MUA 29 GTT @ 15,600 VND\n",
      "  > MUA 53 HVG @ 14,650 VND\n",
      "  > MUA 19 TIE @ 17,760 VND\n"
     ]
    },
    {
     "name": "stderr",
     "output_type": "stream",
     "text": [
      "Đang mô phỏng giao dịch:  53%|█████████████████████████████████████████████▉                                        | 3267/6124 [00:13<00:15, 182.78it/s]"
     ]
    },
    {
     "name": "stdout",
     "output_type": "stream",
     "text": [
      "  > MUA 24 CII @ 15,510 VND\n",
      "  > BÁN 29 GTT @ 11,200 VND\n",
      "  > BÁN 55 PGS @ 9,760 VND\n",
      "  > BÁN 19 TIE @ 13,060 VND\n"
     ]
    },
    {
     "name": "stderr",
     "output_type": "stream",
     "text": [
      "Đang mô phỏng giao dịch:  54%|██████████████████████████████████████████████▊                                       | 3333/6124 [00:13<00:13, 204.92it/s]"
     ]
    },
    {
     "name": "stdout",
     "output_type": "stream",
     "text": [
      "  > BÁN 22 VNM @ 31,080 VND\n",
      "  > BÁN 36 PXS @ 10,840 VND\n",
      "  > BÁN 53 HVG @ 13,050 VND\n",
      "  > BÁN 24 CII @ 11,750 VND\n",
      "  > BÁN 36 SII @ 17,000 VND\n",
      "\n",
      "--- Ngày: 2014-05-28 ---\n",
      "NAV: 99,517,569 VND | Tiền mặt: 95,692,509 VND | CP: 5\n",
      "  > MUA 31 CSM @ 19,210 VND\n"
     ]
    },
    {
     "name": "stderr",
     "output_type": "stream",
     "text": [
      "Đang mô phỏng giao dịch:  55%|███████████████████████████████████████████████▍                                      | 3375/6124 [00:13<00:14, 195.93it/s]"
     ]
    },
    {
     "name": "stdout",
     "output_type": "stream",
     "text": [
      "  > MUA 12 PVD @ 46,530 VND\n",
      "  > MUA 36 PLC @ 10,220 VND\n",
      "  > MUA 22 PXS @ 17,760 VND\n",
      "  > MUA 23 VIC @ 24,690 VND\n",
      "  > MUA 7 PVB @ 36,580 VND\n",
      "  > MUA 28 PGS @ 13,000 VND\n",
      "  > MUA 31 HVG @ 16,970 VND\n",
      "  > MUA 20 PAN @ 21,170 VND\n",
      "  > MUA 31 ASA @ 18,550 VND\n"
     ]
    },
    {
     "name": "stderr",
     "output_type": "stream",
     "text": [
      "Đang mô phỏng giao dịch:  56%|███████████████████████████████████████████████▉                                      | 3413/6124 [00:14<00:17, 150.97it/s]"
     ]
    },
    {
     "name": "stdout",
     "output_type": "stream",
     "text": [
      "  > MUA 25 FIT @ 11,210 VND\n",
      "  > BÁN 31 ASA @ 18,260 VND\n",
      "  > MUA 12 HAI @ 18,180 VND\n",
      "  > MUA 31 VHC @ 12,150 VND\n",
      "\n",
      "--- Ngày: 2014-10-17 ---\n",
      "NAV: 99,781,901 VND | Tiền mặt: 90,745,851 VND | CP: 17\n",
      "  > MUA 29 IVS @ 10,200 VND\n",
      "  > BÁN 22 PXS @ 20,290 VND\n"
     ]
    },
    {
     "name": "stderr",
     "output_type": "stream",
     "text": [
      "Đang mô phỏng giao dịch:  56%|████████████████████████████████████████████████▍                                     | 3452/6124 [00:14<00:15, 167.40it/s]"
     ]
    },
    {
     "name": "stdout",
     "output_type": "stream",
     "text": [
      "  > MUA 17 SRC @ 15,410 VND\n",
      "  > MUA 18 ITQ @ 14,400 VND\n",
      "  > BÁN 45 GAS @ 46,270 VND\n",
      "  > BÁN 12 PVD @ 43,170 VND\n",
      "  > MUA 15 APC @ 20,250 VND\n",
      "  > BÁN 12 HAI @ 14,750 VND\n",
      "  > BÁN 7 PVB @ 30,920 VND\n",
      "  > BÁN 40 FCN @ 12,270 VND\n",
      "  > BÁN 23 VIC @ 20,400 VND\n",
      "  > BÁN 28 PGS @ 10,200 VND\n",
      "  > BÁN 18 ITQ @ 23,920 VND\n",
      "  > BÁN 50 PGD @ 9,870 VND\n",
      "  > BÁN 31 CSM @ 16,170 VND\n",
      "  > BÁN 31 HVG @ 15,390 VND\n",
      "  > BÁN 33 DRC @ 14,580 VND\n",
      "  > BÁN 17 SRC @ 12,710 VND\n",
      "  > BÁN 25 FIT @ 10,310 VND\n",
      "  > MUA 38 VCB @ 10,100 VND\n"
     ]
    },
    {
     "name": "stderr",
     "output_type": "stream",
     "text": [
      "Đang mô phỏng giao dịch:  57%|████████████████████████████████████████████████▉                                     | 3488/6124 [00:14<00:15, 168.05it/s]"
     ]
    },
    {
     "name": "stdout",
     "output_type": "stream",
     "text": [
      "  > MUA 17 KSQ @ 11,300 VND\n",
      "  > MUA 18 JVC @ 20,300 VND\n",
      "  > MUA 36 MWG @ 10,890 VND\n",
      "  > BÁN 17 KSQ @ 7,100 VND\n",
      "  > MUA 29 CTG @ 11,470 VND\n",
      "  > BÁN 20 PAN @ 17,790 VND\n"
     ]
    },
    {
     "name": "stderr",
     "output_type": "stream",
     "text": [
      "Đang mô phỏng giao dịch:  57%|█████████████████████████████████████████████████▏                                    | 3507/6124 [00:14<00:15, 173.40it/s]"
     ]
    },
    {
     "name": "stdout",
     "output_type": "stream",
     "text": [
      "\n",
      "--- Ngày: 2015-03-18 ---\n",
      "NAV: 99,443,999 VND | Tiền mặt: 95,949,019 VND | CP: 9\n",
      "  > BÁN 36 MWG @ 9,820 VND\n"
     ]
    },
    {
     "name": "stderr",
     "output_type": "stream",
     "text": [
      "Đang mô phỏng giao dịch:  58%|█████████████████████████████████████████████████▋                                    | 3540/6124 [00:15<00:24, 107.67it/s]"
     ]
    },
    {
     "name": "stdout",
     "output_type": "stream",
     "text": [
      "  > BÁN 15 APC @ 15,720 VND\n",
      "  > BÁN 31 VHC @ 10,540 VND\n"
     ]
    },
    {
     "name": "stderr",
     "output_type": "stream",
     "text": [
      "Đang mô phỏng giao dịch:  58%|██████████████████████████████████████████████████                                    | 3566/6124 [00:15<00:23, 109.39it/s]"
     ]
    },
    {
     "name": "stdout",
     "output_type": "stream",
     "text": [
      "  > MUA 27 HHS @ 11,460 VND\n",
      "  > MUA 27 DAG @ 10,350 VND\n",
      "  > MUA 42 BID @ 10,140 VND\n",
      "  > BÁN 18 JVC @ 17,300 VND\n",
      "  > MUA 19 CDO @ 16,260 VND\n",
      "  > MUA 16 AMD @ 19,440 VND\n"
     ]
    },
    {
     "name": "stderr",
     "output_type": "stream",
     "text": [
      "Đang mô phỏng giao dịch:  59%|██████████████████████████████████████████████████▌                                   | 3601/6124 [00:15<00:18, 135.32it/s]"
     ]
    },
    {
     "name": "stdout",
     "output_type": "stream",
     "text": [
      "  > BÁN 27 DAG @ 8,730 VND\n",
      "  > MUA 7 KVC @ 25,770 VND\n",
      "  > BÁN 27 HHS @ 8,860 VND\n",
      "  > MUA 21 DPS @ 17,900 VND\n",
      "  > MUA 18 CII @ 17,280 VND\n",
      "  > MUA 31 BIC @ 10,660 VND\n",
      "  > BÁN 21 DPS @ 12,780 VND\n",
      "  > BÁN 16 AMD @ 14,170 VND\n",
      "  > MUA 22 VNM @ 37,320 VND\n",
      "  > MUA 30 PGD @ 12,210 VND\n",
      "  > BÁN 7 KVC @ 20,520 VND\n",
      "\n",
      "--- Ngày: 2015-08-11 ---\n",
      "NAV: 99,387,176 VND | Tiền mặt: 94,255,226 VND | CP: 11\n",
      "  > MUA 16 FID @ 12,070 VND\n"
     ]
    },
    {
     "name": "stderr",
     "output_type": "stream",
     "text": [
      "Đang mô phỏng giao dịch:  59%|███████████████████████████████████████████████████                                   | 3639/6124 [00:15<00:15, 158.62it/s]"
     ]
    },
    {
     "name": "stdout",
     "output_type": "stream",
     "text": [
      "  > BÁN 38 VCB @ 11,490 VND\n",
      "  > BÁN 16 FID @ 10,170 VND\n",
      "  > MUA 15 BMP @ 27,370 VND\n",
      "  > MUA 36 NT2 @ 9,980 VND\n",
      "  > MUA 34 BCG @ 10,550 VND\n",
      "  > MUA 45 PDB @ 10,130 VND\n"
     ]
    },
    {
     "name": "stderr",
     "output_type": "stream",
     "text": [
      "Đang mô phỏng giao dịch:  60%|███████████████████████████████████████████████████▌                                  | 3674/6124 [00:16<00:15, 158.36it/s]"
     ]
    },
    {
     "name": "stdout",
     "output_type": "stream",
     "text": [
      "  > MUA 19 HKB @ 10,170 VND\n",
      "  > MUA 24 PTI @ 13,460 VND\n",
      "  > BÁN 18 CII @ 14,600 VND\n",
      "  > MUA 31 CAV @ 14,230 VND\n",
      "  > MUA 54 KSB @ 10,030 VND\n",
      "  > MUA 25 VCS @ 10,580 VND\n",
      "  > BÁN 42 BID @ 10,870 VND\n",
      "  > BÁN 31 BIC @ 7,990 VND\n",
      "  > MUA 12 DPS @ 17,900 VND\n",
      "  > BÁN 29 CTG @ 11,360 VND\n"
     ]
    },
    {
     "name": "stderr",
     "output_type": "stream",
     "text": [
      "Đang mô phỏng giao dịch:  61%|████████████████████████████████████████████████████                                  | 3709/6124 [00:16<00:17, 141.90it/s]"
     ]
    },
    {
     "name": "stdout",
     "output_type": "stream",
     "text": [
      "  > MUA 42 VSC @ 10,210 VND\n",
      "  > MUA 49 SBT @ 10,710 VND\n",
      "  > BÁN 12 DPS @ 10,610 VND\n",
      "  > MUA 28 DRH @ 11,040 VND\n",
      "  > BÁN 45 PDB @ 8,700 VND\n",
      "\n",
      "--- Ngày: 2015-12-30 ---\n",
      "NAV: 99,669,935 VND | Tiền mặt: 91,634,025 VND | CP: 17\n",
      "  > MUA 11 TNT @ 25,100 VND\n",
      "  > MUA 23 VIC @ 25,390 VND\n",
      "  > BÁN 34 BCG @ 9,130 VND\n",
      "  > BÁN 37 C32 @ 13,000 VND\n"
     ]
    },
    {
     "name": "stderr",
     "output_type": "stream",
     "text": [
      "Đang mô phỏng giao dịch:  61%|████████████████████████████████████████████████████▍                                 | 3738/6124 [00:16<00:19, 122.94it/s]"
     ]
    },
    {
     "name": "stdout",
     "output_type": "stream",
     "text": [
      "  > BÁN 29 IVS @ 14,470 VND\n",
      "  > MUA 19 C32 @ 16,740 VND\n",
      "  > MUA 19 EVE @ 13,390 VND\n",
      "  > MUA 4 VEF @ 34,240 VND\n",
      "  > MUA 23 MBG @ 13,360 VND\n"
     ]
    },
    {
     "name": "stderr",
     "output_type": "stream",
     "text": [
      "Đang mô phỏng giao dịch:  62%|████████████████████████████████████████████████████▉                                 | 3769/6124 [00:16<00:17, 134.73it/s]"
     ]
    },
    {
     "name": "stdout",
     "output_type": "stream",
     "text": [
      "  > MUA 35 VAT @ 10,270 VND\n",
      "  > MUA 21 MSR @ 11,640 VND\n",
      "  > MUA 29 MPT @ 13,570 VND\n",
      "  > BÁN 36 PLC @ 18,110 VND\n",
      "  > BÁN 42 VSC @ 7,700 VND\n",
      "  > BÁN 24 PTI @ 10,910 VND\n",
      "  > MUA 27 VKC @ 11,160 VND\n",
      "  > BÁN 29 MPT @ 10,950 VND\n",
      "  > MUA 40 PDB @ 12,320 VND\n",
      "  > MUA 38 PAC @ 10,940 VND\n"
     ]
    },
    {
     "name": "stderr",
     "output_type": "stream",
     "text": [
      "Đang mô phỏng giao dịch:  62%|█████████████████████████████████████████████████████▎                                | 3795/6124 [00:17<00:21, 107.91it/s]"
     ]
    },
    {
     "name": "stdout",
     "output_type": "stream",
     "text": [
      "  > BÁN 21 MSR @ 13,310 VND\n",
      "  > MUA 44 CVT @ 10,470 VND\n",
      "  > MUA 32 VTV @ 11,620 VND\n",
      "  > MUA 6 TTF @ 35,600 VND\n",
      "\n",
      "--- Ngày: 2016-05-31 ---\n",
      "NAV: 101,819,129 VND | Tiền mặt: 89,529,779 VND | CP: 24\n",
      "  > MUA 32 HSG @ 10,470 VND\n"
     ]
    },
    {
     "name": "stderr",
     "output_type": "stream",
     "text": [
      "Đang mô phỏng giao dịch:  62%|██████████████████████████████████████████████████████▏                                | 3818/6124 [00:17<00:24, 95.31it/s]"
     ]
    },
    {
     "name": "stdout",
     "output_type": "stream",
     "text": [
      "  > MUA 11 RCD @ 10,770 VND\n",
      "  > MUA 44 ITD @ 10,110 VND\n",
      "  > MUA 6 CTD @ 91,050 VND\n",
      "  > BÁN 23 MBG @ 12,350 VND\n",
      "  > MUA 21 FID @ 17,660 VND\n",
      "  > MUA 15 SSN @ 15,500 VND\n",
      "  > BÁN 19 HKB @ 17,800 VND\n",
      "  > MUA 50 CII @ 18,460 VND\n",
      "  > MUA 32 MWG @ 13,080 VND\n",
      "  > BÁN 35 VAT @ 13,360 VND\n",
      "  > MUA 27 BII @ 16,900 VND\n",
      "  > MUA 30 VHC @ 13,580 VND\n"
     ]
    },
    {
     "name": "stderr",
     "output_type": "stream",
     "text": [
      "Đang mô phỏng giao dịch:  63%|█████████████████████████████████████████████████████▉                                | 3841/6124 [00:17<00:22, 101.18it/s]"
     ]
    },
    {
     "name": "stdout",
     "output_type": "stream",
     "text": [
      "  > MUA 22 DCL @ 18,660 VND\n",
      "  > MUA 19 DHA @ 17,160 VND\n",
      "  > MUA 7 HKB @ 26,800 VND\n",
      "  > MUA 18 PNJ @ 25,340 VND\n",
      "  > MUA 29 DRC @ 19,090 VND\n",
      "  > MUA 32 VCB @ 17,540 VND\n",
      "  > BÁN 21 FID @ 14,020 VND\n",
      "  > BÁN 54 KSB @ 20,620 VND\n",
      "  > BÁN 38 PAC @ 13,560 VND\n",
      "  > MUA 45 BIC @ 11,160 VND\n",
      "  > BÁN 19 EVE @ 14,130 VND\n",
      "  > BÁN 6 TTF @ 30,600 VND\n",
      "  > BÁN 28 DRH @ 33,380 VND\n",
      "  > MUA 39 PGI @ 10,100 VND\n",
      "  > BÁN 7 HKB @ 15,700 VND\n",
      "  > MUA 32 ELC @ 12,380 VND\n"
     ]
    },
    {
     "name": "stderr",
     "output_type": "stream",
     "text": [
      "Đang mô phỏng giao dịch:  63%|██████████████████████████████████████████████████████▎                               | 3864/6124 [00:17<00:22, 101.54it/s]"
     ]
    },
    {
     "name": "stdout",
     "output_type": "stream",
     "text": [
      "  > BÁN 4 VEF @ 41,580 VND\n",
      "  > MUA 38 HBC @ 10,210 VND\n",
      "  > BÁN 11 TNT @ 24,200 VND\n",
      "  > MUA 4 DMC @ 65,180 VND\n",
      "  > MUA 18 GIL @ 16,100 VND\n",
      "  > MUA 44 VSC @ 10,420 VND\n",
      "  > MUA 15 KDC @ 28,110 VND\n",
      "  > MUA 21 NTP @ 21,120 VND\n",
      "  > MUA 29 NAF @ 23,270 VND\n"
     ]
    },
    {
     "name": "stderr",
     "output_type": "stream",
     "text": [
      "Đang mô phỏng giao dịch:  64%|██████████████████████████████████████████████████████▋                               | 3898/6124 [00:18<00:21, 105.92it/s]"
     ]
    },
    {
     "name": "stdout",
     "output_type": "stream",
     "text": [
      "  > MUA 9 DHG @ 50,690 VND\n",
      "  > MUA 19 BFC @ 16,990 VND\n",
      "  > MUA 22 SD3 @ 10,500 VND\n",
      "  > MUA 56 HID @ 12,220 VND\n",
      "  > MUA 28 NKG @ 10,280 VND\n",
      "  > MUA 40 VGC @ 11,360 VND\n",
      "  > BÁN 27 BII @ 17,200 VND\n",
      "  > BÁN 22 DCL @ 15,680 VND\n",
      "\n",
      "--- Ngày: 2016-10-19 ---\n",
      "NAV: 104,570,946 VND | Tiền mặt: 81,822,956 VND | CP: 42\n"
     ]
    },
    {
     "name": "stderr",
     "output_type": "stream",
     "text": [
      "Đang mô phỏng giao dịch:  64%|███████████████████████████████████████████████████████                               | 3924/6124 [00:18<00:18, 117.01it/s]"
     ]
    },
    {
     "name": "stdout",
     "output_type": "stream",
     "text": [
      "  > BÁN 27 VKC @ 13,900 VND\n",
      "  > BÁN 44 ITD @ 9,850 VND\n",
      "  > MUA 60 SHP @ 9,710 VND\n",
      "  > BÁN 29 DRC @ 16,050 VND\n",
      "  > MUA 4 ROS @ 63,630 VND\n",
      "  > BÁN 44 VSC @ 8,480 VND\n",
      "  > BÁN 40 PDB @ 11,460 VND\n",
      "  > BÁN 22 VNM @ 64,520 VND\n",
      "  > MUA 45 SIC @ 13,450 VND\n",
      "  > BÁN 36 NT2 @ 13,930 VND\n",
      "  > BÁN 4 DMC @ 55,130 VND\n"
     ]
    },
    {
     "name": "stderr",
     "output_type": "stream",
     "text": [
      "Đang mô phỏng giao dịch:  65%|███████████████████████████████████████████████████████▌                              | 3955/6124 [00:18<00:16, 132.64it/s]"
     ]
    },
    {
     "name": "stdout",
     "output_type": "stream",
     "text": [
      "  > MUA 12 DCL @ 25,060 VND\n",
      "  > BÁN 30 PGD @ 17,860 VND\n",
      "  > BÁN 22 SD3 @ 6,600 VND\n",
      "  > BÁN 19 CDO @ 30,300 VND\n",
      "  > BÁN 32 VCB @ 14,230 VND\n",
      "  > BÁN 18 GIL @ 12,390 VND\n",
      "  > BÁN 45 SIC @ 10,280 VND\n",
      "  > BÁN 44 CVT @ 14,810 VND\n",
      "  > BÁN 31 CAV @ 23,930 VND\n",
      "  > BÁN 19 C32 @ 21,750 VND\n",
      "  > BÁN 19 BFC @ 13,670 VND\n",
      "[WARNING] Mã VGC (holding): không tìm thấy trong thông tin giá của ngày hiện tại.\n",
      "[WARNING] Mã VGC (tín hiệu mua): không tìm thấy trong thông tin giá của ngày hiện tại.\n",
      "[WARNING] Mã VGC (holding): không tìm thấy trong thông tin giá của ngày hiện tại.\n",
      "[WARNING] Mã VGC (tín hiệu mua): không tìm thấy trong thông tin giá của ngày hiện tại.\n",
      "[WARNING] Mã VGC (holding): không tìm thấy trong thông tin giá của ngày hiện tại.\n",
      "[WARNING] Mã VGC (tín hiệu mua): không tìm thấy trong thông tin giá của ngày hiện tại.\n",
      "[WARNING] Mã VGC (holding): không tìm thấy trong thông tin giá của ngày hiện tại.\n",
      "[WARNING] Mã VGC (tín hiệu mua): không tìm thấy trong thông tin giá của ngày hiện tại.\n",
      "  > MUA 13 SIC @ 15,790 VND\n",
      "  > BÁN 18 PNJ @ 20,980 VND\n",
      "  > BÁN 32 VTV @ 11,860 VND\n",
      "  > BÁN 13 SIC @ 9,890 VND\n",
      "  > BÁN 56 HID @ 16,750 VND\n",
      "  > MUA 13 KDM @ 14,390 VND\n",
      "  > MUA 37 PHR @ 10,120 VND\n",
      "  > BÁN 19 DHA @ 13,850 VND\n"
     ]
    },
    {
     "name": "stderr",
     "output_type": "stream",
     "text": [
      "Đang mô phỏng giao dịch:  65%|████████████████████████████████████████████████████████                              | 3988/6124 [00:18<00:14, 148.16it/s]"
     ]
    },
    {
     "name": "stdout",
     "output_type": "stream",
     "text": [
      "  > BÁN 13 KDM @ 8,790 VND\n",
      "  > MUA 15 CVT @ 21,060 VND\n",
      "  > MUA 30 ITD @ 13,640 VND\n",
      "  > BÁN 29 NAF @ 20,950 VND\n",
      "  > BÁN 21 NTP @ 20,820 VND\n",
      "  > MUA 11 QNS @ 33,750 VND\n",
      "  > MUA 37 CTP @ 12,180 VND\n",
      "  > BÁN 30 VHC @ 15,300 VND\n",
      "  > BÁN 40 VGC @ 10,070 VND\n",
      "  > MUA 24 NVL @ 29,220 VND\n",
      "  > MUA 63 NLG @ 12,990 VND\n"
     ]
    },
    {
     "name": "stderr",
     "output_type": "stream",
     "text": [
      "Đang mô phỏng giao dịch:  66%|████████████████████████████████████████████████████████▍                             | 4017/6124 [00:18<00:16, 126.33it/s]"
     ]
    },
    {
     "name": "stdout",
     "output_type": "stream",
     "text": [
      "  > BÁN 49 SBT @ 16,090 VND\n",
      "  > MUA 57 VC3 @ 10,030 VND\n",
      "\n",
      "--- Ngày: 2017-03-16 ---\n",
      "NAV: 104,817,777 VND | Tiền mặt: 89,228,967 VND | CP: 27\n",
      "  > BÁN 4 ROS @ 114,850 VND\n",
      "  > MUA 28 BFC @ 17,880 VND\n",
      "  > MUA 5 HHC @ 48,000 VND\n",
      "  > BÁN 11 RCD @ 19,350 VND\n",
      "  > BÁN 37 CTP @ 12,180 VND\n",
      "  > BÁN 12 DCL @ 20,900 VND\n"
     ]
    },
    {
     "name": "stderr",
     "output_type": "stream",
     "text": [
      "Đang mô phỏng giao dịch:  66%|████████████████████████████████████████████████████████▌                             | 4031/6124 [00:19<00:16, 129.60it/s]"
     ]
    },
    {
     "name": "stdout",
     "output_type": "stream",
     "text": [
      "  > MUA 22 PNJ @ 26,060 VND\n",
      "  > MUA 11 STG @ 25,910 VND\n",
      "  > MUA 17 KSB @ 28,650 VND\n",
      "  > MUA 18 VRC @ 19,610 VND\n",
      "  > MUA 29 LDG @ 10,400 VND\n",
      "  > BÁN 32 ELC @ 10,290 VND\n",
      "  > MUA 26 REE @ 15,880 VND\n"
     ]
    },
    {
     "name": "stderr",
     "output_type": "stream",
     "text": [
      "Đang mô phỏng giao dịch:  66%|████████████████████████████████████████████████████████▉                             | 4057/6124 [00:19<00:20, 103.00it/s]"
     ]
    },
    {
     "name": "stdout",
     "output_type": "stream",
     "text": [
      "  > BÁN 15 BMP @ 47,390 VND\n",
      "  > MUA 20 SBT @ 19,330 VND\n",
      "  > MUA 21 CTI @ 24,550 VND\n",
      "  > MUA 14 HNF @ 16,470 VND\n",
      "  > MUA 33 VGC @ 12,930 VND\n",
      "  > MUA 15 AMD @ 23,400 VND\n",
      "  > MUA 30 FCN @ 15,670 VND\n",
      "  > MUA 13 VNM @ 75,400 VND\n",
      "  > BÁN 29 LDG @ 6,680 VND\n",
      "  > BÁN 11 QNS @ 31,930 VND\n",
      "  > BÁN 57 VC3 @ 7,550 VND\n",
      "  > MUA 26 PAC @ 20,590 VND\n",
      "  > BÁN 15 AMD @ 14,250 VND\n",
      "  > MUA 9 PIV @ 26,000 VND\n"
     ]
    },
    {
     "name": "stderr",
     "output_type": "stream",
     "text": [
      "Đang mô phỏng giao dịch:  67%|█████████████████████████████████████████████████████████▉                             | 4079/6124 [00:19<00:21, 97.19it/s]"
     ]
    },
    {
     "name": "stdout",
     "output_type": "stream",
     "text": [
      "  > MUA 34 HAX @ 10,540 VND\n",
      "  > MUA 8 PLX @ 47,270 VND\n",
      "  > BÁN 30 ITD @ 10,800 VND\n",
      "  > MUA 11 CTP @ 20,960 VND\n",
      "  > MUA 23 DL1 @ 10,010 VND\n",
      "  > MUA 46 CHP @ 13,620 VND\n",
      "  > BÁN 11 STG @ 19,910 VND\n",
      "  > BÁN 24 NVL @ 28,590 VND\n"
     ]
    },
    {
     "name": "stderr",
     "output_type": "stream",
     "text": [
      "Đang mô phỏng giao dịch:  67%|█████████████████████████████████████████████████████████▌                            | 4102/6124 [00:19<00:19, 103.29it/s]"
     ]
    },
    {
     "name": "stdout",
     "output_type": "stream",
     "text": [
      "  > BÁN 34 HAX @ 7,240 VND\n",
      "  > MUA 27 C47 @ 9,970 VND\n",
      "  > BÁN 50 CII @ 23,850 VND\n",
      "  > MUA 25 DHA @ 18,590 VND\n",
      "  > BÁN 32 HSG @ 13,880 VND\n",
      "\n",
      "--- Ngày: 2017-08-08 ---\n",
      "NAV: 105,735,640 VND | Tiền mặt: 86,062,710 VND | CP: 35\n",
      "  > BÁN 20 SBT @ 19,800 VND\n",
      "  > BÁN 11 CTP @ 20,580 VND\n",
      "  > MUA 13 PTB @ 40,100 VND\n",
      "  > MUA 20 HII @ 12,950 VND\n",
      "  > MUA 64 SFG @ 10,190 VND\n",
      "  > BÁN 39 PGI @ 10,200 VND\n"
     ]
    },
    {
     "name": "stderr",
     "output_type": "stream",
     "text": [
      "Đang mô phỏng giao dịch:  68%|██████████████████████████████████████████████████████████                            | 4135/6124 [00:20<00:19, 101.31it/s]"
     ]
    },
    {
     "name": "stdout",
     "output_type": "stream",
     "text": [
      "  > BÁN 15 SSN @ 18,400 VND\n",
      "  > MUA 40 LDG @ 10,330 VND\n",
      "  > MUA 24 MST @ 10,690 VND\n",
      "  > MUA 26 AAA @ 19,400 VND\n",
      "  > MUA 17 VJC @ 77,700 VND\n",
      "  > BÁN 5 HHC @ 44,100 VND\n",
      "  > MUA 68 GEX @ 10,090 VND\n",
      "  > MUA 29 PGS @ 14,350 VND\n",
      "[WARNING] Mã CVT (holding): không tìm thấy trong thông tin giá của ngày hiện tại.\n",
      "[WARNING] Mã CVT (tín hiệu mua): không tìm thấy trong thông tin giá của ngày hiện tại.\n",
      "[WARNING] Mã CVT (holding): không tìm thấy trong thông tin giá của ngày hiện tại.\n",
      "[WARNING] Mã CVT (tín hiệu mua): không tìm thấy trong thông tin giá của ngày hiện tại.\n",
      "[WARNING] Mã CVT (holding): không tìm thấy trong thông tin giá của ngày hiện tại.\n",
      "[WARNING] Mã CVT (tín hiệu mua): không tìm thấy trong thông tin giá của ngày hiện tại.\n",
      "[WARNING] Mã CVT (holding): không tìm thấy trong thông tin giá của ngày hiện tại.\n",
      "[WARNING] Mã CVT (tín hiệu mua): không tìm thấy trong thông tin giá của ngày hiện tại.\n",
      "  > BÁN 45 BIC @ 14,360 VND\n",
      "  > BÁN 9 DHG @ 74,270 VND\n",
      "  > MUA 5 DST @ 42,000 VND\n"
     ]
    },
    {
     "name": "stderr",
     "output_type": "stream",
     "text": [
      "Đang mô phỏng giao dịch:  68%|██████████████████████████████████████████████████████████▏                           | 4147/6124 [00:20<00:18, 106.38it/s]"
     ]
    },
    {
     "name": "stdout",
     "output_type": "stream",
     "text": [
      "  > BÁN 9 PIV @ 32,000 VND\n",
      "  > MUA 65 VCI @ 11,000 VND\n",
      "  > BÁN 15 KDC @ 30,330 VND\n",
      "  > MUA 51 VCB @ 17,410 VND\n",
      "  > BÁN 5 DST @ 28,300 VND\n",
      "  > BÁN 17 KSB @ 28,720 VND\n",
      "  > MUA 2 ROS @ 135,830 VND\n"
     ]
    },
    {
     "name": "stderr",
     "output_type": "stream",
     "text": [
      "Đang mô phỏng giao dịch:  68%|███████████████████████████████████████████████████████████▎                           | 4176/6124 [00:20<00:28, 67.42it/s]"
     ]
    },
    {
     "name": "stdout",
     "output_type": "stream",
     "text": [
      "  > BÁN 38 HBC @ 27,450 VND\n",
      "  > BÁN 28 BFC @ 17,680 VND\n",
      "  > MUA 86 KDH @ 10,700 VND\n",
      "  > BÁN 26 REE @ 15,030 VND\n",
      "  > BÁN 8 PLX @ 41,650 VND\n",
      "  > BÁN 20 HII @ 12,610 VND\n",
      "  > MUA 122 DS3 @ 10,240 VND\n",
      "  > BÁN 26 AAA @ 15,880 VND\n",
      "  > MUA 36 DBD @ 23,270 VND\n",
      "  > BÁN 27 C47 @ 8,030 VND\n",
      "  > MUA 46 TIS @ 14,500 VND\n",
      "  > MUA 40 CTG @ 15,410 VND\n",
      "  > MUA 4 APC @ 69,900 VND\n",
      "  > MUA 71 PC1 @ 12,410 VND\n",
      "  > MUA 29 REE @ 18,320 VND\n",
      "  > MUA 76 SJF @ 13,120 VND\n"
     ]
    },
    {
     "name": "stderr",
     "output_type": "stream",
     "text": [
      "Đang mô phỏng giao dịch:  69%|███████████████████████████████████████████████████████████▌                           | 4195/6124 [00:21<00:25, 76.42it/s]"
     ]
    },
    {
     "name": "stdout",
     "output_type": "stream",
     "text": [
      "  > MUA 33 CMG @ 10,730 VND\n",
      "  > BÁN 24 MST @ 7,720 VND\n",
      "  > MUA 30 FMC @ 14,660 VND\n",
      "  > MUA 29 TDG @ 10,110 VND\n",
      "  > BÁN 18 VRC @ 16,650 VND\n",
      "  > BÁN 2 ROS @ 120,250 VND\n",
      "  > MUA 33 TTB @ 10,660 VND\n",
      "  > MUA 7 PLX @ 50,750 VND\n",
      "  > BÁN 33 CMG @ 12,160 VND\n",
      "  > MUA 6 ACV @ 57,500 VND\n"
     ]
    },
    {
     "name": "stderr",
     "output_type": "stream",
     "text": [
      "Đang mô phỏng giao dịch:  69%|███████████████████████████████████████████████████████████▊                           | 4214/6124 [00:21<00:22, 83.64it/s]"
     ]
    },
    {
     "name": "stdout",
     "output_type": "stream",
     "text": [
      "  > BÁN 29 TDG @ 6,610 VND\n",
      "\n",
      "--- Ngày: 2017-12-27 ---\n",
      "NAV: 109,112,744 VND | Tiền mặt: 78,437,524 VND | CP: 40\n",
      "  > BÁN 64 SFG @ 9,100 VND\n",
      "  > MUA 40 DXG @ 10,330 VND\n",
      "  > BÁN 46 CHP @ 12,190 VND\n",
      "  > MUA 35 BID @ 14,900 VND\n",
      "  > MUA 30 NT2 @ 17,000 VND\n",
      "  > MUA 9 GAS @ 58,410 VND\n",
      "  > MUA 10 HVN @ 26,990 VND\n",
      "  > MUA 34 FPT @ 16,390 VND\n",
      "  > MUA 55 HPG @ 10,140 VND\n",
      "  > MUA 40 DHC @ 13,450 VND\n",
      "  > MUA 67 PDR @ 10,310 VND\n",
      "  > BÁN 23 DL1 @ 39,050 VND\n",
      "  > MUA 28 NVL @ 32,280 VND\n",
      "  > MUA 8 VRE @ 43,610 VND\n",
      "[WARNING] Mã GEX (holding): không tìm thấy trong thông tin giá của ngày hiện tại.\n",
      "[WARNING] Mã GEX (tín hiệu mua): không tìm thấy trong thông tin giá của ngày hiện tại.\n",
      "[WARNING] Mã GEX (holding): không tìm thấy trong thông tin giá của ngày hiện tại.\n",
      "[WARNING] Mã GEX (tín hiệu mua): không tìm thấy trong thông tin giá của ngày hiện tại.\n",
      "[WARNING] Mã GEX (holding): không tìm thấy trong thông tin giá của ngày hiện tại.\n",
      "[WARNING] Mã GEX (tín hiệu mua): không tìm thấy trong thông tin giá của ngày hiện tại.\n"
     ]
    },
    {
     "name": "stderr",
     "output_type": "stream",
     "text": [
      "Đang mô phỏng giao dịch:  69%|████████████████████████████████████████████████████████████                           | 4232/6124 [00:21<00:24, 78.43it/s]"
     ]
    },
    {
     "name": "stdout",
     "output_type": "stream",
     "text": [
      "  > MUA 42 HCM @ 10,270 VND\n",
      "  > MUA 9 MSR @ 24,800 VND\n",
      "  > MUA 20 TVN @ 12,540 VND\n",
      "  > BÁN 6 CTD @ 130,880 VND\n",
      "  > MUA 49 VPB @ 10,590 VND\n",
      "  > BÁN 26 PAC @ 18,560 VND\n",
      "  > BÁN 15 CVT @ 23,620 VND\n",
      "  > BÁN 25 DHA @ 14,250 VND\n",
      "  > BÁN 25 VCS @ 61,720 VND\n",
      "  > BÁN 28 NKG @ 13,340 VND\n",
      "  > MUA 13 PAN @ 30,850 VND\n",
      "  > BÁN 32 MWG @ 26,370 VND\n"
     ]
    },
    {
     "name": "stderr",
     "output_type": "stream",
     "text": [
      "Đang mô phỏng giao dịch:  69%|████████████████████████████████████████████████████████████▍                          | 4250/6124 [00:21<00:23, 79.75it/s]"
     ]
    },
    {
     "name": "stdout",
     "output_type": "stream",
     "text": [
      "  > BÁN 14 HNF @ 19,390 VND\n",
      "  > MUA 41 HDG @ 10,200 VND\n",
      "  > MUA 13 SVH @ 12,800 VND\n",
      "  > MUA 36 TLD @ 12,840 VND\n",
      "  > BÁN 4 APC @ 57,900 VND\n",
      "  > MUA 5 AST @ 57,550 VND\n",
      "  > BÁN 122 DS3 @ 8,740 VND\n"
     ]
    },
    {
     "name": "stderr",
     "output_type": "stream",
     "text": [
      "Đang mô phỏng giao dịch:  70%|████████████████████████████████████████████████████████████▌                          | 4267/6124 [00:21<00:23, 78.29it/s]"
     ]
    },
    {
     "name": "stdout",
     "output_type": "stream",
     "text": [
      "  > BÁN 13 PTB @ 35,370 VND\n",
      "  > MUA 4 MSN @ 81,330 VND\n",
      "  > MUA 24 NSH @ 11,600 VND\n",
      "  > BÁN 36 TLD @ 12,960 VND\n",
      "  > MUA 4 BVH @ 77,050 VND\n",
      "  > MUA 26 DS3 @ 10,650 VND\n",
      "  > MUA 16 VHC @ 21,140 VND\n",
      "  > BÁN 76 SJF @ 12,670 VND\n",
      "  > MUA 22 PMG @ 17,840 VND\n",
      "  > MUA 45 VPI @ 20,810 VND\n",
      "[INFO] Mã SVH có volatility trong n ngày không hợp lệ.\n",
      "  > MUA 36 HDB @ 12,110 VND\n",
      "[INFO] Mã SVH có volatility trong n ngày không hợp lệ.\n",
      "  > MUA 34 FTM @ 15,750 VND\n"
     ]
    },
    {
     "name": "stderr",
     "output_type": "stream",
     "text": [
      "Đang mô phỏng giao dịch:  70%|████████████████████████████████████████████████████████████▉                          | 4287/6124 [00:22<00:21, 86.15it/s]"
     ]
    },
    {
     "name": "stdout",
     "output_type": "stream",
     "text": [
      "[INFO] Mã SVH có volatility trong n ngày không hợp lệ.\n",
      "[INFO] Mã SVH có volatility trong n ngày không hợp lệ.\n",
      "[INFO] Mã SVH có volatility trong n ngày không hợp lệ.\n",
      "[INFO] Mã SVH có volatility trong n ngày không hợp lệ.\n",
      "[INFO] Mã SVH có volatility trong n ngày không hợp lệ.\n",
      "[INFO] Mã SVH có volatility trong n ngày không hợp lệ.\n",
      "[INFO] Mã SVH có volatility trong n ngày không hợp lệ.\n",
      "  > BÁN 46 TIS @ 12,000 VND\n",
      "  > BÁN 7 PLX @ 48,990 VND\n",
      "[INFO] Mã SVH có volatility trong n ngày không hợp lệ.\n",
      "  > BÁN 30 FCN @ 13,640 VND\n",
      "  > MUA 29 CEO @ 10,310 VND\n",
      "[INFO] Mã SVH có volatility trong n ngày không hợp lệ.\n",
      "  > BÁN 10 HVN @ 23,140 VND\n",
      "  > BÁN 8 VRE @ 35,520 VND\n",
      "[INFO] Mã SVH có volatility trong n ngày không hợp lệ.\n",
      "  > BÁN 22 PMG @ 17,130 VND\n",
      "[INFO] Mã SVH có volatility trong n ngày không hợp lệ.\n",
      "  > BÁN 60 SHP @ 11,600 VND\n",
      "  > BÁN 36 DBD @ 21,700 VND\n",
      "[INFO] Mã SVH có volatility trong n ngày không hợp lệ.\n",
      "[INFO] Mã SVH có volatility trong n ngày không hợp lệ.\n",
      "  > BÁN 28 NVL @ 32,160 VND\n",
      "  > BÁN 49 VPB @ 10,190 VND\n",
      "  > BÁN 41 HDG @ 8,280 VND\n",
      "  > MUA 27 TCH @ 14,210 VND\n",
      "[INFO] Mã SVH có volatility trong n ngày không hợp lệ.\n",
      "  > BÁN 17 VJC @ 146,670 VND\n",
      "  > BÁN 9 GAS @ 55,790 VND\n",
      "  > BÁN 16 VHC @ 18,920 VND\n",
      "  > BÁN 13 SVH @ 10,000 VND\n"
     ]
    },
    {
     "name": "stderr",
     "output_type": "stream",
     "text": [
      "Đang mô phỏng giao dịch:  70%|████████████████████████████████████████████████████████████▌                         | 4311/6124 [00:22<00:17, 101.02it/s]"
     ]
    },
    {
     "name": "stdout",
     "output_type": "stream",
     "text": [
      "  > BÁN 13 VNM @ 87,690 VND\n",
      "  > BÁN 6 ACV @ 52,270 VND\n",
      "  > MUA 59 SJF @ 14,330 VND\n",
      "  > BÁN 51 VCB @ 23,370 VND\n",
      "  > BÁN 35 BID @ 17,110 VND\n",
      "  > BÁN 30 FMC @ 13,250 VND\n",
      "  > BÁN 42 HCM @ 9,650 VND\n",
      "  > BÁN 20 TVN @ 9,020 VND\n",
      "  > BÁN 36 HDB @ 9,640 VND\n",
      "  > BÁN 71 PC1 @ 10,420 VND\n",
      "  > BÁN 63 NLG @ 20,160 VND\n",
      "  > BÁN 40 CTG @ 17,010 VND\n",
      "  > BÁN 29 REE @ 15,560 VND\n",
      "  > BÁN 26 DS3 @ 8,680 VND\n",
      "  > BÁN 21 CTI @ 23,780 VND\n",
      "  > BÁN 68 GEX @ 13,880 VND\n",
      "  > BÁN 65 VCI @ 14,240 VND\n",
      "  > BÁN 86 KDH @ 13,000 VND\n",
      "  > BÁN 55 HPG @ 9,230 VND\n",
      "  > BÁN 9 MSR @ 16,150 VND\n",
      "  > BÁN 5 AST @ 42,310 VND\n",
      "  > BÁN 4 MSN @ 63,120 VND\n",
      "\n",
      "--- Ngày: 2018-05-29 ---\n",
      "NAV: 108,002,393 VND | Tiền mặt: 95,587,263 VND | CP: 20\n",
      "  > MUA 8 PCG @ 18,800 VND\n",
      "  > MUA 23 TIS @ 13,900 VND\n",
      "  > BÁN 22 PNJ @ 52,920 VND\n",
      "[WARNING] Mã VPI (holding): không tìm thấy trong thông tin giá của ngày hiện tại.\n"
     ]
    },
    {
     "name": "stderr",
     "output_type": "stream",
     "text": [
      "Đang mô phỏng giao dịch:  71%|████████████████████████████████████████████████████████████▉                         | 4335/6124 [00:22<00:17, 104.77it/s]"
     ]
    },
    {
     "name": "stdout",
     "output_type": "stream",
     "text": [
      "[WARNING] Mã VPI (tín hiệu mua): không tìm thấy trong thông tin giá của ngày hiện tại.\n",
      "[WARNING] Mã VPI (holding): không tìm thấy trong thông tin giá của ngày hiện tại.\n",
      "[WARNING] Mã VPI (tín hiệu mua): không tìm thấy trong thông tin giá của ngày hiện tại.\n",
      "  > BÁN 40 LDG @ 10,840 VND\n",
      "  > BÁN 27 TCH @ 10,460 VND\n",
      "[WARNING] Mã VPI (holding): không tìm thấy trong thông tin giá của ngày hiện tại.\n",
      "[WARNING] Mã VPI (tín hiệu mua): không tìm thấy trong thông tin giá của ngày hiện tại.\n",
      "[WARNING] Mã VPI (holding): không tìm thấy trong thông tin giá của ngày hiện tại.\n",
      "[WARNING] Mã VPI (tín hiệu mua): không tìm thấy trong thông tin giá của ngày hiện tại.\n",
      "[WARNING] Mã VPI (holding): không tìm thấy trong thông tin giá của ngày hiện tại.\n",
      "[WARNING] Mã VPI (tín hiệu mua): không tìm thấy trong thông tin giá của ngày hiện tại.\n",
      "[WARNING] Mã VPI (holding): không tìm thấy trong thông tin giá của ngày hiện tại.\n",
      "[WARNING] Mã VPI (tín hiệu mua): không tìm thấy trong thông tin giá của ngày hiện tại.\n",
      "  > BÁN 37 PHR @ 13,990 VND\n",
      "[WARNING] Mã VPI (holding): không tìm thấy trong thông tin giá của ngày hiện tại.\n",
      "[WARNING] Mã VPI (tín hiệu mua): không tìm thấy trong thông tin giá của ngày hiện tại.\n",
      "  > BÁN 34 FPT @ 13,250 VND\n",
      "  > MUA 8 CMW @ 11,480 VND\n",
      "  > BÁN 40 DXG @ 13,000 VND\n",
      "  > BÁN 67 PDR @ 9,000 VND\n",
      "  > BÁN 4 BVH @ 62,230 VND\n",
      "  > BÁN 33 VGC @ 14,740 VND\n",
      "  > BÁN 23 TIS @ 10,500 VND\n"
     ]
    },
    {
     "name": "stderr",
     "output_type": "stream",
     "text": [
      "Đang mô phỏng giao dịch:  71%|█████████████████████████████████████████████████████████████▎                        | 4362/6124 [00:22<00:14, 119.13it/s]"
     ]
    },
    {
     "name": "stdout",
     "output_type": "stream",
     "text": [
      "  > MUA 51 SJD @ 12,640 VND\n",
      "  > MUA 17 TGG @ 18,330 VND\n",
      "  > BÁN 34 FTM @ 15,400 VND\n",
      "[WARNING] Mã TTB (holding): không tìm thấy trong thông tin giá của ngày hiện tại.\n",
      "[WARNING] Mã TTB (tín hiệu mua): không tìm thấy trong thông tin giá của ngày hiện tại.\n",
      "[WARNING] Mã TTB (holding): không tìm thấy trong thông tin giá của ngày hiện tại.\n",
      "[WARNING] Mã TTB (tín hiệu mua): không tìm thấy trong thông tin giá của ngày hiện tại.\n",
      "  > MUA 24 SVH @ 13,300 VND\n",
      "[WARNING] Mã TTB (holding): không tìm thấy trong thông tin giá của ngày hiện tại.\n",
      "[WARNING] Mã TTB (tín hiệu mua): không tìm thấy trong thông tin giá của ngày hiện tại.\n",
      "[WARNING] Mã TTB (holding): không tìm thấy trong thông tin giá của ngày hiện tại.\n",
      "[WARNING] Mã TTB (tín hiệu mua): không tìm thấy trong thông tin giá của ngày hiện tại.\n",
      "[WARNING] Mã TTB (holding): không tìm thấy trong thông tin giá của ngày hiện tại.\n",
      "[WARNING] Mã TTB (tín hiệu mua): không tìm thấy trong thông tin giá của ngày hiện tại.\n",
      "[WARNING] Mã TTB (holding): không tìm thấy trong thông tin giá của ngày hiện tại.\n",
      "[WARNING] Mã TTB (tín hiệu mua): không tìm thấy trong thông tin giá của ngày hiện tại.\n",
      "[WARNING] Mã TTB (holding): không tìm thấy trong thông tin giá của ngày hiện tại.\n",
      "[WARNING] Mã TTB (tín hiệu mua): không tìm thấy trong thông tin giá của ngày hiện tại.\n",
      "  > MUA 33 TCH @ 15,010 VND\n",
      "  > BÁN 8 CMW @ 7,210 VND\n"
     ]
    },
    {
     "name": "stderr",
     "output_type": "stream",
     "text": [
      "Đang mô phỏng giao dịch:  72%|█████████████████████████████████████████████████████████████▌                        | 4386/6124 [00:23<00:14, 118.89it/s]"
     ]
    },
    {
     "name": "stdout",
     "output_type": "stream",
     "text": [
      "  > MUA 14 VHC @ 27,230 VND\n",
      "  > BÁN 30 NT2 @ 15,560 VND\n",
      "  > BÁN 17 TGG @ 17,600 VND\n",
      "  > BÁN 24 NSH @ 6,600 VND\n",
      "  > MUA 26 VEA @ 16,340 VND\n",
      "  > BÁN 13 PAN @ 32,670 VND\n",
      "  > BÁN 59 SJF @ 16,600 VND\n",
      "[INFO] Mã SVH có volatility trong n ngày không hợp lệ.\n",
      "[INFO] Mã SVH có volatility trong n ngày không hợp lệ.\n",
      "  > MUA 18 AMV @ 14,300 VND\n",
      "[INFO] Mã SVH có volatility trong n ngày không hợp lệ.\n",
      "[INFO] Mã SVH có volatility trong n ngày không hợp lệ.\n"
     ]
    },
    {
     "name": "stderr",
     "output_type": "stream",
     "text": [
      "Đang mô phỏng giao dịch:  72%|██████████████████████████████████████████████████████████████                        | 4416/6124 [00:23<00:13, 128.61it/s]"
     ]
    },
    {
     "name": "stdout",
     "output_type": "stream",
     "text": [
      "[INFO] Mã SVH có volatility trong n ngày không hợp lệ.\n",
      "[INFO] Mã SVH có volatility trong n ngày không hợp lệ.\n",
      "\n",
      "--- Ngày: 2018-10-17 ---\n",
      "NAV: 107,606,977 VND | Tiền mặt: 100,018,737 VND | CP: 13\n",
      "[INFO] Mã SVH có volatility trong n ngày không hợp lệ.\n",
      "[INFO] Mã SVH có volatility trong n ngày không hợp lệ.\n",
      "  > MUA 78 HPX @ 14,300 VND\n",
      "[INFO] Mã SVH có volatility trong n ngày không hợp lệ.\n",
      "[INFO] Mã SVH có volatility trong n ngày không hợp lệ.\n",
      "[INFO] Mã SVH có volatility trong n ngày không hợp lệ.\n",
      "  > BÁN 33 TCH @ 10,410 VND\n",
      "[INFO] Mã SVH có volatility trong n ngày không hợp lệ.\n",
      "[INFO] Mã SVH có volatility trong n ngày không hợp lệ.\n",
      "[INFO] Mã SVH có volatility trong n ngày không hợp lệ.\n",
      "[INFO] Mã SVH có volatility trong n ngày không hợp lệ.\n",
      "  > MUA 26 HSL @ 16,750 VND\n",
      "[INFO] Mã SVH có volatility trong n ngày không hợp lệ.\n",
      "  > MUA 25 HHP @ 11,650 VND\n",
      "[INFO] Mã SVH có volatility trong n ngày không hợp lệ.\n",
      "[INFO] Mã SVH có volatility trong n ngày không hợp lệ.\n",
      "[INFO] Mã SVH có volatility trong n ngày không hợp lệ.\n",
      "[INFO] Mã SVH có volatility trong n ngày không hợp lệ.\n",
      "  > BÁN 26 HSL @ 12,270 VND\n",
      "  > MUA 24 PHR @ 19,170 VND\n",
      "[INFO] Mã SVH có volatility trong n ngày không hợp lệ.\n",
      "  > BÁN 33 TTB @ 18,820 VND\n",
      "[INFO] Mã SVH có volatility trong n ngày không hợp lệ.\n",
      "[INFO] Mã SVH có volatility trong n ngày không hợp lệ.\n",
      "[INFO] Mã SVH có volatility trong n ngày không hợp lệ.\n",
      "  > MUA 35 ANV @ 10,490 VND\n",
      "  > MUA 5 SVI @ 39,940 VND\n",
      "[INFO] Mã SVH có volatility trong n ngày không hợp lệ.\n",
      "  > MUA 26 FMC @ 18,800 VND\n",
      "[INFO] Mã SVH có volatility trong n ngày không hợp lệ.\n",
      "[INFO] Mã SVH có volatility trong n ngày không hợp lệ.\n",
      "[INFO] Mã SVH có volatility trong n ngày không hợp lệ.\n",
      "  > BÁN 23 VIC @ 81,510 VND\n",
      "[INFO] Mã SVH có volatility trong n ngày không hợp lệ.\n",
      "[INFO] Mã SVH có volatility trong n ngày không hợp lệ.\n",
      "  > MUA 22 CMX @ 10,000 VND\n",
      "[INFO] Mã SVH có volatility trong n ngày không hợp lệ.\n",
      "[INFO] Mã SVH có volatility trong n ngày không hợp lệ.\n"
     ]
    },
    {
     "name": "stderr",
     "output_type": "stream",
     "text": [
      "Đang mô phỏng giao dịch:  73%|██████████████████████████████████████████████████████████████▍                       | 4446/6124 [00:23<00:12, 134.46it/s]"
     ]
    },
    {
     "name": "stdout",
     "output_type": "stream",
     "text": [
      "[INFO] Mã SVH có volatility trong n ngày không hợp lệ.\n",
      "[INFO] Mã SVH có volatility trong n ngày không hợp lệ.\n",
      "[INFO] Mã SVH có volatility trong n ngày không hợp lệ.\n",
      "[INFO] Mã SVH có volatility trong n ngày không hợp lệ.\n",
      "[INFO] Mã SVH có volatility trong n ngày không hợp lệ.\n",
      "[INFO] Mã SVH có volatility trong n ngày không hợp lệ.\n",
      "[INFO] Mã SVH có volatility trong n ngày không hợp lệ.\n",
      "[INFO] Mã SVH có volatility trong n ngày không hợp lệ.\n",
      "  > MUA 35 VNG @ 20,210 VND\n",
      "[INFO] Mã SVH có volatility trong n ngày không hợp lệ.\n",
      "  > MUA 62 GEG @ 10,050 VND\n",
      "[INFO] Mã SVH có volatility trong n ngày không hợp lệ.\n",
      "[INFO] Mã SVH có volatility trong n ngày không hợp lệ.\n",
      "[INFO] Mã SVH có volatility trong n ngày không hợp lệ.\n",
      "[INFO] Mã SVH có volatility trong n ngày không hợp lệ.\n",
      "[INFO] Mã SVH có volatility trong n ngày không hợp lệ.\n",
      "[INFO] Mã SVH có volatility trong n ngày không hợp lệ.\n",
      "[INFO] Mã SVH có volatility trong n ngày không hợp lệ.\n",
      "[INFO] Mã SVH có volatility trong n ngày không hợp lệ.\n",
      "[INFO] Mã SVH có volatility trong n ngày không hợp lệ.\n",
      "[INFO] Mã SVH có volatility trong n ngày không hợp lệ.\n",
      "[INFO] Mã SVH có volatility trong n ngày không hợp lệ.\n",
      "[INFO] Mã SVH có volatility trong n ngày không hợp lệ.\n",
      "[INFO] Mã SVH có volatility trong n ngày không hợp lệ.\n",
      "[INFO] Mã SVH có volatility trong n ngày không hợp lệ.\n",
      "[INFO] Mã SVH có volatility trong n ngày không hợp lệ.\n",
      "[INFO] Mã SVH có volatility trong n ngày không hợp lệ.\n",
      "[INFO] Mã SVH có volatility trong n ngày không hợp lệ.\n",
      "[INFO] Mã SVH có volatility trong n ngày không hợp lệ.\n",
      "[INFO] Mã SVH có volatility trong n ngày không hợp lệ.\n"
     ]
    },
    {
     "name": "stderr",
     "output_type": "stream",
     "text": [
      "Đang mô phỏng giao dịch:  73%|██████████████████████████████████████████████████████████████▊                       | 4474/6124 [00:23<00:13, 123.28it/s]"
     ]
    },
    {
     "name": "stdout",
     "output_type": "stream",
     "text": [
      "[INFO] Mã SVH có volatility trong n ngày không hợp lệ.\n",
      "  > MUA 6 QPH @ 20,340 VND\n",
      "[INFO] Mã SVH có volatility trong n ngày không hợp lệ.\n",
      "[INFO] Mã SVH có volatility trong n ngày không hợp lệ.\n",
      "[INFO] Mã SVH có volatility trong n ngày không hợp lệ.\n",
      "[INFO] Mã SVH có volatility trong n ngày không hợp lệ.\n",
      "[INFO] Mã SVH có volatility trong n ngày không hợp lệ.\n",
      "[INFO] Mã SVH có volatility trong n ngày không hợp lệ.\n",
      "[INFO] Mã SVH có volatility trong n ngày không hợp lệ.\n",
      "[INFO] Mã SVH có volatility trong n ngày không hợp lệ.\n",
      "  > BÁN 8 PCG @ 20,100 VND\n",
      "[INFO] Mã SVH có volatility trong n ngày không hợp lệ.\n",
      "[INFO] Mã SVH có volatility trong n ngày không hợp lệ.\n",
      "[INFO] Mã SVH có volatility trong n ngày không hợp lệ.\n",
      "[INFO] Mã SVH có volatility trong n ngày không hợp lệ.\n",
      "  > MUA 37 NT2 @ 18,620 VND\n",
      "[INFO] Mã SVH có volatility trong n ngày không hợp lệ.\n",
      "  > BÁN 18 AMV @ 13,610 VND\n",
      "[INFO] Mã SVH có volatility trong n ngày không hợp lệ.\n",
      "[INFO] Mã SVH có volatility trong n ngày không hợp lệ.\n",
      "  > MUA 6 VTP @ 48,040 VND\n",
      "[INFO] Mã SVH có volatility trong n ngày không hợp lệ.\n",
      "[INFO] Mã SVH có volatility trong n ngày không hợp lệ.\n",
      "[INFO] Mã SVH có volatility trong n ngày không hợp lệ.\n",
      "[INFO] Mã SVH có volatility trong n ngày không hợp lệ.\n",
      "[INFO] Mã SVH có volatility trong n ngày không hợp lệ.\n",
      "[INFO] Mã SVH có volatility trong n ngày không hợp lệ.\n",
      "  > BÁN 45 VPI @ 21,140 VND\n",
      "[INFO] Mã SVH có volatility trong n ngày không hợp lệ.\n"
     ]
    },
    {
     "name": "stderr",
     "output_type": "stream",
     "text": [
      "Đang mô phỏng giao dịch:  73%|███████████████████████████████████████████████████████████████                       | 4487/6124 [00:23<00:14, 116.29it/s]"
     ]
    },
    {
     "name": "stdout",
     "output_type": "stream",
     "text": [
      "[INFO] Mã SVH có volatility trong n ngày không hợp lệ.\n",
      "[INFO] Mã SVH có volatility trong n ngày không hợp lệ.\n",
      "  > MUA 41 EIB @ 12,010 VND\n",
      "[INFO] Mã SVH có volatility trong n ngày không hợp lệ.\n",
      "  > MUA 5 VIC @ 100,450 VND\n",
      "[INFO] Mã SVH có volatility trong n ngày không hợp lệ.\n",
      "[INFO] Mã SVH có volatility trong n ngày không hợp lệ.\n",
      "[INFO] Mã SVH có volatility trong n ngày không hợp lệ.\n",
      "[INFO] Mã SVH có volatility trong n ngày không hợp lệ.\n",
      "  > BÁN 6 QPH @ 14,780 VND\n",
      "[INFO] Mã SVH có volatility trong n ngày không hợp lệ.\n",
      "  > MUA 9 NTC @ 49,620 VND\n",
      "[INFO] Mã SVH có volatility trong n ngày không hợp lệ.\n",
      "[INFO] Mã SVH có volatility trong n ngày không hợp lệ.\n",
      "[INFO] Mã SVH có volatility trong n ngày không hợp lệ.\n",
      "[INFO] Mã SVH có volatility trong n ngày không hợp lệ.\n",
      "[INFO] Mã SVH có volatility trong n ngày không hợp lệ.\n",
      "[INFO] Mã SVH có volatility trong n ngày không hợp lệ.\n",
      "[INFO] Mã SVH có volatility trong n ngày không hợp lệ.\n",
      "[INFO] Mã SVH có volatility trong n ngày không hợp lệ.\n",
      "[INFO] Mã SVH có volatility trong n ngày không hợp lệ.\n",
      "  > BÁN 24 SVH @ 10,000 VND\n"
     ]
    },
    {
     "name": "stderr",
     "output_type": "stream",
     "text": [
      "Đang mô phỏng giao dịch:  74%|███████████████████████████████████████████████████████████████▎                      | 4512/6124 [00:24<00:15, 106.04it/s]"
     ]
    },
    {
     "name": "stdout",
     "output_type": "stream",
     "text": [
      "  > MUA 22 D2D @ 17,590 VND\n",
      "  > MUA 42 DPR @ 13,830 VND\n",
      "  > MUA 34 TNG @ 10,050 VND\n",
      "  > MUA 30 GLC @ 11,700 VND\n",
      "\n",
      "--- Ngày: 2019-03-15 ---\n",
      "NAV: 108,242,356 VND | Tiền mặt: 95,720,756 VND | CP: 24\n",
      "  > MUA 29 LMH @ 13,180 VND\n",
      "  > MUA 46 HDG @ 11,560 VND\n",
      "  > BÁN 29 CEO @ 7,910 VND\n",
      "  > MUA 20 CRC @ 18,120 VND\n",
      "  > MUA 27 SZC @ 10,170 VND\n",
      "  > BÁN 5 SVI @ 42,400 VND\n",
      "  > MUA 25 FTM @ 18,700 VND\n",
      "  > MUA 32 HVH @ 16,540 VND\n",
      "[INFO] Mã GLC có volatility trong n ngày không hợp lệ.\n",
      "[INFO] Mã GLC có volatility trong n ngày không hợp lệ.\n",
      "[INFO] Mã GLC có volatility trong n ngày không hợp lệ.\n",
      "[INFO] Mã GLC có volatility trong n ngày không hợp lệ.\n",
      "  > MUA 30 MSH @ 17,070 VND\n",
      "[INFO] Mã GLC có volatility trong n ngày không hợp lệ.\n",
      "[INFO] Mã GLC có volatility trong n ngày không hợp lệ.\n",
      "[INFO] Mã GLC có volatility trong n ngày không hợp lệ.\n"
     ]
    },
    {
     "name": "stderr",
     "output_type": "stream",
     "text": [
      "Đang mô phỏng giao dịch:  74%|████████████████████████████████████████████████████████████████▍                      | 4536/6124 [00:24<00:16, 93.79it/s]"
     ]
    },
    {
     "name": "stdout",
     "output_type": "stream",
     "text": [
      "[INFO] Mã GLC có volatility trong n ngày không hợp lệ.\n",
      "  > BÁN 20 CRC @ 12,520 VND\n",
      "  > MUA 26 TNI @ 13,500 VND\n",
      "[INFO] Mã GLC có volatility trong n ngày không hợp lệ.\n",
      "[INFO] Mã GLC có volatility trong n ngày không hợp lệ.\n",
      "  > MUA 14 TAR @ 20,800 VND\n",
      "[INFO] Mã GLC có volatility trong n ngày không hợp lệ.\n",
      "[INFO] Mã GLC có volatility trong n ngày không hợp lệ.\n",
      "[INFO] Mã GLC có volatility trong n ngày không hợp lệ.\n",
      "[INFO] Mã GLC có volatility trong n ngày không hợp lệ.\n",
      "[INFO] Mã GLC có volatility trong n ngày không hợp lệ.\n",
      "[INFO] Mã GLC có volatility trong n ngày không hợp lệ.\n",
      "[INFO] Mã GLC có volatility trong n ngày không hợp lệ.\n",
      "[INFO] Mã GLC có volatility trong n ngày không hợp lệ.\n",
      "[INFO] Mã GLC có volatility trong n ngày không hợp lệ.\n",
      "[INFO] Mã GLC có volatility trong n ngày không hợp lệ.\n",
      "[INFO] Mã GLC có volatility trong n ngày không hợp lệ.\n",
      "[INFO] Mã GLC có volatility trong n ngày không hợp lệ.\n",
      "  > MUA 27 CTR @ 11,400 VND\n",
      "[INFO] Mã GLC có volatility trong n ngày không hợp lệ.\n"
     ]
    },
    {
     "name": "stderr",
     "output_type": "stream",
     "text": [
      "Đang mô phỏng giao dịch:  74%|████████████████████████████████████████████████████████████████                      | 4561/6124 [00:24<00:14, 105.95it/s]"
     ]
    },
    {
     "name": "stdout",
     "output_type": "stream",
     "text": [
      "[INFO] Mã GLC có volatility trong n ngày không hợp lệ.\n",
      "[INFO] Mã GLC có volatility trong n ngày không hợp lệ.\n",
      "[INFO] Mã GLC có volatility trong n ngày không hợp lệ.\n",
      "[INFO] Mã GLC có volatility trong n ngày không hợp lệ.\n",
      "[INFO] Mã GLC có volatility trong n ngày không hợp lệ.\n",
      "  > MUA 25 SFG @ 14,290 VND\n",
      "  > MUA 25 STK @ 15,560 VND\n",
      "[INFO] Mã GLC có volatility trong n ngày không hợp lệ.\n",
      "[INFO] Mã GLC có volatility trong n ngày không hợp lệ.\n",
      "[INFO] Mã GLC có volatility trong n ngày không hợp lệ.\n",
      "[INFO] Mã GLC có volatility trong n ngày không hợp lệ.\n",
      "[INFO] Mã GLC có volatility trong n ngày không hợp lệ.\n",
      "  > BÁN 35 VNG @ 21,400 VND\n",
      "  > MUA 12 VGI @ 28,910 VND\n",
      "[INFO] Mã GLC có volatility trong n ngày không hợp lệ.\n",
      "[INFO] Mã GLC có volatility trong n ngày không hợp lệ.\n",
      "[INFO] Mã GLC có volatility trong n ngày không hợp lệ.\n",
      "[INFO] Mã GLC có volatility trong n ngày không hợp lệ.\n",
      "  > BÁN 51 SJD @ 11,630 VND\n",
      "[INFO] Mã GLC có volatility trong n ngày không hợp lệ.\n",
      "[INFO] Mã GLC có volatility trong n ngày không hợp lệ.\n",
      "  > MUA 30 TTB @ 23,460 VND\n",
      "[INFO] Mã GLC có volatility trong n ngày không hợp lệ.\n",
      "  > BÁN 30 GLC @ 10,000 VND\n",
      "  > MUA 28 GVR @ 11,830 VND\n",
      "  > MUA 21 TDM @ 25,170 VND\n",
      "  > MUA 14 AST @ 57,640 VND\n",
      "  > BÁN 14 VHC @ 30,630 VND\n",
      "  > MUA 6 VCR @ 30,400 VND\n",
      "  > MUA 17 C69 @ 12,190 VND\n"
     ]
    },
    {
     "name": "stderr",
     "output_type": "stream",
     "text": [
      "Đang mô phỏng giao dịch:  75%|████████████████████████████████████████████████████████████████▍                     | 4587/6124 [00:24<00:13, 112.62it/s]"
     ]
    },
    {
     "name": "stdout",
     "output_type": "stream",
     "text": [
      "  > BÁN 30 TTB @ 20,180 VND\n",
      "  > MUA 29 PPC @ 16,360 VND\n",
      "  > MUA 37 BWE @ 20,840 VND\n",
      "  > BÁN 25 SFG @ 9,860 VND\n",
      "  > MUA 23 VCB @ 31,900 VND\n",
      "  > MUA 20 VRG @ 10,080 VND\n",
      "  > BÁN 25 HHP @ 10,580 VND\n",
      "  > MUA 31 DAH @ 12,750 VND\n",
      "  > MUA 26 MWG @ 31,920 VND\n",
      "  > BÁN 37 NT2 @ 17,290 VND\n",
      "  > MUA 50 FPT @ 17,260 VND\n",
      "  > BÁN 6 VCR @ 16,900 VND\n",
      "  > BÁN 14 TAR @ 19,150 VND\n",
      "  > MUA 19 FRM @ 11,860 VND\n"
     ]
    },
    {
     "name": "stderr",
     "output_type": "stream",
     "text": [
      "Đang mô phỏng giao dịch:  75%|████████████████████████████████████████████████████████████████▊                     | 4612/6124 [00:25<00:13, 113.93it/s]"
     ]
    },
    {
     "name": "stdout",
     "output_type": "stream",
     "text": [
      "  > BÁN 29 PPC @ 12,830 VND\n",
      "  > MUA 31 DPG @ 17,780 VND\n",
      "  > MUA 11 BCM @ 30,730 VND\n",
      "  > MUA 18 HTM @ 12,560 VND\n",
      "  > BÁN 35 ANV @ 9,840 VND\n",
      "\n",
      "--- Ngày: 2019-08-08 ---\n",
      "NAV: 110,578,496 VND | Tiền mặt: 87,808,996 VND | CP: 39\n",
      "  > BÁN 26 VEA @ 26,980 VND\n",
      "  > BÁN 25 FTM @ 19,100 VND\n",
      "  > MUA 19 CMG @ 19,160 VND\n",
      "  > MUA 32 HND @ 10,210 VND\n",
      "  > MUA 5 SIP @ 33,950 VND\n",
      "  > MUA 8 PWA @ 20,470 VND\n",
      "  > MUA 13 SZL @ 27,540 VND\n",
      "  > BÁN 26 TNI @ 10,150 VND\n",
      "  > BÁN 32 HVH @ 16,470 VND\n",
      "  > BÁN 40 DHC @ 13,230 VND\n",
      "  > BÁN 19 FRM @ 14,420 VND\n",
      "  > BÁN 31 DAH @ 10,000 VND\n"
     ]
    },
    {
     "name": "stderr",
     "output_type": "stream",
     "text": [
      "Đang mô phỏng giao dịch:  76%|█████████████████████████████████████████████████████████████████                     | 4636/6124 [00:25<00:13, 109.82it/s]"
     ]
    },
    {
     "name": "stdout",
     "output_type": "stream",
     "text": [
      "  > BÁN 24 PHR @ 36,320 VND\n",
      "  > BÁN 9 NTC @ 74,190 VND\n",
      "  > BÁN 22 D2D @ 22,610 VND\n",
      "  > BÁN 27 SZC @ 10,400 VND\n",
      "[WARNING] Mã GEG (holding): không tìm thấy trong thông tin giá của ngày hiện tại.\n",
      "[WARNING] Mã GEG (tín hiệu mua): không tìm thấy trong thông tin giá của ngày hiện tại.\n",
      "[WARNING] Mã GEG (holding): không tìm thấy trong thông tin giá của ngày hiện tại.\n",
      "[WARNING] Mã GEG (tín hiệu mua): không tìm thấy trong thông tin giá của ngày hiện tại.\n",
      "[WARNING] Mã GEG (holding): không tìm thấy trong thông tin giá của ngày hiện tại.\n",
      "[WARNING] Mã GEG (tín hiệu mua): không tìm thấy trong thông tin giá của ngày hiện tại.\n",
      "[WARNING] Mã GEG (holding): không tìm thấy trong thông tin giá của ngày hiện tại.\n",
      "[WARNING] Mã GEG (tín hiệu mua): không tìm thấy trong thông tin giá của ngày hiện tại.\n",
      "[WARNING] Mã GEG (holding): không tìm thấy trong thông tin giá của ngày hiện tại.\n",
      "[WARNING] Mã GEG (tín hiệu mua): không tìm thấy trong thông tin giá của ngày hiện tại.\n",
      "[WARNING] Mã GEG (holding): không tìm thấy trong thông tin giá của ngày hiện tại.\n",
      "[WARNING] Mã GEG (tín hiệu mua): không tìm thấy trong thông tin giá của ngày hiện tại.\n",
      "  > MUA 21 DBD @ 26,450 VND\n",
      "  > BÁN 29 PGS @ 20,680 VND\n",
      "  > BÁN 29 LMH @ 13,550 VND\n",
      "  > BÁN 25 STK @ 11,720 VND\n",
      "  > BÁN 22 CMX @ 13,400 VND\n",
      "  > BÁN 42 DPR @ 12,530 VND\n"
     ]
    },
    {
     "name": "stderr",
     "output_type": "stream",
     "text": [
      "Đang mô phỏng giao dịch:  76%|█████████████████████████████████████████████████████████████████▍                    | 4661/6124 [00:25<00:13, 110.74it/s]"
     ]
    },
    {
     "name": "stdout",
     "output_type": "stream",
     "text": [
      "  > BÁN 6 VTP @ 56,540 VND\n",
      "  > BÁN 17 C69 @ 15,550 VND\n",
      "  > MUA 4 MBG @ 33,560 VND\n",
      "  > BÁN 34 TNG @ 8,020 VND\n",
      "  > MUA 25 TAR @ 22,180 VND\n",
      "  > BÁN 21 TDM @ 20,770 VND\n",
      "  > MUA 46 DHC @ 16,170 VND\n",
      "  > BÁN 30 MSH @ 16,200 VND\n",
      "  > BÁN 8 PWA @ 11,610 VND\n",
      "  > BÁN 37 BWE @ 18,720 VND\n",
      "  > MUA 5 NHH @ 29,460 VND\n",
      "  > MUA 27 TNA @ 15,010 VND\n",
      "  > BÁN 20 VRG @ 7,230 VND\n",
      "  > BÁN 4 MBG @ 25,920 VND\n"
     ]
    },
    {
     "name": "stderr",
     "output_type": "stream",
     "text": [
      "Đang mô phỏng giao dịch:  77%|██████████████████████████████████████████████████████████████████                    | 4707/6124 [00:25<00:10, 136.32it/s]"
     ]
    },
    {
     "name": "stdout",
     "output_type": "stream",
     "text": [
      "  > BÁN 12 VGI @ 26,830 VND\n",
      "  > MUA 31 TCH @ 15,190 VND\n",
      "  > BÁN 13 SZL @ 19,130 VND\n",
      "  > BÁN 28 GVR @ 10,940 VND\n",
      "[WARNING] Mã NHH (holding): không tìm thấy trong thông tin giá của ngày hiện tại.\n",
      "[WARNING] Mã NHH (tín hiệu mua): không tìm thấy trong thông tin giá của ngày hiện tại.\n",
      "[WARNING] Mã NHH (holding): không tìm thấy trong thông tin giá của ngày hiện tại.\n",
      "[WARNING] Mã NHH (tín hiệu mua): không tìm thấy trong thông tin giá của ngày hiện tại.\n",
      "[WARNING] Mã NHH (holding): không tìm thấy trong thông tin giá của ngày hiện tại.\n",
      "[WARNING] Mã NHH (tín hiệu mua): không tìm thấy trong thông tin giá của ngày hiện tại.\n",
      "[WARNING] Mã NHH (holding): không tìm thấy trong thông tin giá của ngày hiện tại.\n",
      "[WARNING] Mã NHH (tín hiệu mua): không tìm thấy trong thông tin giá của ngày hiện tại.\n",
      "[WARNING] Mã NHH (holding): không tìm thấy trong thông tin giá của ngày hiện tại.\n",
      "[WARNING] Mã NHH (tín hiệu mua): không tìm thấy trong thông tin giá của ngày hiện tại.\n",
      "  > BÁN 5 SIP @ 24,780 VND\n",
      "  > MUA 13 DCL @ 29,900 VND\n",
      "  > MUA 43 DDG @ 14,340 VND\n",
      "  > BÁN 31 DPG @ 15,470 VND\n",
      "  > MUA 27 BID @ 25,430 VND\n",
      "  > BÁN 46 HDG @ 10,300 VND\n",
      "\n",
      "--- Ngày: 2019-12-27 ---\n",
      "NAV: 108,178,693 VND | Tiền mặt: 93,968,173 VND | CP: 23\n",
      "  > BÁN 27 TNA @ 13,280 VND\n",
      "  > MUA 18 GAB @ 17,130 VND\n",
      "  > MUA 34 TVC @ 14,600 VND\n"
     ]
    },
    {
     "name": "stderr",
     "output_type": "stream",
     "text": [
      "Đang mô phỏng giao dịch:  77%|██████████████████████████████████████████████████████████████████▌                   | 4744/6124 [00:25<00:08, 153.74it/s]"
     ]
    },
    {
     "name": "stdout",
     "output_type": "stream",
     "text": [
      "  > BÁN 62 GEG @ 16,780 VND\n",
      "  > BÁN 5 VIC @ 102,130 VND\n",
      "  > MUA 44 KOS @ 21,440 VND\n",
      "  > BÁN 19 CMG @ 13,590 VND\n",
      "  > BÁN 26 FMC @ 18,130 VND\n",
      "  > BÁN 11 BCM @ 24,830 VND\n",
      "  > BÁN 26 MWG @ 34,060 VND\n",
      "  > BÁN 13 DCL @ 21,650 VND\n",
      "  > BÁN 21 DBD @ 23,950 VND\n",
      "  > MUA 41 TVB @ 11,570 VND\n",
      "  > BÁN 14 AST @ 63,160 VND\n",
      "  > BÁN 31 TCH @ 19,590 VND\n",
      "  > BÁN 41 TVB @ 9,750 VND\n",
      "  > BÁN 50 FPT @ 18,620 VND\n",
      "  > BÁN 18 HTM @ 13,050 VND\n",
      "  > BÁN 27 BID @ 24,830 VND\n"
     ]
    },
    {
     "name": "stderr",
     "output_type": "stream",
     "text": [
      "Đang mô phỏng giao dịch:  78%|██████████████████████████████████████████████████████████████████▊                   | 4760/6124 [00:26<00:09, 138.61it/s]"
     ]
    },
    {
     "name": "stdout",
     "output_type": "stream",
     "text": [
      "  > BÁN 23 VCB @ 31,310 VND\n",
      "  > BÁN 27 CTR @ 17,340 VND\n",
      "  > BÁN 46 DHC @ 13,670 VND\n",
      "  > BÁN 41 EIB @ 9,090 VND\n",
      "  > MUA 91 GKM @ 10,040 VND\n"
     ]
    },
    {
     "name": "stderr",
     "output_type": "stream",
     "text": [
      "Đang mô phỏng giao dịch:  79%|███████████████████████████████████████████████████████████████████▋                  | 4818/6124 [00:26<00:07, 164.20it/s]"
     ]
    },
    {
     "name": "stdout",
     "output_type": "stream",
     "text": [
      "  > MUA 16 LIX @ 22,210 VND\n",
      "  > MUA 21 DBC @ 10,440 VND\n",
      "  > MUA 66 PDR @ 11,650 VND\n",
      "\n",
      "--- Ngày: 2020-05-28 ---\n",
      "NAV: 109,711,174 VND | Tiền mặt: 99,947,764 VND | CP: 12\n",
      "  > BÁN 25 TAR @ 16,670 VND\n",
      "  > MUA 40 NDN @ 11,120 VND\n",
      "  > BÁN 34 TVC @ 18,980 VND\n",
      "  > MUA 20 FMC @ 21,930 VND\n",
      "  > MUA 18 DAH @ 15,850 VND\n",
      "  > MUA 8 VLC @ 26,780 VND\n"
     ]
    },
    {
     "name": "stderr",
     "output_type": "stream",
     "text": [
      "Đang mô phỏng giao dịch:  79%|███████████████████████████████████████████████████████████████████▉                  | 4835/6124 [00:26<00:09, 134.82it/s]"
     ]
    },
    {
     "name": "stdout",
     "output_type": "stream",
     "text": [
      "  > MUA 33 VRG @ 11,130 VND\n",
      "  > BÁN 18 DAH @ 11,800 VND\n",
      "  > MUA 21 DHC @ 18,570 VND\n"
     ]
    },
    {
     "name": "stderr",
     "output_type": "stream",
     "text": [
      "Đang mô phỏng giao dịch:  79%|████████████████████████████████████████████████████████████████████▉                  | 4850/6124 [00:26<00:13, 92.03it/s]"
     ]
    },
    {
     "name": "stdout",
     "output_type": "stream",
     "text": [
      "  > MUA 19 SZC @ 15,630 VND\n",
      "  > MUA 30 LHG @ 16,500 VND\n",
      "  > MUA 18 AFX @ 11,400 VND\n"
     ]
    },
    {
     "name": "stderr",
     "output_type": "stream",
     "text": [
      "Đang mô phỏng giao dịch:  80%|████████████████████████████████████████████████████████████████████▍                 | 4877/6124 [00:27<00:12, 101.01it/s]"
     ]
    },
    {
     "name": "stdout",
     "output_type": "stream",
     "text": [
      "  > MUA 9 SCI @ 19,590 VND\n",
      "  > MUA 29 DGC @ 13,990 VND\n",
      "  > MUA 38 HLD @ 10,370 VND\n",
      "  > MUA 29 DGW @ 10,520 VND\n",
      "  > MUA 31 REE @ 21,090 VND\n",
      "  > MUA 5 MLS @ 33,800 VND\n",
      "  > MUA 26 FPT @ 22,410 VND\n",
      "  > MUA 37 HTN @ 10,430 VND\n",
      "  > MUA 7 VTP @ 69,470 VND\n"
     ]
    },
    {
     "name": "stderr",
     "output_type": "stream",
     "text": [
      "Đang mô phỏng giao dịch:  80%|████████████████████████████████████████████████████████████████████▉                 | 4906/6124 [00:27<00:11, 102.52it/s]"
     ]
    },
    {
     "name": "stdout",
     "output_type": "stream",
     "text": [
      "  > MUA 27 CTR @ 26,900 VND\n",
      "  > MUA 35 DTD @ 10,130 VND\n",
      "\n",
      "--- Ngày: 2020-10-16 ---\n",
      "NAV: 111,246,947 VND | Tiền mặt: 93,425,827 VND | CP: 29\n",
      "  > BÁN 21 DBC @ 12,580 VND\n",
      "  > MUA 23 VCG @ 26,770 VND\n",
      "  > MUA 59 HPG @ 13,070 VND\n"
     ]
    },
    {
     "name": "stderr",
     "output_type": "stream",
     "text": [
      "Đang mô phỏng giao dịch:  80%|█████████████████████████████████████████████████████████████████████▏                | 4929/6124 [00:27<00:11, 100.32it/s]"
     ]
    },
    {
     "name": "stdout",
     "output_type": "stream",
     "text": [
      "  > BÁN 9 SCI @ 26,930 VND\n",
      "  > MUA 43 IMP @ 20,340 VND\n",
      "  > MUA 23 GIL @ 18,560 VND\n",
      "  > MUA 42 HDC @ 10,600 VND\n",
      "  > MUA 14 APH @ 48,760 VND\n",
      "  > MUA 28 GVR @ 15,390 VND\n",
      "  > MUA 7 TDP @ 18,460 VND\n",
      "  > MUA 63 ACB @ 10,210 VND\n",
      "  > MUA 57 VSC @ 10,680 VND\n",
      "  > MUA 32 IDC @ 16,970 VND\n",
      "  > MUA 9 CVT @ 37,560 VND\n",
      "  > MUA 41 VGC @ 20,780 VND\n",
      "  > MUA 35 BWE @ 22,640 VND\n",
      "  > MUA 41 HDG @ 12,970 VND\n",
      "  > MUA 21 VCB @ 40,750 VND\n",
      "  > MUA 26 ILB @ 15,720 VND\n",
      "[WARNING] Mã ACB (holding): không tìm thấy trong thông tin giá của ngày hiện tại.\n",
      "[WARNING] Mã ACB (tín hiệu mua): không tìm thấy trong thông tin giá của ngày hiện tại.\n",
      "[WARNING] Mã ACB (holding): không tìm thấy trong thông tin giá của ngày hiện tại.\n",
      "[WARNING] Mã ACB (tín hiệu mua): không tìm thấy trong thông tin giá của ngày hiện tại.\n",
      "  > MUA 7 SIP @ 45,310 VND\n",
      "[WARNING] Mã ACB (holding): không tìm thấy trong thông tin giá của ngày hiện tại.\n",
      "[WARNING] Mã ACB (tín hiệu mua): không tìm thấy trong thông tin giá của ngày hiện tại.\n",
      "[WARNING] Mã ACB (holding): không tìm thấy trong thông tin giá của ngày hiện tại.\n"
     ]
    },
    {
     "name": "stderr",
     "output_type": "stream",
     "text": [
      "Đang mô phỏng giao dịch:  81%|██████████████████████████████████████████████████████████████████████▎                | 4950/6124 [00:27<00:14, 81.54it/s]"
     ]
    },
    {
     "name": "stdout",
     "output_type": "stream",
     "text": [
      "[WARNING] Mã ACB (tín hiệu mua): không tìm thấy trong thông tin giá của ngày hiện tại.\n",
      "  > MUA 19 PLC @ 22,550 VND\n",
      "[WARNING] Mã ACB (holding): không tìm thấy trong thông tin giá của ngày hiện tại.\n",
      "[WARNING] Mã ACB (tín hiệu mua): không tìm thấy trong thông tin giá của ngày hiện tại.\n",
      "  > MUA 38 KDH @ 17,570 VND\n",
      "  > MUA 39 BNA @ 10,740 VND\n",
      "  > MUA 35 NHA @ 10,070 VND\n",
      "  > MUA 15 TCM @ 24,940 VND\n",
      "  > MUA 43 IJC @ 10,890 VND\n",
      "  > MUA 47 TDC @ 10,310 VND\n",
      "  > MUA 16 TIP @ 26,980 VND\n",
      "[WARNING] Mã VCG (holding): không tìm thấy trong thông tin giá của ngày hiện tại.\n",
      "[WARNING] Mã VCG (tín hiệu mua): không tìm thấy trong thông tin giá của ngày hiện tại.\n",
      "  > MUA 14 D2D @ 33,590 VND\n",
      "  > MUA 55 EIB @ 13,570 VND\n",
      "  > MUA 2 THD @ 80,000 VND\n",
      "[WARNING] Mã VCG (holding): không tìm thấy trong thông tin giá của ngày hiện tại.\n",
      "[WARNING] Mã VCG (tín hiệu mua): không tìm thấy trong thông tin giá của ngày hiện tại.\n",
      "  > BÁN 14 APH @ 45,730 VND\n",
      "  > MUA 48 BCE @ 10,430 VND\n",
      "  > MUA 42 VPG @ 10,500 VND\n",
      "[WARNING] Mã VCG (holding): không tìm thấy trong thông tin giá của ngày hiện tại.\n",
      "[WARNING] Mã VCG (tín hiệu mua): không tìm thấy trong thông tin giá của ngày hiện tại.\n",
      "[WARNING] Mã VCG (holding): không tìm thấy trong thông tin giá của ngày hiện tại.\n",
      "[WARNING] Mã VCG (tín hiệu mua): không tìm thấy trong thông tin giá của ngày hiện tại.\n",
      "  > MUA 51 DCM @ 10,200 VND\n",
      "[WARNING] Mã VCG (holding): không tìm thấy trong thông tin giá của ngày hiện tại.\n",
      "[WARNING] Mã VCG (tín hiệu mua): không tìm thấy trong thông tin giá của ngày hiện tại.\n",
      "  > MUA 52 CTF @ 15,070 VND\n",
      "  > MUA 22 ICT @ 20,270 VND\n",
      "  > MUA 28 DBC @ 18,310 VND\n",
      "  > MUA 15 G36 @ 14,700 VND\n"
     ]
    },
    {
     "name": "stderr",
     "output_type": "stream",
     "text": [
      "Đang mô phỏng giao dịch:  81%|██████████████████████████████████████████████████████████████████████▍                | 4959/6124 [00:28<00:15, 73.38it/s]"
     ]
    },
    {
     "name": "stdout",
     "output_type": "stream",
     "text": [
      "  > MUA 33 TCL @ 19,560 VND\n",
      "  > MUA 36 TDT @ 11,160 VND\n",
      "  > MUA 45 TPB @ 10,110 VND\n",
      "  > MUA 41 BSI @ 10,740 VND\n",
      "  > MUA 25 CTG @ 26,060 VND\n",
      "  > MUA 41 MIG @ 10,230 VND\n",
      "  > MUA 22 FIT @ 16,590 VND\n",
      "  > MUA 22 KDC @ 36,850 VND\n",
      "  > MUA 28 NLG @ 28,080 VND\n",
      "  > MUA 18 POS @ 14,610 VND\n",
      "  > MUA 11 VGI @ 37,620 VND\n",
      "  > MUA 8 BCM @ 50,950 VND\n",
      "  > MUA 14 PHR @ 53,480 VND\n",
      "  > MUA 25 HSG @ 17,760 VND\n",
      "[WARNING] Mã NHA (holding): không tìm thấy trong thông tin giá của ngày hiện tại.\n",
      "[WARNING] Mã MIG (holding): không tìm thấy trong thông tin giá của ngày hiện tại.\n",
      "[WARNING] Mã NHA (tín hiệu mua): không tìm thấy trong thông tin giá của ngày hiện tại.\n",
      "[WARNING] Mã MIG (tín hiệu mua): không tìm thấy trong thông tin giá của ngày hiện tại.\n",
      "[WARNING] Mã NHA (holding): không tìm thấy trong thông tin giá của ngày hiện tại.\n",
      "[WARNING] Mã MIG (holding): không tìm thấy trong thông tin giá của ngày hiện tại.\n",
      "[WARNING] Mã NHA (tín hiệu mua): không tìm thấy trong thông tin giá của ngày hiện tại.\n",
      "[WARNING] Mã MIG (tín hiệu mua): không tìm thấy trong thông tin giá của ngày hiện tại.\n",
      "  > MUA 21 MWG @ 40,940 VND\n",
      "  > MUA 25 PET @ 15,680 VND\n",
      "  > MUA 43 VPI @ 24,990 VND\n",
      "[WARNING] Mã NHA (holding): không tìm thấy trong thông tin giá của ngày hiện tại.\n",
      "[WARNING] Mã MIG (holding): không tìm thấy trong thông tin giá của ngày hiện tại.\n",
      "[WARNING] Mã NHA (tín hiệu mua): không tìm thấy trong thông tin giá của ngày hiện tại.\n",
      "[WARNING] Mã MIG (tín hiệu mua): không tìm thấy trong thông tin giá của ngày hiện tại.\n",
      "  > MUA 38 NVB @ 10,700 VND\n",
      "  > MUA 24 SSI @ 16,830 VND\n",
      "  > MUA 30 TCB @ 18,040 VND\n",
      "  > MUA 36 TNG @ 11,520 VND\n",
      "  > MUA 22 VGT @ 14,820 VND\n",
      "  > MUA 53 VIB @ 9,990 VND\n",
      "[WARNING] Mã NHA (holding): không tìm thấy trong thông tin giá của ngày hiện tại.\n",
      "[WARNING] Mã MIG (holding): không tìm thấy trong thông tin giá của ngày hiện tại.\n",
      "[WARNING] Mã NHA (tín hiệu mua): không tìm thấy trong thông tin giá của ngày hiện tại.\n",
      "[WARNING] Mã MIG (tín hiệu mua): không tìm thấy trong thông tin giá của ngày hiện tại.\n",
      "  > MUA 16 ABS @ 26,440 VND\n",
      "  > MUA 26 ASM @ 11,760 VND\n",
      "  > MUA 12 DCL @ 32,400 VND\n",
      "  > MUA 18 DIG @ 20,910 VND\n",
      "  > MUA 24 PGN @ 12,070 VND\n",
      "[WARNING] Mã NHA (holding): không tìm thấy trong thông tin giá của ngày hiện tại.\n",
      "[WARNING] Mã MIG (holding): không tìm thấy trong thông tin giá của ngày hiện tại.\n",
      "[WARNING] Mã NHA (tín hiệu mua): không tìm thấy trong thông tin giá của ngày hiện tại.\n",
      "[WARNING] Mã MIG (tín hiệu mua): không tìm thấy trong thông tin giá của ngày hiện tại.\n"
     ]
    },
    {
     "name": "stderr",
     "output_type": "stream",
     "text": [
      "Đang mô phỏng giao dịch:  81%|██████████████████████████████████████████████████████████████████████▋                | 4975/6124 [00:28<00:18, 63.10it/s]"
     ]
    },
    {
     "name": "stdout",
     "output_type": "stream",
     "text": [
      "  > BÁN 39 BNA @ 8,880 VND\n",
      "  > BÁN 36 TDT @ 9,870 VND\n",
      "[WARNING] Mã NHA (holding): không tìm thấy trong thông tin giá của ngày hiện tại.\n",
      "[WARNING] Mã MIG (holding): không tìm thấy trong thông tin giá của ngày hiện tại.\n",
      "[WARNING] Mã NHA (tín hiệu mua): không tìm thấy trong thông tin giá của ngày hiện tại.\n",
      "[WARNING] Mã MIG (tín hiệu mua): không tìm thấy trong thông tin giá của ngày hiện tại.\n",
      "  > BÁN 7 TDP @ 15,050 VND\n",
      "  > MUA 19 SMC @ 19,250 VND\n",
      "  > MUA 11 NVL @ 44,510 VND\n",
      "  > MUA 9 KBC @ 31,760 VND\n",
      "  > MUA 22 TVN @ 13,490 VND\n",
      "  > MUA 34 CKG @ 9,530 VND\n",
      "  > BÁN 16 LIX @ 18,450 VND\n",
      "  > BÁN 8 VLC @ 24,420 VND\n",
      "  > BÁN 5 MLS @ 32,550 VND\n",
      "  > BÁN 7 VTP @ 56,290 VND\n",
      "  > BÁN 9 CVT @ 38,370 VND\n",
      "  > BÁN 14 D2D @ 24,450 VND\n",
      "  > BÁN 48 BCE @ 8,820 VND\n",
      "  > BÁN 25 CTG @ 19,490 VND\n",
      "  > BÁN 22 FIT @ 13,120 VND\n",
      "  > BÁN 26 ILB @ 12,550 VND\n",
      "  > BÁN 28 DBC @ 13,960 VND\n",
      "  > BÁN 41 BSI @ 8,010 VND\n"
     ]
    },
    {
     "name": "stderr",
     "output_type": "stream",
     "text": [
      "Đang mô phỏng giao dịch:  81%|██████████████████████████████████████████████████████████████████████▉                | 4989/6124 [00:28<00:19, 59.22it/s]"
     ]
    },
    {
     "name": "stdout",
     "output_type": "stream",
     "text": [
      "  > MUA 29 PC1 @ 14,080 VND\n",
      "  > MUA 16 PAS @ 14,750 VND\n",
      "  > MUA 5 L14 @ 52,590 VND\n",
      "  > MUA 11 HU4 @ 15,970 VND\n",
      "  > MUA 18 BNA @ 12,660 VND\n",
      "  > MUA 11 PTB @ 44,110 VND\n",
      "  > BÁN 22 ICT @ 15,450 VND\n",
      "  > MUA 22 VIX @ 10,110 VND\n"
     ]
    },
    {
     "name": "stderr",
     "output_type": "stream",
     "text": [
      "Đang mô phỏng giao dịch:  82%|███████████████████████████████████████████████████████████████████████                | 5004/6124 [00:28<00:18, 62.19it/s]"
     ]
    },
    {
     "name": "stdout",
     "output_type": "stream",
     "text": [
      "  > MUA 19 AGG @ 21,580 VND\n",
      "  > MUA 21 LIX @ 22,410 VND\n",
      "  > MUA 24 PPC @ 17,260 VND\n",
      "  > MUA 23 BCE @ 13,380 VND\n",
      "  > BÁN 91 GKM @ 9,020 VND\n",
      "  > MUA 12 DDV @ 12,760 VND\n",
      "  > MUA 37 CSV @ 10,270 VND\n",
      "  > MUA 7 PVM @ 24,840 VND\n",
      "  > MUA 27 CCL @ 10,990 VND\n",
      "  > MUA 8 NRC @ 24,850 VND\n",
      "  > MUA 26 HHP @ 15,520 VND\n",
      "  > MUA 23 VPB @ 14,390 VND\n",
      "\n",
      "--- Ngày: 2021-03-15 ---\n",
      "NAV: 123,048,796 VND | Tiền mặt: 60,419,916 VND | CP: 96\n",
      "  > MUA 23 PGB @ 12,130 VND\n",
      "  > MUA 14 CTG @ 27,880 VND\n",
      "  > MUA 11 SGP @ 17,830 VND\n",
      "  > MUA 32 SHI @ 10,910 VND\n",
      "  > MUA 7 TID @ 29,460 VND\n"
     ]
    },
    {
     "name": "stderr",
     "output_type": "stream",
     "text": [
      "Đang mô phỏng giao dịch:  82%|███████████████████████████████████████████████████████████████████████▎               | 5018/6124 [00:29<00:19, 56.49it/s]"
     ]
    },
    {
     "name": "stdout",
     "output_type": "stream",
     "text": [
      "  > MUA 5 VNB @ 31,800 VND\n",
      "  > MUA 46 CRE @ 10,390 VND\n",
      "  > MUA 24 ORS @ 10,070 VND\n",
      "  > MUA 31 HTI @ 12,370 VND\n",
      "  > MUA 14 STK @ 24,290 VND\n",
      "  > MUA 37 TEG @ 10,110 VND\n",
      "  > MUA 24 SHB @ 10,250 VND\n",
      "  > MUA 30 SHS @ 10,130 VND\n",
      "  > MUA 40 ABB @ 10,620 VND\n",
      "  > MUA 47 MBB @ 10,260 VND\n",
      "  > MUA 30 MBS @ 10,220 VND\n",
      "  > MUA 40 VC3 @ 10,960 VND\n",
      "  > MUA 4 VIC @ 112,890 VND\n",
      "  > BÁN 57 VSC @ 11,290 VND\n"
     ]
    },
    {
     "name": "stderr",
     "output_type": "stream",
     "text": [
      "Đang mô phỏng giao dịch:  82%|███████████████████████████████████████████████████████████████████████▎               | 5024/6124 [00:29<00:22, 49.47it/s]"
     ]
    },
    {
     "name": "stdout",
     "output_type": "stream",
     "text": [
      "  > MUA 25 GEX @ 18,450 VND\n",
      "  > MUA 18 KLB @ 19,910 VND\n",
      "  > MUA 29 TLH @ 11,240 VND\n",
      "  > MUA 18 VGS @ 15,150 VND\n",
      "  > BÁN 14 PHR @ 41,640 VND\n",
      "  > BÁN 5 VNB @ 18,700 VND\n",
      "  > MUA 31 TVB @ 12,940 VND\n",
      "  > MUA 26 EVS @ 11,250 VND\n",
      "  > MUA 39 HMC @ 12,540 VND\n",
      "  > MUA 42 VNP @ 10,300 VND\n"
     ]
    },
    {
     "name": "stderr",
     "output_type": "stream",
     "text": [
      "Đang mô phỏng giao dịch:  82%|███████████████████████████████████████████████████████████████████████▌               | 5036/6124 [00:29<00:22, 47.71it/s]"
     ]
    },
    {
     "name": "stdout",
     "output_type": "stream",
     "text": [
      "  > MUA 15 PNJ @ 66,680 VND\n",
      "  > BÁN 35 NHA @ 18,100 VND\n",
      "  > BÁN 12 DDV @ 9,190 VND\n",
      "  > BÁN 26 HHP @ 11,240 VND\n",
      "  > BÁN 15 G36 @ 9,680 VND\n",
      "  > BÁN 11 VGI @ 32,670 VND\n",
      "  > BÁN 18 GAB @ 176,750 VND\n",
      "  > BÁN 16 TIP @ 27,650 VND\n",
      "  > BÁN 26 ASM @ 8,410 VND\n",
      "  > MUA 23 PSH @ 23,340 VND\n",
      "  > BÁN 16 ABS @ 45,070 VND\n",
      "  > MUA 49 FIR @ 13,210 VND\n",
      "  > MUA 51 PHC @ 10,040 VND\n",
      "  > MUA 19 CSC @ 21,450 VND\n"
     ]
    },
    {
     "name": "stderr",
     "output_type": "stream",
     "text": [
      "Đang mô phỏng giao dịch:  82%|███████████████████████████████████████████████████████████████████████▋               | 5047/6124 [00:29<00:22, 47.68it/s]"
     ]
    },
    {
     "name": "stdout",
     "output_type": "stream",
     "text": [
      "  > BÁN 11 HU4 @ 12,850 VND\n",
      "  > MUA 37 HAX @ 11,440 VND\n",
      "  > MUA 47 HDB @ 13,020 VND\n",
      "  > MUA 25 NKG @ 17,150 VND\n",
      "  > MUA 33 TIG @ 10,230 VND\n",
      "  > BÁN 33 VRG @ 17,650 VND\n",
      "  > MUA 49 LPB @ 10,180 VND\n",
      "  > BÁN 22 VIX @ 7,470 VND\n",
      "  > BÁN 5 NHH @ 41,350 VND\n",
      "  > BÁN 37 HTN @ 17,890 VND\n",
      "  > BÁN 9 KBC @ 22,580 VND\n",
      "  > MUA 44 FTS @ 9,880 VND\n",
      "  > MUA 4 MSN @ 92,120 VND\n",
      "  > MUA 53 OCB @ 10,150 VND\n",
      "  > BÁN 7 TID @ 17,160 VND\n",
      "  > MUA 34 ADS @ 10,110 VND\n",
      "  > MUA 25 BVB @ 14,460 VND\n",
      "  > MUA 21 NAF @ 25,360 VND\n",
      "  > MUA 39 SGB @ 14,450 VND\n",
      "  > MUA 9 SPI @ 20,900 VND\n",
      "  > MUA 24 SSB @ 17,230 VND\n",
      "  > MUA 23 VCI @ 20,320 VND\n"
     ]
    },
    {
     "name": "stderr",
     "output_type": "stream",
     "text": [
      "Đang mô phỏng giao dịch:  83%|███████████████████████████████████████████████████████████████████████▉               | 5060/6124 [00:30<00:20, 50.72it/s]"
     ]
    },
    {
     "name": "stdout",
     "output_type": "stream",
     "text": [
      "  > MUA 13 STB @ 30,400 VND\n",
      "  > MUA 10 APH @ 56,400 VND\n",
      "  > MUA 28 BSI @ 13,120 VND\n",
      "  > MUA 59 MSB @ 10,140 VND\n",
      "  > BÁN 23 GIL @ 26,270 VND\n",
      "  > MUA 23 DXG @ 18,900 VND\n",
      "  > MUA 29 HCM @ 14,710 VND\n",
      "  > MUA 20 VBB @ 15,770 VND\n",
      "  > MUA 40 VDS @ 10,910 VND\n",
      "  > MUA 40 VND @ 10,220 VND\n",
      "  > MUA 35 CTS @ 9,760 VND\n",
      "  > MUA 24 DBC @ 20,340 VND\n",
      "  > MUA 41 PVP @ 11,470 VND\n",
      "  > MUA 15 BDT @ 25,920 VND\n"
     ]
    },
    {
     "name": "stderr",
     "output_type": "stream",
     "text": [
      "Đang mô phỏng giao dịch:  83%|████████████████████████████████████████████████████████████████████████               | 5072/6124 [00:30<00:20, 52.59it/s]"
     ]
    },
    {
     "name": "stdout",
     "output_type": "stream",
     "text": [
      "  > MUA 28 ANV @ 13,650 VND\n",
      "  > MUA 10 LTG @ 30,650 VND\n",
      "  > MUA 45 MST @ 11,550 VND\n",
      "  > MUA 16 GDT @ 32,330 VND\n",
      "  > MUA 30 NED @ 10,660 VND\n",
      "  > BÁN 78 HPX @ 29,570 VND\n",
      "  > MUA 27 TCI @ 10,150 VND\n",
      "  > MUA 34 NBC @ 10,300 VND\n",
      "  > MUA 30 TVS @ 15,280 VND\n",
      "  > BÁN 7 SIP @ 50,150 VND\n"
     ]
    },
    {
     "name": "stderr",
     "output_type": "stream",
     "text": [
      "Đang mô phỏng giao dịch:  83%|████████████████████████████████████████████████████████████████████████▏              | 5083/6124 [00:30<00:22, 45.71it/s]"
     ]
    },
    {
     "name": "stdout",
     "output_type": "stream",
     "text": [
      "  > MUA 28 DRC @ 19,310 VND\n",
      "  > MUA 20 DPR @ 27,190 VND\n",
      "  > MUA 49 HAH @ 10,420 VND\n",
      "  > BÁN 10 APH @ 44,240 VND\n",
      "  > BÁN 4 VIC @ 99,560 VND\n",
      "  > BÁN 7 PVM @ 17,120 VND\n",
      "  > BÁN 32 IDC @ 17,580 VND\n",
      "  > BÁN 5 L14 @ 51,420 VND\n",
      "  > BÁN 23 PGB @ 12,800 VND\n",
      "  > BÁN 18 VGS @ 9,380 VND\n",
      "  > BÁN 23 PSH @ 19,240 VND\n",
      "  > BÁN 39 SGB @ 14,820 VND\n"
     ]
    },
    {
     "name": "stderr",
     "output_type": "stream",
     "text": [
      "Đang mô phỏng giao dịch:  83%|████████████████████████████████████████████████████████████████████████▎              | 5088/6124 [00:30<00:24, 42.65it/s]"
     ]
    },
    {
     "name": "stdout",
     "output_type": "stream",
     "text": [
      "  > BÁN 8 NRC @ 17,230 VND\n",
      "  > BÁN 8 BCM @ 39,870 VND\n",
      "  > BÁN 32 HND @ 13,280 VND\n",
      "  > BÁN 30 NED @ 7,580 VND\n",
      "  > BÁN 37 HAX @ 10,070 VND\n",
      "  > BÁN 53 VIB @ 15,340 VND\n",
      "  > MUA 23 ILB @ 18,430 VND\n",
      "  > MUA 27 TCO @ 9,490 VND\n",
      "  > BÁN 32 SHI @ 13,400 VND\n",
      "  > MUA 24 TDM @ 26,940 VND\n"
     ]
    },
    {
     "name": "stderr",
     "output_type": "stream",
     "text": [
      "Đang mô phỏng giao dịch:  83%|████████████████████████████████████████████████████████████████████████▍              | 5099/6124 [00:30<00:24, 41.82it/s]"
     ]
    },
    {
     "name": "stdout",
     "output_type": "stream",
     "text": [
      "  > MUA 25 MSH @ 21,840 VND\n",
      "  > MUA 3 SCG @ 69,300 VND\n",
      "  > MUA 21 BFC @ 22,440 VND\n",
      "  > MUA 36 HDA @ 10,860 VND\n",
      "  > MUA 6 VCS @ 93,280 VND\n",
      "  > MUA 19 DPG @ 21,420 VND\n",
      "  > BÁN 31 HTI @ 10,270 VND\n",
      "\n",
      "--- Ngày: 2021-08-05 ---\n",
      "NAV: 135,500,754 VND | Tiền mặt: 46,400,674 VND | CP: 136\n",
      "  > MUA 39 NTL @ 12,160 VND\n"
     ]
    },
    {
     "name": "stderr",
     "output_type": "stream",
     "text": [
      "Đang mô phỏng giao dịch:  83%|████████████████████████████████████████████████████████████████████████▌              | 5110/6124 [00:31<00:23, 42.59it/s]"
     ]
    },
    {
     "name": "stdout",
     "output_type": "stream",
     "text": [
      "  > MUA 23 CMG @ 22,110 VND\n",
      "  > MUA 36 DPM @ 13,010 VND\n",
      "  > MUA 23 ITD @ 14,410 VND\n",
      "  > MUA 11 PHP @ 27,370 VND\n",
      "  > MUA 29 BMS @ 10,690 VND\n",
      "  > MUA 15 SWC @ 30,000 VND\n",
      "  > MUA 37 BCG @ 11,160 VND\n",
      "  > MUA 13 DVP @ 40,870 VND\n",
      "  > MUA 31 TNH @ 15,000 VND\n",
      "  > MUA 45 IDJ @ 10,110 VND\n",
      "  > MUA 20 TV2 @ 30,460 VND\n",
      "  > MUA 55 QTP @ 10,420 VND\n",
      "  > MUA 17 VGS @ 16,700 VND\n",
      "  > MUA 17 VOS @ 14,100 VND\n",
      "  > MUA 29 CST @ 10,000 VND\n",
      "  > MUA 22 ABI @ 20,720 VND\n",
      "  > BÁN 18 POS @ 10,600 VND\n",
      "  > BÁN 15 TCM @ 46,220 VND\n",
      "  > MUA 21 AGR @ 15,450 VND\n",
      "  > MUA 22 DDV @ 15,490 VND\n"
     ]
    },
    {
     "name": "stderr",
     "output_type": "stream",
     "text": [
      "Đang mô phỏng giao dịch:  84%|████████████████████████████████████████████████████████████████████████▊              | 5121/6124 [00:31<00:21, 45.90it/s]"
     ]
    },
    {
     "name": "stdout",
     "output_type": "stream",
     "text": [
      "  > MUA 36 TCD @ 10,050 VND\n",
      "  > BÁN 14 CTG @ 26,820 VND\n",
      "  > MUA 41 DRI @ 10,190 VND\n",
      "  > MUA 38 GKM @ 11,450 VND\n",
      "  > MUA 19 PGV @ 18,600 VND\n",
      "[WARNING] Mã TVB (holding): không tìm thấy trong thông tin giá của ngày hiện tại.\n",
      "[WARNING] Mã BSI (holding): không tìm thấy trong thông tin giá của ngày hiện tại.\n",
      "[WARNING] Mã VND (holding): không tìm thấy trong thông tin giá của ngày hiện tại.\n",
      "[WARNING] Mã TVB (tín hiệu mua): không tìm thấy trong thông tin giá của ngày hiện tại.\n",
      "[WARNING] Mã BSI (tín hiệu mua): không tìm thấy trong thông tin giá của ngày hiện tại.\n",
      "[WARNING] Mã VND (tín hiệu mua): không tìm thấy trong thông tin giá của ngày hiện tại.\n",
      "  > MUA 23 DBT @ 16,150 VND\n",
      "  > MUA 14 DVN @ 25,800 VND\n",
      "  > MUA 12 NBB @ 34,900 VND\n",
      "[WARNING] Mã TVB (holding): không tìm thấy trong thông tin giá của ngày hiện tại.\n",
      "[WARNING] Mã BSI (holding): không tìm thấy trong thông tin giá của ngày hiện tại.\n",
      "[WARNING] Mã VND (holding): không tìm thấy trong thông tin giá của ngày hiện tại.\n",
      "[WARNING] Mã TVB (tín hiệu mua): không tìm thấy trong thông tin giá của ngày hiện tại.\n",
      "[WARNING] Mã BSI (tín hiệu mua): không tìm thấy trong thông tin giá của ngày hiện tại.\n",
      "[WARNING] Mã VND (tín hiệu mua): không tìm thấy trong thông tin giá của ngày hiện tại.\n",
      "  > BÁN 9 SPI @ 11,600 VND\n",
      "  > MUA 15 AAV @ 21,930 VND\n",
      "  > MUA 11 HPX @ 37,440 VND\n",
      "  > MUA 9 TGG @ 33,000 VND\n",
      "[WARNING] Mã TVB (holding): không tìm thấy trong thông tin giá của ngày hiện tại.\n",
      "[WARNING] Mã BSI (holding): không tìm thấy trong thông tin giá của ngày hiện tại.\n",
      "[WARNING] Mã VND (holding): không tìm thấy trong thông tin giá của ngày hiện tại.\n",
      "[WARNING] Mã TVB (tín hiệu mua): không tìm thấy trong thông tin giá của ngày hiện tại.\n",
      "[WARNING] Mã BSI (tín hiệu mua): không tìm thấy trong thông tin giá của ngày hiện tại.\n",
      "[WARNING] Mã VND (tín hiệu mua): không tìm thấy trong thông tin giá của ngày hiện tại.\n",
      "  > MUA 26 APG @ 13,370 VND\n",
      "  > MUA 11 GIL @ 39,350 VND\n",
      "  > MUA 48 GSP @ 10,320 VND\n",
      "  > MUA 10 VNA @ 20,250 VND\n",
      "  > MUA 32 AAT @ 16,430 VND\n",
      "  > MUA 30 THT @ 10,890 VND\n",
      "  > MUA 27 TVD @ 10,550 VND\n",
      "  > MUA 20 AMS @ 14,570 VND\n",
      "  > MUA 28 VNL @ 14,240 VND\n",
      "  > MUA 31 VOC @ 21,070 VND\n",
      "  > BÁN 19 AGG @ 25,280 VND\n",
      "  > MUA 43 PSD @ 11,260 VND\n"
     ]
    },
    {
     "name": "stderr",
     "output_type": "stream",
     "text": [
      "Đang mô phỏng giao dịch:  84%|████████████████████████████████████████████████████████████████████████▉              | 5131/6124 [00:31<00:22, 44.63it/s]"
     ]
    },
    {
     "name": "stdout",
     "output_type": "stream",
     "text": [
      "  > MUA 10 BII @ 26,000 VND\n",
      "  > MUA 26 CLX @ 20,910 VND\n",
      "  > MUA 27 TC6 @ 10,500 VND\n",
      "  > MUA 30 TDN @ 10,220 VND\n",
      "  > MUA 11 VHC @ 39,220 VND\n",
      "  > MUA 21 NSH @ 14,900 VND\n",
      "  > MUA 22 TNS @ 10,300 VND\n",
      "  > MUA 23 LAS @ 15,870 VND\n",
      "  > MUA 24 CNG @ 21,110 VND\n",
      "  > MUA 17 VNR @ 24,860 VND\n",
      "  > MUA 19 API @ 18,290 VND\n",
      "  > MUA 17 QNS @ 39,430 VND\n",
      "  > MUA 29 PGC @ 17,810 VND\n",
      "  > MUA 19 TIS @ 14,900 VND\n",
      "  > MUA 13 VKC @ 24,700 VND\n",
      "  > BÁN 51 PHC @ 11,950 VND\n",
      "  > MUA 17 APS @ 20,000 VND\n",
      "  > MUA 20 KHB @ 10,900 VND\n",
      "  > MUA 17 IDC @ 29,520 VND\n",
      "  > MUA 56 EVF @ 10,160 VND\n",
      "  > MUA 11 IPA @ 27,210 VND\n",
      "  > MUA 25 PLP @ 16,490 VND\n",
      "  > MUA 18 MVC @ 13,740 VND\n",
      "  > MUA 11 PVI @ 41,500 VND\n"
     ]
    },
    {
     "name": "stderr",
     "output_type": "stream",
     "text": [
      "Đang mô phỏng giao dịch:  84%|█████████████████████████████████████████████████████████████████████████              | 5141/6124 [00:31<00:21, 44.69it/s]"
     ]
    },
    {
     "name": "stdout",
     "output_type": "stream",
     "text": [
      "  > BÁN 55 EIB @ 15,840 VND\n",
      "  > BÁN 11 NVL @ 78,480 VND\n",
      "  > MUA 40 ELC @ 13,860 VND\n",
      "  > BÁN 20 KHB @ 5,500 VND\n",
      "  > BÁN 12 DCL @ 35,000 VND\n",
      "  > BÁN 26 APG @ 12,020 VND\n",
      "  > BÁN 10 BII @ 16,200 VND\n",
      "  > BÁN 13 VKC @ 16,700 VND\n",
      "  > MUA 47 HTI @ 12,840 VND\n",
      "  > BÁN 13 STB @ 25,850 VND\n",
      "  > BÁN 9 TGG @ 48,550 VND\n",
      "  > MUA 30 PMB @ 10,200 VND\n",
      "  > MUA 63 SJD @ 13,800 VND\n",
      "  > BÁN 49 LPB @ 9,990 VND\n",
      "  > MUA 15 PGS @ 25,750 VND\n",
      "  > MUA 19 VSH @ 24,150 VND\n",
      "[WARNING] Mã SHB (holding): không tìm thấy trong thông tin giá của ngày hiện tại.\n",
      "[WARNING] Mã SHB (tín hiệu mua): không tìm thấy trong thông tin giá của ngày hiện tại.\n",
      "[WARNING] Mã SHB (holding): không tìm thấy trong thông tin giá của ngày hiện tại.\n",
      "[WARNING] Mã SHB (tín hiệu mua): không tìm thấy trong thông tin giá của ngày hiện tại.\n",
      "  > MUA 14 KBC @ 34,800 VND\n",
      "[WARNING] Mã SHB (holding): không tìm thấy trong thông tin giá của ngày hiện tại.\n"
     ]
    },
    {
     "name": "stderr",
     "output_type": "stream",
     "text": [
      "Đang mô phỏng giao dịch:  84%|█████████████████████████████████████████████████████████████████████████▏             | 5151/6124 [00:32<00:24, 39.42it/s]"
     ]
    },
    {
     "name": "stdout",
     "output_type": "stream",
     "text": [
      "[WARNING] Mã SHB (tín hiệu mua): không tìm thấy trong thông tin giá của ngày hiện tại.\n",
      "  > MUA 32 DXS @ 19,720 VND\n",
      "  > BÁN 23 VCG @ 25,540 VND\n",
      "  > MUA 21 HTN @ 25,560 VND\n",
      "[WARNING] Mã SCG (holding): không tìm thấy trong thông tin giá của ngày hiện tại.\n",
      "[WARNING] Mã SCG (tín hiệu mua): không tìm thấy trong thông tin giá của ngày hiện tại.\n",
      "  > MUA 18 DHA @ 36,540 VND\n",
      "[WARNING] Mã SCG (holding): không tìm thấy trong thông tin giá của ngày hiện tại.\n",
      "[WARNING] Mã SCG (tín hiệu mua): không tìm thấy trong thông tin giá của ngày hiện tại.\n",
      "  > BÁN 21 VCB @ 42,140 VND\n",
      "  > MUA 8 GAS @ 77,790 VND\n",
      "  > MUA 17 MSR @ 27,800 VND\n",
      "[WARNING] Mã SCG (holding): không tìm thấy trong thông tin giá của ngày hiện tại.\n"
     ]
    },
    {
     "name": "stderr",
     "output_type": "stream",
     "text": [
      "Đang mô phỏng giao dịch:  84%|█████████████████████████████████████████████████████████████████████████▏             | 5156/6124 [00:32<00:25, 37.83it/s]"
     ]
    },
    {
     "name": "stdout",
     "output_type": "stream",
     "text": [
      "[WARNING] Mã SCG (tín hiệu mua): không tìm thấy trong thông tin giá của ngày hiện tại.\n",
      "  > BÁN 37 CSV @ 15,380 VND\n",
      "  > MUA 23 LIG @ 13,810 VND\n",
      "  > MUA 30 NED @ 11,790 VND\n",
      "[WARNING] Mã SCG (holding): không tìm thấy trong thông tin giá của ngày hiện tại.\n",
      "[WARNING] Mã SCG (tín hiệu mua): không tìm thấy trong thông tin giá của ngày hiện tại.\n",
      "[WARNING] Mã SCG (holding): không tìm thấy trong thông tin giá của ngày hiện tại.\n",
      "[WARNING] Mã SCG (tín hiệu mua): không tìm thấy trong thông tin giá của ngày hiện tại.\n",
      "  > MUA 19 D2D @ 35,590 VND\n",
      "[WARNING] Mã SCG (holding): không tìm thấy trong thông tin giá của ngày hiện tại.\n",
      "[WARNING] Mã SCG (tín hiệu mua): không tìm thấy trong thông tin giá của ngày hiện tại.\n",
      "  > BÁN 21 LIX @ 21,740 VND\n",
      "  > BÁN 20 VBB @ 11,270 VND\n",
      "  > MUA 34 DC4 @ 13,930 VND\n",
      "  > MUA 18 PDB @ 18,350 VND\n",
      "[WARNING] Mã IPA (holding): không tìm thấy trong thông tin giá của ngày hiện tại.\n",
      "[WARNING] Mã IPA (tín hiệu mua): không tìm thấy trong thông tin giá của ngày hiện tại.\n",
      "  > MUA 19 PPH @ 24,800 VND\n",
      "  > MUA 8 SSH @ 76,630 VND\n",
      "[WARNING] Mã IPA (holding): không tìm thấy trong thông tin giá của ngày hiện tại.\n",
      "[WARNING] Mã IPA (tín hiệu mua): không tìm thấy trong thông tin giá của ngày hiện tại.\n",
      "  > BÁN 63 ACB @ 14,610 VND\n",
      "  > MUA 8 L18 @ 39,870 VND\n",
      "  > MUA 24 SCL @ 15,710 VND\n",
      "  > MUA 17 VC7 @ 16,280 VND\n",
      "[WARNING] Mã IPA (holding): không tìm thấy trong thông tin giá của ngày hiện tại.\n",
      "[WARNING] Mã IPA (tín hiệu mua): không tìm thấy trong thông tin giá của ngày hiện tại.\n",
      "  > MUA 11 POS @ 24,970 VND\n",
      "[WARNING] Mã ORS (holding): không tìm thấy trong thông tin giá của ngày hiện tại.\n",
      "[WARNING] Mã IPA (holding): không tìm thấy trong thông tin giá của ngày hiện tại.\n",
      "[WARNING] Mã ORS (tín hiệu mua): không tìm thấy trong thông tin giá của ngày hiện tại.\n",
      "[WARNING] Mã IPA (tín hiệu mua): không tìm thấy trong thông tin giá của ngày hiện tại.\n"
     ]
    },
    {
     "name": "stderr",
     "output_type": "stream",
     "text": [
      "Đang mô phỏng giao dịch:  84%|█████████████████████████████████████████████████████████████████████████▎             | 5164/6124 [00:32<00:26, 36.02it/s]"
     ]
    },
    {
     "name": "stdout",
     "output_type": "stream",
     "text": [
      "  > MUA 39 CIG @ 10,750 VND\n",
      "  > MUA 14 NHA @ 31,160 VND\n",
      "  > MUA 15 PSW @ 18,210 VND\n",
      "  > MUA 11 TMS @ 45,740 VND\n",
      "  > MUA 12 VCR @ 38,000 VND\n",
      "[WARNING] Mã ORS (holding): không tìm thấy trong thông tin giá của ngày hiện tại.\n",
      "[WARNING] Mã IPA (holding): không tìm thấy trong thông tin giá của ngày hiện tại.\n",
      "[WARNING] Mã ORS (tín hiệu mua): không tìm thấy trong thông tin giá của ngày hiện tại.\n",
      "[WARNING] Mã IPA (tín hiệu mua): không tìm thấy trong thông tin giá của ngày hiện tại.\n",
      "  > MUA 14 TAR @ 30,640 VND\n",
      "  > MUA 8 TID @ 53,460 VND\n",
      "[WARNING] Mã ORS (holding): không tìm thấy trong thông tin giá của ngày hiện tại.\n",
      "[WARNING] Mã ORS (tín hiệu mua): không tìm thấy trong thông tin giá của ngày hiện tại.\n",
      "  > MUA 28 VFS @ 12,860 VND\n",
      "[WARNING] Mã ORS (holding): không tìm thấy trong thông tin giá của ngày hiện tại.\n",
      "[WARNING] Mã ORS (tín hiệu mua): không tìm thấy trong thông tin giá của ngày hiện tại.\n",
      "  > MUA 45 C47 @ 12,730 VND\n",
      "  > MUA 30 CHS @ 11,450 VND\n",
      "  > MUA 16 DTA @ 29,850 VND\n",
      "  > MUA 27 HOM @ 11,300 VND\n",
      "  > MUA 13 HU4 @ 24,170 VND\n",
      "  > MUA 13 NRC @ 28,000 VND\n",
      "  > MUA 32 SCR @ 14,820 VND\n",
      "[WARNING] Mã ORS (holding): không tìm thấy trong thông tin giá của ngày hiện tại.\n",
      "[WARNING] Mã ORS (tín hiệu mua): không tìm thấy trong thông tin giá của ngày hiện tại.\n",
      "  > MUA 31 VSC @ 16,030 VND\n",
      "  > MUA 46 KHP @ 10,830 VND\n",
      "  > MUA 14 PRT @ 22,930 VND\n",
      "  > MUA 29 SFG @ 15,330 VND\n",
      "  > MUA 39 VIX @ 12,960 VND\n"
     ]
    },
    {
     "name": "stderr",
     "output_type": "stream",
     "text": [
      "Đang mô phỏng giao dịch:  84%|█████████████████████████████████████████████████████████████████████████▍             | 5172/6124 [00:32<00:26, 35.99it/s]"
     ]
    },
    {
     "name": "stdout",
     "output_type": "stream",
     "text": [
      "  > MUA 28 CMS @ 10,400 VND\n",
      "  > MUA 17 PSI @ 19,100 VND\n",
      "  > MUA 40 C4G @ 9,450 VND\n",
      "  > MUA 31 CEO @ 12,280 VND\n",
      "  > MUA 13 PHR @ 55,010 VND\n",
      "  > MUA 42 IDI @ 10,840 VND\n",
      "  > MUA 30 PGI @ 21,330 VND\n",
      "  > MUA 43 TTN @ 10,790 VND\n",
      "  > MUA 38 ASM @ 13,630 VND\n",
      "  > MUA 21 G36 @ 16,870 VND\n",
      "  > MUA 39 HCD @ 10,430 VND\n",
      "  > MUA 30 HHV @ 18,490 VND\n",
      "  > MUA 19 MTA @ 13,580 VND\n",
      "  > MUA 15 TVC @ 25,400 VND\n",
      "  > MUA 29 EVG @ 12,680 VND\n",
      "  > MUA 29 HAX @ 14,980 VND\n",
      "  > MUA 11 NTP @ 36,360 VND\n",
      "  > MUA 18 SD3 @ 13,400 VND\n",
      "  > MUA 28 DAG @ 14,200 VND\n",
      "  > MUA 22 PGB @ 23,920 VND\n",
      "  > MUA 5 HD6 @ 33,040 VND\n",
      "  > MUA 20 IVS @ 18,510 VND\n",
      "  > MUA 31 MPC @ 20,810 VND\n",
      "  > MUA 27 VCG @ 31,160 VND\n"
     ]
    },
    {
     "name": "stderr",
     "output_type": "stream",
     "text": [
      "Đang mô phỏng giao dịch:  85%|█████████████████████████████████████████████████████████████████████████▌             | 5180/6124 [00:33<00:27, 34.41it/s]"
     ]
    },
    {
     "name": "stdout",
     "output_type": "stream",
     "text": [
      "  > MUA 28 CSM @ 21,060 VND\n",
      "  > MUA 28 NDX @ 11,060 VND\n",
      "  > MUA 27 PXL @ 13,600 VND\n",
      "  > MUA 21 HUB @ 20,050 VND\n",
      "  > BÁN 25 NKG @ 25,630 VND\n",
      "  > [WARNING] Không đủ tiền mặt để mua 25 DBD.\n",
      "  > MUA 47 ACC @ 11,370 VND\n",
      "  > [WARNING] Không đủ tiền mặt để mua 20 DVG.\n",
      "  > [WARNING] Không đủ tiền mặt để mua 16 CMX.\n",
      "  > [WARNING] Không đủ tiền mặt để mua 20 DVG.\n",
      "  > [WARNING] Không đủ tiền mặt để mua 23 FCN.\n",
      "  > [WARNING] Không đủ tiền mặt để mua 43 SVT.\n",
      "  > [WARNING] Không đủ tiền mặt để mua 24 TNI.\n",
      "  > BÁN 38 HLD @ 20,250 VND\n",
      "  > MUA 17 CMX @ 20,360 VND\n",
      "  > [WARNING] Không đủ tiền mặt để mua 22 DBD.\n",
      "  > MUA 21 FCN @ 20,720 VND\n",
      "  > [WARNING] Không đủ tiền mặt để mua 38 SVT.\n"
     ]
    },
    {
     "name": "stderr",
     "output_type": "stream",
     "text": [
      "Đang mô phỏng giao dịch:  85%|█████████████████████████████████████████████████████████████████████████▋             | 5184/6124 [00:33<00:28, 32.86it/s]"
     ]
    },
    {
     "name": "stdout",
     "output_type": "stream",
     "text": [
      "  > [WARNING] Không đủ tiền mặt để mua 22 HUT.\n",
      "  > [WARNING] Không đủ tiền mặt để mua 15 ILA.\n",
      "  > [WARNING] Không đủ tiền mặt để mua 20 LCG.\n",
      "  > [WARNING] Không đủ tiền mặt để mua 36 SVT.\n",
      "  > [WARNING] Không đủ tiền mặt để mua 14 VC9.\n",
      "  > [WARNING] Không đủ tiền mặt để mua 19 HUT.\n",
      "  > [WARNING] Không đủ tiền mặt để mua 13 VC9.\n",
      "  > [WARNING] Không đủ tiền mặt để mua 20 DVG.\n",
      "  > [WARNING] Không đủ tiền mặt để mua 18 HUT.\n",
      "  > [WARNING] Không đủ tiền mặt để mua 13 VC9.\n",
      "  > [WARNING] Không đủ tiền mặt để mua 15 VIG.\n",
      "  > [WARNING] Không đủ tiền mặt để mua 18 APG.\n",
      "  > BÁN 59 HPG @ 26,630 VND\n",
      "  > BÁN 25 HSG @ 27,500 VND\n",
      "  > BÁN 21 NAF @ 22,090 VND\n",
      "  > BÁN 17 VNR @ 18,880 VND\n",
      "  > BÁN 29 PGC @ 15,950 VND\n",
      "  > BÁN 11 POS @ 15,440 VND\n",
      "  > BÁN 8 TID @ 42,420 VND\n",
      "  > BÁN 42 IDI @ 11,930 VND\n"
     ]
    },
    {
     "name": "stderr",
     "output_type": "stream",
     "text": [
      "Đang mô phỏng giao dịch:  85%|█████████████████████████████████████████████████████████████████████████▊             | 5194/6124 [00:33<00:40, 22.80it/s]"
     ]
    },
    {
     "name": "stdout",
     "output_type": "stream",
     "text": [
      "  > MUA 18 LCG @ 19,000 VND\n",
      "  > BÁN 27 PXL @ 15,800 VND\n",
      "  > BÁN 17 APS @ 34,800 VND\n",
      "  > MUA 17 DVG @ 23,700 VND\n",
      "  > MUA 26 NT2 @ 20,860 VND\n",
      "  > MUA 12 TL4 @ 19,000 VND\n",
      "  > MUA 6 BCM @ 61,790 VND\n",
      "  > MUA 15 HUT @ 19,120 VND\n",
      "  > MUA 24 POW @ 17,500 VND\n"
     ]
    },
    {
     "name": "stderr",
     "output_type": "stream",
     "text": [
      "Đang mô phỏng giao dịch:  85%|█████████████████████████████████████████████████████████████████████████▊             | 5197/6124 [00:33<00:39, 23.35it/s]"
     ]
    },
    {
     "name": "stdout",
     "output_type": "stream",
     "text": [
      "  > MUA 10 FRT @ 38,470 VND\n",
      "  > MUA 9 CII @ 30,260 VND\n",
      "  > MUA 15 PTL @ 16,800 VND\n",
      "  > MUA 11 VMC @ 22,570 VND\n",
      "  > MUA 11 VRC @ 26,200 VND\n",
      "  > BÁN 18 SD3 @ 7,700 VND\n",
      "  > MUA 14 LDG @ 17,710 VND\n",
      "  > BÁN 27 TCO @ 12,330 VND\n",
      "  > BÁN 45 IDJ @ 24,130 VND\n",
      "  > MUA 37 FCM @ 10,270 VND\n",
      "  > BÁN 34 NBC @ 13,130 VND\n",
      "  > BÁN 27 TC6 @ 10,040 VND\n",
      "  > BÁN 19 API @ 28,180 VND\n",
      "  > MUA 20 AAA @ 20,650 VND\n"
     ]
    },
    {
     "name": "stderr",
     "output_type": "stream",
     "text": [
      "Đang mô phỏng giao dịch:  85%|█████████████████████████████████████████████████████████████████████████▉             | 5203/6124 [00:34<00:43, 21.29it/s]"
     ]
    },
    {
     "name": "stdout",
     "output_type": "stream",
     "text": [
      "  > BÁN 27 TCI @ 16,940 VND\n",
      "  > BÁN 30 THT @ 10,100 VND\n",
      "  > MUA 13 ITC @ 24,000 VND\n",
      "\n",
      "--- Ngày: 2021-12-27 ---\n",
      "NAV: 167,602,693 VND | Tiền mặt: 3,780,073 VND | CP: 247\n",
      "  > BÁN 27 TVD @ 9,460 VND\n",
      "  > MUA 16 EIB @ 24,350 VND\n",
      "  > MUA 23 GEG @ 20,340 VND\n",
      "  > MUA 9 KSB @ 38,080 VND\n",
      "  > MUA 11 PXL @ 22,000 VND\n",
      "  > BÁN 24 SCL @ 15,920 VND\n",
      "[WARNING] Mã EVF (holding): không tìm thấy trong thông tin giá của ngày hiện tại.\n",
      "[WARNING] Mã EVF (tín hiệu mua): không tìm thấy trong thông tin giá của ngày hiện tại.\n",
      "  > BÁN 23 ITD @ 13,200 VND\n",
      "  > MUA 17 APG @ 21,750 VND\n",
      "  > MUA 15 PFL @ 15,000 VND\n",
      "[WARNING] Mã EVF (holding): không tìm thấy trong thông tin giá của ngày hiện tại.\n"
     ]
    },
    {
     "name": "stderr",
     "output_type": "stream",
     "text": [
      "Đang mô phỏng giao dịch:  85%|██████████████████████████████████████████████████████████████████████████             | 5210/6124 [00:34<00:35, 25.42it/s]"
     ]
    },
    {
     "name": "stdout",
     "output_type": "stream",
     "text": [
      "[WARNING] Mã EVF (tín hiệu mua): không tìm thấy trong thông tin giá của ngày hiện tại.\n",
      "[WARNING] Mã EVF (holding): không tìm thấy trong thông tin giá của ngày hiện tại.\n",
      "[WARNING] Mã EVF (tín hiệu mua): không tìm thấy trong thông tin giá của ngày hiện tại.\n",
      "[WARNING] Mã EVF (holding): không tìm thấy trong thông tin giá của ngày hiện tại.\n",
      "[WARNING] Mã EVF (tín hiệu mua): không tìm thấy trong thông tin giá của ngày hiện tại.\n",
      "[WARNING] Mã EVF (holding): không tìm thấy trong thông tin giá của ngày hiện tại.\n",
      "[WARNING] Mã EVF (tín hiệu mua): không tìm thấy trong thông tin giá của ngày hiện tại.\n",
      "  > MUA 4 KSF @ 87,500 VND\n",
      "  > MUA 45 TDG @ 9,620 VND\n",
      "[WARNING] Mã EVF (holding): không tìm thấy trong thông tin giá của ngày hiện tại.\n",
      "[WARNING] Mã HHV (holding): không tìm thấy trong thông tin giá của ngày hiện tại.\n",
      "[WARNING] Mã EVF (tín hiệu mua): không tìm thấy trong thông tin giá của ngày hiện tại.\n",
      "[WARNING] Mã HHV (tín hiệu mua): không tìm thấy trong thông tin giá của ngày hiện tại.\n",
      "  > MUA 15 ILA @ 14,340 VND\n",
      "[WARNING] Mã EVF (holding): không tìm thấy trong thông tin giá của ngày hiện tại.\n",
      "[WARNING] Mã HHV (holding): không tìm thấy trong thông tin giá của ngày hiện tại.\n",
      "[WARNING] Mã EVF (tín hiệu mua): không tìm thấy trong thông tin giá của ngày hiện tại.\n",
      "[WARNING] Mã HHV (tín hiệu mua): không tìm thấy trong thông tin giá của ngày hiện tại.\n",
      "  > MUA 19 TNA @ 19,000 VND\n",
      "  > MUA 10 VLB @ 46,290 VND\n",
      "[WARNING] Mã EVF (holding): không tìm thấy trong thông tin giá của ngày hiện tại.\n",
      "[WARNING] Mã HHV (holding): không tìm thấy trong thông tin giá của ngày hiện tại.\n",
      "[WARNING] Mã EVF (tín hiệu mua): không tìm thấy trong thông tin giá của ngày hiện tại.\n",
      "[WARNING] Mã HHV (tín hiệu mua): không tìm thấy trong thông tin giá của ngày hiện tại.\n",
      "  > BÁN 22 DDV @ 20,420 VND\n",
      "  > MUA 14 AGG @ 33,630 VND\n",
      "[WARNING] Mã HHV (holding): không tìm thấy trong thông tin giá của ngày hiện tại.\n"
     ]
    },
    {
     "name": "stderr",
     "output_type": "stream",
     "text": [
      "Đang mô phỏng giao dịch:  85%|██████████████████████████████████████████████████████████████████████████             | 5216/6124 [00:34<00:36, 24.81it/s]"
     ]
    },
    {
     "name": "stdout",
     "output_type": "stream",
     "text": [
      "[WARNING] Mã HHV (tín hiệu mua): không tìm thấy trong thông tin giá của ngày hiện tại.\n",
      "  > BÁN 15 PSW @ 12,490 VND\n",
      "  > MUA 10 C32 @ 35,340 VND\n",
      "  > MUA 13 STB @ 35,400 VND\n",
      "  > [WARNING] Không đủ tiền mặt để mua 10 TIP.\n",
      "[WARNING] Mã HHV (holding): không tìm thấy trong thông tin giá của ngày hiện tại.\n",
      "[WARNING] Mã HHV (tín hiệu mua): không tìm thấy trong thông tin giá của ngày hiện tại.\n",
      "  > BÁN 40 NDN @ 14,400 VND\n",
      "  > MUA 17 BID @ 31,750 VND\n",
      "  > [WARNING] Không đủ tiền mặt để mua 5 HTP.\n",
      "[WARNING] Mã HHV (holding): không tìm thấy trong thông tin giá của ngày hiện tại.\n",
      "[WARNING] Mã HHV (tín hiệu mua): không tìm thấy trong thông tin giá của ngày hiện tại.\n",
      "  > BÁN 23 DBT @ 11,560 VND\n",
      "  > BÁN 10 VNA @ 15,290 VND\n",
      "  > BÁN 23 LAS @ 13,710 VND\n",
      "  > BÁN 28 DAG @ 12,200 VND\n",
      "  > MUA 9 TIP @ 41,840 VND\n",
      "[WARNING] Mã HHV (holding): không tìm thấy trong thông tin giá của ngày hiện tại.\n",
      "[WARNING] Mã HHV (tín hiệu mua): không tìm thấy trong thông tin giá của ngày hiện tại.\n",
      "  > BÁN 41 MIG @ 14,100 VND\n",
      "  > BÁN 19 SMC @ 30,910 VND\n",
      "  > BÁN 34 CKG @ 17,710 VND\n",
      "  > BÁN 11 SGP @ 27,410 VND\n",
      "  > BÁN 24 ORS @ 16,480 VND\n",
      "  > BÁN 39 HMC @ 13,550 VND\n",
      "  > BÁN 44 FTS @ 20,470 VND\n",
      "  > BÁN 10 LTG @ 24,830 VND\n",
      "  > BÁN 30 TVS @ 28,200 VND\n",
      "  > BÁN 20 DPR @ 26,950 VND\n",
      "  > BÁN 21 BFC @ 19,470 VND\n",
      "  > BÁN 23 CMG @ 23,730 VND\n",
      "  > BÁN 11 PHP @ 21,420 VND\n",
      "  > BÁN 17 VOS @ 14,000 VND\n",
      "  > BÁN 29 CST @ 11,690 VND\n",
      "  > BÁN 32 AAT @ 12,550 VND\n",
      "  > BÁN 21 NSH @ 11,500 VND\n",
      "  > BÁN 22 TNS @ 8,700 VND\n",
      "  > BÁN 30 PMB @ 10,130 VND\n",
      "  > BÁN 18 PDB @ 15,950 VND\n",
      "  > BÁN 13 HU4 @ 16,960 VND\n",
      "  > BÁN 11 PXL @ 16,000 VND\n",
      "[WARNING] Mã HHV (holding): không tìm thấy trong thông tin giá của ngày hiện tại.\n",
      "[WARNING] Mã HHV (tín hiệu mua): không tìm thấy trong thông tin giá của ngày hiện tại.\n",
      "  > BÁN 29 DGC @ 52,940 VND\n",
      "  > BÁN 2 THD @ 189,090 VND\n",
      "  > BÁN 31 TVB @ 17,580 VND\n",
      "  > BÁN 34 ADS @ 17,970 VND\n",
      "  > BÁN 23 VCI @ 30,970 VND\n",
      "  > BÁN 28 BSI @ 25,310 VND\n",
      "  > BÁN 48 GSP @ 9,910 VND\n",
      "  > BÁN 28 VNL @ 11,530 VND\n",
      "  > BÁN 11 IPA @ 38,830 VND\n",
      "  > BÁN 40 ELC @ 11,270 VND\n",
      "  > BÁN 17 VC7 @ 16,800 VND\n",
      "  > BÁN 13 NRC @ 16,950 VND\n",
      "  > BÁN 14 PRT @ 19,840 VND\n",
      "  > BÁN 15 TVC @ 18,000 VND\n",
      "  > BÁN 20 IVS @ 11,940 VND\n",
      "  > BÁN 28 NDX @ 7,060 VND\n",
      "[WARNING] Mã HHV (holding): không tìm thấy trong thông tin giá của ngày hiện tại.\n",
      "[WARNING] Mã HHV (tín hiệu mua): không tìm thấy trong thông tin giá của ngày hiện tại.\n"
     ]
    },
    {
     "name": "stderr",
     "output_type": "stream",
     "text": [
      "Đang mô phỏng giao dịch:  85%|██████████████████████████████████████████████████████████████████████████▏            | 5222/6124 [00:34<00:34, 26.01it/s]"
     ]
    },
    {
     "name": "stdout",
     "output_type": "stream",
     "text": [
      "  > BÁN 42 HDC @ 38,460 VND\n",
      "  > BÁN 23 BCE @ 14,300 VND\n",
      "  > BÁN 24 SHB @ 10,730 VND\n",
      "  > BÁN 29 TLH @ 14,220 VND\n",
      "  > BÁN 20 AMS @ 11,660 VND\n",
      "  > BÁN 19 TIS @ 10,500 VND\n",
      "  > BÁN 18 MVC @ 9,250 VND\n",
      "  > BÁN 14 NHA @ 41,320 VND\n",
      "  > BÁN 9 CII @ 27,930 VND\n",
      "  > BÁN 29 DGW @ 36,230 VND\n",
      "[WARNING] Mã PGV (holding): không tìm thấy trong thông tin giá của ngày hiện tại.\n",
      "[WARNING] Mã PGV (tín hiệu mua): không tìm thấy trong thông tin giá của ngày hiện tại.\n",
      "  > BÁN 21 DHC @ 44,260 VND\n",
      "  > BÁN 26 FPT @ 43,700 VND\n",
      "  > BÁN 28 GVR @ 27,680 VND\n",
      "  > BÁN 51 DCM @ 19,670 VND\n",
      "  > BÁN 22 TVN @ 12,440 VND\n",
      "  > BÁN 30 SHS @ 16,420 VND\n",
      "  > BÁN 28 DRC @ 16,910 VND\n",
      "  > BÁN 17 IDC @ 36,940 VND\n",
      "  > BÁN 39 CIG @ 9,300 VND\n",
      "  > MUA 15 VCB @ 52,390 VND\n",
      "[WARNING] Mã PGV (holding): không tìm thấy trong thông tin giá của ngày hiện tại.\n",
      "[WARNING] Mã PGV (tín hiệu mua): không tìm thấy trong thông tin giá của ngày hiện tại.\n",
      "  > BÁN 12 NBB @ 34,250 VND\n",
      "  > BÁN 46 KHP @ 11,780 VND\n",
      "[WARNING] Mã PGV (holding): không tìm thấy trong thông tin giá của ngày hiện tại.\n",
      "[WARNING] Mã PGV (tín hiệu mua): không tìm thấy trong thông tin giá của ngày hiện tại.\n",
      "  > BÁN 19 DPG @ 33,390 VND\n",
      "  > BÁN 30 TDN @ 8,980 VND\n",
      "  > BÁN 14 LDG @ 14,210 VND\n",
      "[WARNING] Mã PGV (holding): không tìm thấy trong thông tin giá của ngày hiện tại.\n",
      "[WARNING] Mã PGV (tín hiệu mua): không tìm thấy trong thông tin giá của ngày hiện tại.\n"
     ]
    },
    {
     "name": "stderr",
     "output_type": "stream",
     "text": [
      "Đang mô phỏng giao dịch:  85%|██████████████████████████████████████████████████████████████████████████▏            | 5226/6124 [00:35<00:32, 27.94it/s]"
     ]
    },
    {
     "name": "stdout",
     "output_type": "stream",
     "text": [
      "  > BÁN 47 TDC @ 20,560 VND\n",
      "  > BÁN 6 VCS @ 81,540 VND\n",
      "  > BÁN 17 VGS @ 19,780 VND\n",
      "  > BÁN 21 FCN @ 19,360 VND\n",
      "  > BÁN 13 ITC @ 13,820 VND\n",
      "  > BÁN 15 PFL @ 8,600 VND\n",
      "[WARNING] Mã PGV (holding): không tìm thấy trong thông tin giá của ngày hiện tại.\n",
      "[WARNING] Mã PGV (tín hiệu mua): không tìm thấy trong thông tin giá của ngày hiện tại.\n",
      "  > BÁN 17 DVG @ 17,900 VND\n",
      "[WARNING] Mã PGV (holding): không tìm thấy trong thông tin giá của ngày hiện tại.\n",
      "[WARNING] Mã PGV (tín hiệu mua): không tìm thấy trong thông tin giá của ngày hiện tại.\n",
      "  > BÁN 18 DIG @ 49,410 VND\n",
      "[WARNING] Mã PGV (holding): không tìm thấy trong thông tin giá của ngày hiện tại.\n",
      "[WARNING] Mã PGV (tín hiệu mua): không tìm thấy trong thông tin giá của ngày hiện tại.\n",
      "  > BÁN 31 CEO @ 30,860 VND\n",
      "[WARNING] Mã PGV (holding): không tìm thấy trong thông tin giá của ngày hiện tại.\n",
      "[WARNING] Mã PGV (tín hiệu mua): không tìm thấy trong thông tin giá của ngày hiện tại.\n"
     ]
    },
    {
     "name": "stderr",
     "output_type": "stream",
     "text": [
      "Đang mô phỏng giao dịch:  85%|██████████████████████████████████████████████████████████████████████████▎            | 5234/6124 [00:35<00:29, 29.70it/s]"
     ]
    },
    {
     "name": "stdout",
     "output_type": "stream",
     "text": [
      "[WARNING] Mã CTR (holding): không tìm thấy trong thông tin giá của ngày hiện tại.\n",
      "[WARNING] Mã CTR (tín hiệu mua): không tìm thấy trong thông tin giá của ngày hiện tại.\n",
      "  > MUA 8 PTC @ 36,110 VND\n",
      "  > MUA 30 ACL @ 18,670 VND\n",
      "  > MUA 10 AGM @ 45,200 VND\n"
     ]
    },
    {
     "name": "stderr",
     "output_type": "stream",
     "text": [
      "Đang mô phỏng giao dịch:  86%|██████████████████████████████████████████████████████████████████████████▌            | 5251/6124 [00:35<00:25, 34.86it/s]"
     ]
    },
    {
     "name": "stdout",
     "output_type": "stream",
     "text": [
      "  > MUA 19 BAF @ 23,790 VND\n",
      "  > MUA 24 TVD @ 15,860 VND\n",
      "  > MUA 13 DCM @ 32,400 VND\n",
      "  > MUA 5 DGC @ 77,420 VND\n",
      "  > MUA 14 GMD @ 42,060 VND\n",
      "  > MUA 15 PTV @ 19,500 VND\n",
      "  > MUA 6 PBP @ 36,980 VND\n",
      "  > MUA 15 PVO @ 19,400 VND\n",
      "  > MUA 24 TDN @ 16,940 VND\n",
      "  > MUA 15 BFC @ 30,330 VND\n",
      "  > MUA 7 DQC @ 63,430 VND\n",
      "  > BÁN 29 HCM @ 17,180 VND\n"
     ]
    },
    {
     "name": "stderr",
     "output_type": "stream",
     "text": [
      "Đang mô phỏng giao dịch:  86%|██████████████████████████████████████████████████████████████████████████▋            | 5260/6124 [00:35<00:23, 36.20it/s]"
     ]
    },
    {
     "name": "stdout",
     "output_type": "stream",
     "text": [
      "  > MUA 22 RDP @ 20,000 VND\n",
      "  > BÁN 22 KDC @ 50,990 VND\n",
      "  > BÁN 31 VOC @ 19,930 VND\n",
      "  > MUA 17 KDM @ 17,660 VND\n",
      "  > MUA 13 VC9 @ 26,000 VND\n",
      "  > MUA 7 DGW @ 57,800 VND\n",
      "  > MUA 18 DPR @ 36,010 VND\n",
      "  > MUA 38 HMC @ 18,070 VND\n",
      "  > MUA 21 IDI @ 20,210 VND\n",
      "  > BÁN 30 TCB @ 23,710 VND\n",
      "  > BÁN 25 BVB @ 15,160 VND\n",
      "  > BÁN 29 BMS @ 13,860 VND\n",
      "  > BÁN 11 HPX @ 30,000 VND\n"
     ]
    },
    {
     "name": "stderr",
     "output_type": "stream",
     "text": [
      "Đang mô phỏng giao dịch:  86%|██████████████████████████████████████████████████████████████████████████▊            | 5269/6124 [00:36<00:23, 37.01it/s]"
     ]
    },
    {
     "name": "stdout",
     "output_type": "stream",
     "text": [
      "  > MUA 23 CIG @ 16,650 VND\n",
      "  > MUA 18 FPT @ 54,260 VND\n",
      "  > MUA 17 LTG @ 34,130 VND\n",
      "  > BÁN 34 DC4 @ 17,370 VND\n",
      "  > BÁN 15 AAV @ 20,680 VND\n",
      "  > BÁN 8 PTC @ 24,610 VND\n",
      "  > MUA 29 VEA @ 33,920 VND\n",
      "  > MUA 13 VNA @ 29,260 VND\n",
      "  > MUA 33 AAS @ 19,790 VND\n",
      "  > MUA 74 NAG @ 10,730 VND\n",
      "  > BÁN 11 VRC @ 20,550 VND\n",
      "  > BÁN 21 AGR @ 16,910 VND\n",
      "  > BÁN 15 PTL @ 10,350 VND\n",
      "  > BÁN 15 PTV @ 13,000 VND\n",
      "  > BÁN 7 DQC @ 41,180 VND\n",
      "  > MUA 17 SP2 @ 16,200 VND\n"
     ]
    },
    {
     "name": "stderr",
     "output_type": "stream",
     "text": [
      "Đang mô phỏng giao dịch:  86%|██████████████████████████████████████████████████████████████████████████▉            | 5279/6124 [00:36<00:20, 41.16it/s]"
     ]
    },
    {
     "name": "stdout",
     "output_type": "stream",
     "text": [
      "  > BÁN 43 IJC @ 17,730 VND\n",
      "  > BÁN 24 PPC @ 15,980 VND\n",
      "  > BÁN 15 PVO @ 12,510 VND\n",
      "  > BÁN 22 RDP @ 12,550 VND\n",
      "  > MUA 14 VUA @ 47,300 VND\n",
      "  > BÁN 13 VC9 @ 15,000 VND\n",
      "  > BÁN 35 DTD @ 19,940 VND\n",
      "  > BÁN 24 SSI @ 26,670 VND\n",
      "  > BÁN 19 CSC @ 53,780 VND\n",
      "  > BÁN 39 VIX @ 10,770 VND\n",
      "  > BÁN 17 PSI @ 14,300 VND\n",
      "  > BÁN 27 VCG @ 23,970 VND\n",
      "  > BÁN 10 VLB @ 38,760 VND\n",
      "  > MUA 31 MIG @ 19,650 VND\n",
      "  > BÁN 27 CCL @ 10,240 VND\n",
      "  > BÁN 40 ABB @ 12,640 VND\n",
      "  > BÁN 30 MBS @ 16,510 VND\n",
      "  > BÁN 25 GEX @ 28,860 VND\n",
      "  > BÁN 53 OCB @ 12,150 VND\n",
      "  > BÁN 35 CTS @ 16,100 VND\n",
      "  > BÁN 41 PVP @ 11,420 VND\n",
      "  > BÁN 39 NTL @ 12,810 VND\n",
      "  > BÁN 23 LIG @ 11,430 VND\n",
      "  > BÁN 30 NED @ 8,520 VND\n",
      "  > BÁN 30 PGI @ 23,630 VND\n",
      "  > BÁN 29 EVG @ 10,100 VND\n",
      "  > BÁN 15 HUT @ 26,940 VND\n",
      "  > BÁN 11 VMC @ 14,620 VND\n",
      "  > BÁN 20 AAA @ 15,510 VND\n",
      "  > BÁN 17 APG @ 13,500 VND\n",
      "  > BÁN 19 TNA @ 13,000 VND\n",
      "  > BÁN 9 TIP @ 27,440 VND\n",
      "  > BÁN 15 VCB @ 44,060 VND\n",
      "  > BÁN 24 TDN @ 11,320 VND\n",
      "  > MUA 32 DRC @ 23,720 VND\n",
      "  > BÁN 43 IMP @ 30,320 VND\n",
      "  > BÁN 46 CRE @ 17,960 VND\n",
      "  > BÁN 37 TEG @ 10,720 VND\n",
      "  > BÁN 59 MSB @ 11,290 VND\n",
      "  > BÁN 40 VDS @ 15,980 VND\n",
      "  > BÁN 56 EVF @ 10,940 VND\n",
      "  > BÁN 63 SJD @ 13,470 VND\n",
      "  > BÁN 8 L18 @ 32,470 VND\n",
      "  > BÁN 12 VCR @ 37,000 VND\n",
      "  > BÁN 14 TAR @ 26,550 VND\n",
      "  > BÁN 16 DTA @ 17,500 VND\n",
      "  > BÁN 32 SCR @ 14,860 VND\n",
      "  > BÁN 21 G36 @ 14,320 VND\n",
      "  > BÁN 30 HHV @ 15,050 VND\n",
      "  > BÁN 24 POW @ 13,500 VND\n",
      "  > BÁN 6 PBP @ 18,240 VND\n",
      "  > BÁN 42 VNP @ 15,980 VND\n",
      "  > BÁN 47 HDB @ 13,580 VND\n",
      "  > BÁN 24 DBC @ 20,310 VND\n",
      "  > BÁN 19 D2D @ 29,480 VND\n",
      "  > BÁN 21 HUB @ 20,020 VND\n",
      "  > BÁN 37 FCM @ 6,900 VND\n",
      "  > BÁN 45 TDG @ 6,500 VND\n",
      "  > BÁN 15 ILA @ 7,080 VND\n",
      "  > BÁN 19 SZC @ 36,660 VND\n",
      "  > BÁN 15 SWC @ 22,110 VND\n",
      "  > BÁN 37 BCG @ 15,240 VND\n",
      "  > BÁN 36 TCD @ 12,770 VND\n",
      "  > BÁN 26 CLX @ 22,230 VND\n",
      "  > BÁN 14 KBC @ 31,420 VND\n",
      "  > BÁN 30 CHS @ 8,750 VND\n",
      "  > BÁN 28 CMS @ 21,000 VND\n",
      "  > BÁN 19 MTA @ 9,750 VND\n",
      "  > BÁN 5 HD6 @ 20,310 VND\n",
      "  > BÁN 47 ACC @ 16,750 VND\n",
      "  > BÁN 18 LCG @ 12,940 VND\n",
      "  > BÁN 12 TL4 @ 13,800 VND\n",
      "  > BÁN 10 AGM @ 39,100 VND\n",
      "  > BÁN 17 KDM @ 21,500 VND\n",
      "  > BÁN 23 CIG @ 8,800 VND\n",
      "  > BÁN 28 NLG @ 42,650 VND\n",
      "  > BÁN 22 VGT @ 19,270 VND\n",
      "  > BÁN 30 LHG @ 31,740 VND\n",
      "  > BÁN 41 VGC @ 36,140 VND\n",
      "  > BÁN 19 PLC @ 26,310 VND\n",
      "  > BÁN 40 VC3 @ 26,070 VND\n",
      "  > BÁN 33 TIG @ 13,310 VND\n",
      "  > BÁN 20 TV2 @ 30,460 VND\n",
      "  > BÁN 41 DRI @ 10,170 VND\n",
      "  > BÁN 21 HTN @ 35,870 VND\n",
      "  > BÁN 11 NTP @ 28,150 VND\n",
      "  > BÁN 28 CSM @ 14,150 VND\n",
      "  > BÁN 9 KSB @ 28,430 VND\n",
      "  > BÁN 10 C32 @ 23,650 VND\n",
      "  > BÁN 13 STB @ 26,600 VND\n",
      "  > BÁN 29 HAX @ 13,100 VND\n"
     ]
    },
    {
     "name": "stderr",
     "output_type": "stream",
     "text": [
      "Đang mô phỏng giao dịch:  86%|███████████████████████████████████████████████████████████████████████████▏           | 5292/6124 [00:36<00:16, 51.24it/s]"
     ]
    },
    {
     "name": "stdout",
     "output_type": "stream",
     "text": [
      "  > BÁN 45 TPB @ 15,900 VND\n",
      "  > BÁN 25 PLP @ 11,200 VND\n",
      "  > BÁN 15 BFC @ 20,270 VND\n",
      "  > BÁN 27 CTR @ 61,510 VND\n",
      "  > BÁN 41 HDG @ 27,070 VND\n",
      "  > BÁN 14 DVN @ 17,820 VND\n",
      "  > BÁN 32 DXS @ 17,280 VND\n",
      "  > BÁN 8 SSH @ 99,800 VND\n",
      "  > BÁN 45 C47 @ 13,260 VND\n",
      "  > BÁN 22 PGB @ 17,180 VND\n",
      "  > BÁN 38 KDH @ 29,170 VND\n",
      "  > BÁN 25 PET @ 31,900 VND\n",
      "  > BÁN 16 PAS @ 18,400 VND\n",
      "  > BÁN 23 VPB @ 18,300 VND\n",
      "  > BÁN 47 MBB @ 11,650 VND\n",
      "  > BÁN 23 DXG @ 21,900 VND\n",
      "  > BÁN 17 MSR @ 21,300 VND\n",
      "  > BÁN 40 C4G @ 13,160 VND\n",
      "  > BÁN 13 PHR @ 49,710 VND\n",
      "  > BÁN 43 TTN @ 13,490 VND\n",
      "  > BÁN 17 BID @ 25,010 VND\n",
      "  > BÁN 18 BNA @ 21,550 VND\n",
      "  > BÁN 26 EVS @ 17,500 VND\n",
      "  > BÁN 25 MSH @ 26,560 VND\n",
      "  > BÁN 19 PGV @ 25,020 VND\n",
      "  > BÁN 66 PDR @ 47,350 VND\n",
      "  > BÁN 42 VPG @ 38,700 VND\n",
      "  > BÁN 33 TCL @ 26,580 VND\n",
      "  > BÁN 4 MSN @ 102,350 VND\n",
      "  > BÁN 40 VND @ 18,960 VND\n",
      "  > BÁN 3 SCG @ 69,500 VND\n",
      "  > BÁN 31 TNH @ 18,590 VND\n",
      "  > BÁN 18 DHA @ 33,660 VND\n",
      "  > BÁN 24 TVD @ 10,710 VND\n",
      "  > BÁN 13 DCM @ 22,530 VND\n",
      "  > BÁN 18 DPR @ 28,720 VND\n",
      "  > BÁN 33 AAS @ 13,180 VND\n",
      "  > BÁN 36 TNG @ 14,800 VND\n",
      "  > BÁN 29 PC1 @ 21,700 VND\n",
      "  > BÁN 11 PTB @ 60,020 VND\n",
      "  > BÁN 14 STK @ 38,230 VND\n",
      "  > BÁN 11 GIL @ 37,580 VND\n",
      "  > BÁN 43 PSD @ 13,490 VND\n",
      "  > BÁN 17 QNS @ 33,220 VND\n",
      "  > BÁN 38 ASM @ 13,250 VND\n",
      "  > BÁN 23 GEG @ 16,910 VND\n",
      "  > BÁN 7 DGW @ 41,920 VND\n",
      "  > BÁN 17 LTG @ 24,900 VND\n",
      "  > BÁN 32 DRC @ 17,350 VND\n",
      "  > BÁN 21 MWG @ 60,100 VND\n",
      "  > BÁN 36 DPM @ 17,390 VND\n",
      "  > BÁN 17 CMX @ 14,000 VND\n",
      "  > BÁN 10 FRT @ 43,330 VND\n",
      "  > BÁN 21 IDI @ 13,240 VND\n",
      "  > BÁN 4 KSF @ 98,600 VND\n",
      "  > BÁN 11 TMS @ 52,610 VND\n"
     ]
    },
    {
     "name": "stderr",
     "output_type": "stream",
     "text": [
      "Đang mô phỏng giao dịch:  87%|███████████████████████████████████████████████████████████████████████████▍           | 5311/6124 [00:36<00:11, 69.91it/s]"
     ]
    },
    {
     "name": "stdout",
     "output_type": "stream",
     "text": [
      "  > BÁN 22 ABI @ 18,300 VND\n",
      "\n",
      "--- Ngày: 2022-05-27 ---\n",
      "NAV: 142,208,018 VND | Tiền mặt: 101,586,648 VND | CP: 55\n",
      "  > MUA 12 KDC @ 61,500 VND\n",
      "  > BÁN 24 SSB @ 20,580 VND\n",
      "  > MUA 10 BSR @ 29,190 VND\n",
      "  > BÁN 44 KOS @ 32,000 VND\n",
      "  > BÁN 45 MST @ 10,740 VND\n",
      "  > BÁN 39 HCD @ 7,380 VND\n",
      "  > BÁN 18 KLB @ 23,500 VND\n",
      "  > BÁN 36 HDA @ 11,810 VND\n",
      "  > BÁN 27 HOM @ 6,500 VND\n",
      "  > BÁN 29 SFG @ 12,210 VND\n",
      "  > BÁN 16 GDT @ 30,860 VND\n",
      "  > BÁN 14 AGG @ 27,450 VND\n"
     ]
    },
    {
     "name": "stderr",
     "output_type": "stream",
     "text": [
      "Đang mô phỏng giao dịch:  87%|███████████████████████████████████████████████████████████████████████████▋           | 5330/6124 [00:37<00:09, 81.74it/s]"
     ]
    },
    {
     "name": "stdout",
     "output_type": "stream",
     "text": [
      "  > BÁN 38 HMC @ 13,230 VND\n",
      "  > BÁN 6 BCM @ 57,260 VND\n",
      "  > BÁN 20 FMC @ 44,480 VND\n",
      "  > BÁN 24 PGN @ 9,550 VND\n",
      "  > BÁN 30 ACL @ 18,910 VND\n",
      "  > BÁN 38 GKM @ 34,170 VND\n"
     ]
    },
    {
     "name": "stderr",
     "output_type": "stream",
     "text": [
      "Đang mô phỏng giao dịch:  88%|████████████████████████████████████████████████████████████████████████████▏          | 5365/6124 [00:37<00:07, 96.77it/s]"
     ]
    },
    {
     "name": "stdout",
     "output_type": "stream",
     "text": [
      "  > MUA 21 LMH @ 16,800 VND\n",
      "  > BÁN 17 SP2 @ 16,400 VND\n",
      "  > MUA 13 VC3 @ 35,040 VND\n",
      "  > MUA 6 VGC @ 61,050 VND\n",
      "  > BÁN 16 EIB @ 19,420 VND\n",
      "  > BÁN 38 NVB @ 27,500 VND\n",
      "  > BÁN 18 AFX @ 13,500 VND\n",
      "  > MUA 6 BCM @ 85,800 VND\n",
      "  > BÁN 19 PPH @ 21,120 VND\n"
     ]
    },
    {
     "name": "stderr",
     "output_type": "stream",
     "text": [
      "Đang mô phỏng giao dịch:  88%|████████████████████████████████████████████████████████████████████████████▌          | 5385/6124 [00:37<00:08, 90.84it/s]"
     ]
    },
    {
     "name": "stdout",
     "output_type": "stream",
     "text": [
      "  > MUA 10 TLG @ 52,270 VND\n",
      "  > BÁN 31 VSC @ 15,470 VND\n",
      "  > MUA 13 CMG @ 38,070 VND\n",
      "  > BÁN 49 HAH @ 26,410 VND\n",
      "  > BÁN 19 BAF @ 18,350 VND\n",
      "  > BÁN 21 LMH @ 8,800 VND\n",
      "  > BÁN 11 VHC @ 62,330 VND\n",
      "  > BÁN 5 DGC @ 77,060 VND\n",
      "  > BÁN 18 FPT @ 50,140 VND\n",
      "  > BÁN 10 BSR @ 19,640 VND\n",
      "  > BÁN 28 ANV @ 17,630 VND\n",
      "  > BÁN 31 MIG @ 14,840 VND\n"
     ]
    },
    {
     "name": "stderr",
     "output_type": "stream",
     "text": [
      "Đang mô phỏng giao dịch:  88%|████████████████████████████████████████████████████████████████████████████▊          | 5404/6124 [00:37<00:08, 84.94it/s]"
     ]
    },
    {
     "name": "stdout",
     "output_type": "stream",
     "text": [
      "  > BÁN 31 REE @ 47,110 VND\n",
      "  > BÁN 35 BWE @ 38,000 VND\n",
      "  > BÁN 15 PNJ @ 72,000 VND\n",
      "  > BÁN 55 QTP @ 11,020 VND\n",
      "  > BÁN 10 TLG @ 40,680 VND\n",
      "  > BÁN 24 TDM @ 30,280 VND\n",
      "  > BÁN 24 CNG @ 20,550 VND\n",
      "  > BÁN 11 PVI @ 35,960 VND\n",
      "  > BÁN 19 VSH @ 26,690 VND\n",
      "  > BÁN 13 DVP @ 35,560 VND\n",
      "  > BÁN 47 HTI @ 11,730 VND\n",
      "  > BÁN 14 VUA @ 43,500 VND\n",
      "  > BÁN 29 VEA @ 30,510 VND\n",
      "  > MUA 19 EIB @ 24,680 VND\n",
      "  > MUA 41 KOS @ 37,500 VND\n",
      "\n",
      "--- Ngày: 2022-10-18 ---\n",
      "NAV: 137,495,024 VND | Tiền mặt: 121,736,294 VND | CP: 21\n",
      "  > BÁN 23 ILB @ 19,600 VND\n",
      "  > BÁN 14 GMD @ 33,430 VND\n",
      "  > BÁN 13 VNA @ 19,740 VND\n",
      "  > BÁN 6 VGC @ 37,560 VND\n",
      "  > BÁN 15 BDT @ 34,510 VND\n"
     ]
    },
    {
     "name": "stderr",
     "output_type": "stream",
     "text": [
      "Đang mô phỏng giao dịch:  89%|█████████████████████████████████████████████████████████████████████████████          | 5427/6124 [00:38<00:07, 96.19it/s]"
     ]
    },
    {
     "name": "stdout",
     "output_type": "stream",
     "text": [
      "  > BÁN 13 CMG @ 25,310 VND\n",
      "  > BÁN 31 MPC @ 16,070 VND\n",
      "  > BÁN 19 EIB @ 16,850 VND\n",
      "  > BÁN 13 VC3 @ 26,380 VND\n"
     ]
    },
    {
     "name": "stderr",
     "output_type": "stream",
     "text": [
      "Đang mô phỏng giao dịch:  89%|████████████████████████████████████████████████████████████████████████████▊         | 5471/6124 [00:38<00:05, 127.18it/s]"
     ]
    },
    {
     "name": "stdout",
     "output_type": "stream",
     "text": [
      "  > MUA 18 VPD @ 22,230 VND\n",
      "  > BÁN 43 VPI @ 42,990 VND\n",
      "  > MUA 11 VCB @ 53,970 VND\n"
     ]
    },
    {
     "name": "stderr",
     "output_type": "stream",
     "text": [
      "Đang mô phỏng giao dịch:  90%|█████████████████████████████████████████████████████████████████████████████▌        | 5522/6124 [00:38<00:03, 155.86it/s]"
     ]
    },
    {
     "name": "stdout",
     "output_type": "stream",
     "text": [
      "  > BÁN 12 KDC @ 55,240 VND\n",
      "  > BÁN 8 GAS @ 72,330 VND\n",
      "  > MUA 16 ST8 @ 18,750 VND\n",
      "  > BÁN 15 PGS @ 20,660 VND\n",
      "\n",
      "--- Ngày: 2023-03-15 ---\n",
      "NAV: 137,792,190 VND | Tiền mặt: 127,228,200 VND | CP: 11\n",
      "  > MUA 23 DVM @ 16,500 VND\n",
      "  > BÁN 6 BCM @ 77,740 VND\n",
      "  > BÁN 43 DDG @ 30,800 VND\n"
     ]
    },
    {
     "name": "stderr",
     "output_type": "stream",
     "text": [
      "Đang mô phỏng giao dịch:  91%|██████████████████████████████████████████████████████████████████████████████        | 5556/6124 [00:38<00:03, 149.05it/s]"
     ]
    },
    {
     "name": "stdout",
     "output_type": "stream",
     "text": [
      "  > MUA 12 BMP @ 56,140 VND\n",
      "  > BÁN 74 NAG @ 12,820 VND\n"
     ]
    },
    {
     "name": "stderr",
     "output_type": "stream",
     "text": [
      "Đang mô phỏng giao dịch:  91%|██████████████████████████████████████████████████████████████████████████████▌       | 5592/6124 [00:39<00:03, 161.30it/s]"
     ]
    },
    {
     "name": "stdout",
     "output_type": "stream",
     "text": [
      "  > BÁN 28 VFS @ 17,750 VND\n",
      "  > MUA 44 TDP @ 25,920 VND\n",
      "  > MUA 64 QTP @ 13,760 VND\n",
      "  > MUA 20 DHT @ 20,910 VND\n",
      "  > BÁN 49 FIR @ 28,730 VND\n",
      "  > MUA 16 DBD @ 38,960 VND\n",
      "  > MUA 12 GKM @ 43,410 VND\n",
      "  > BÁN 52 CTF @ 24,660 VND\n",
      "  > MUA 17 QNS @ 41,810 VND\n",
      "  > MUA 33 CNG @ 30,930 VND\n",
      "  > BÁN 12 GKM @ 35,800 VND\n",
      "  > MUA 32 TKG @ 14,600 VND\n",
      "  > MUA 23 FPT @ 60,520 VND\n",
      "  > MUA 55 SSB @ 26,060 VND\n",
      "  > MUA 24 BID @ 36,010 VND\n"
     ]
    },
    {
     "name": "stderr",
     "output_type": "stream",
     "text": [
      "Đang mô phỏng giao dịch:  92%|██████████████████████████████████████████████████████████████████████████████▊       | 5609/6124 [00:39<00:03, 155.41it/s]"
     ]
    },
    {
     "name": "stdout",
     "output_type": "stream",
     "text": [
      "\n",
      "--- Ngày: 2023-08-07 ---\n",
      "NAV: 136,849,302 VND | Tiền mặt: 123,019,352 VND | CP: 17\n",
      "  > MUA 35 ABW @ 14,400 VND\n",
      "  > MUA 10 VC7 @ 28,540 VND\n",
      "  > BÁN 18 VPD @ 20,330 VND\n",
      "  > BÁN 23 DVM @ 11,670 VND\n",
      "  > BÁN 55 SSB @ 23,640 VND\n",
      "  > MUA 18 VFS @ 24,690 VND\n",
      "  > MUA 12 GMD @ 48,800 VND\n",
      "  > MUA 26 TDM @ 39,320 VND\n",
      "  > MUA 12 STH @ 18,000 VND\n",
      "  > MUA 4 VSF @ 37,800 VND\n"
     ]
    },
    {
     "name": "stderr",
     "output_type": "stream",
     "text": [
      "Đang mô phỏng giao dịch:  92%|███████████████████████████████████████████████████████████████████████████████▍      | 5657/6124 [00:39<00:03, 142.63it/s]"
     ]
    },
    {
     "name": "stdout",
     "output_type": "stream",
     "text": [
      "  > BÁN 16 ST8 @ 19,400 VND\n",
      "  > BÁN 32 TKG @ 9,000 VND\n",
      "  > BÁN 26 NT2 @ 23,480 VND\n",
      "  > BÁN 10 VC7 @ 17,740 VND\n",
      "  > BÁN 20 DHT @ 19,060 VND\n",
      "  > BÁN 18 VFS @ 16,720 VND\n",
      "  > MUA 6 FRT @ 76,480 VND\n",
      "  > BÁN 12 STH @ 13,000 VND\n",
      "  > BÁN 24 BID @ 29,480 VND\n",
      "  > BÁN 64 QTP @ 11,680 VND\n"
     ]
    },
    {
     "name": "stderr",
     "output_type": "stream",
     "text": [
      "Đang mô phỏng giao dịch:  93%|███████████████████████████████████████████████████████████████████████████████▋      | 5672/6124 [00:39<00:03, 126.34it/s]"
     ]
    },
    {
     "name": "stdout",
     "output_type": "stream",
     "text": [
      "  > MUA 95 CDC @ 15,390 VND\n",
      "  > BÁN 41 KOS @ 37,400 VND\n",
      "  > MUA 23 ELC @ 16,590 VND\n",
      "  > MUA 29 EVF @ 15,830 VND\n",
      "  > BÁN 35 ABW @ 9,500 VND\n",
      "  > MUA 8 BSI @ 39,880 VND\n"
     ]
    },
    {
     "name": "stderr",
     "output_type": "stream",
     "text": [
      "Đang mô phỏng giao dịch:  93%|███████████████████████████████████████████████████████████████████████████████▊      | 5687/6124 [00:39<00:03, 130.39it/s]"
     ]
    },
    {
     "name": "stdout",
     "output_type": "stream",
     "text": [
      "  > MUA 62 NO1 @ 10,530 VND\n"
     ]
    },
    {
     "name": "stderr",
     "output_type": "stream",
     "text": [
      "Đang mô phỏng giao dịch:  93%|█████████████████████████████████████████████████████████████████████████████████▏     | 5714/6124 [00:40<00:04, 88.14it/s]"
     ]
    },
    {
     "name": "stdout",
     "output_type": "stream",
     "text": [
      "\n",
      "--- Ngày: 2023-12-27 ---\n",
      "NAV: 135,834,527 VND | Tiền mặt: 123,520,547 VND | CP: 16\n",
      "  > MUA 41 KOS @ 39,550 VND\n",
      "  > BÁN 11 VCB @ 55,450 VND\n",
      "  > MUA 23 CMG @ 39,190 VND\n",
      "  > MUA 79 NAB @ 10,110 VND\n",
      "  > MUA 26 BID @ 36,280 VND\n",
      "  > BÁN 33 CNG @ 26,580 VND\n",
      "  > MUA 62 ACB @ 18,040 VND\n",
      "  > BÁN 17 QNS @ 38,060 VND\n",
      "  > BÁN 44 TDP @ 23,640 VND\n",
      "  > MUA 9 CTR @ 92,540 VND\n",
      "  > MUA 57 HDB @ 17,890 VND\n"
     ]
    },
    {
     "name": "stderr",
     "output_type": "stream",
     "text": [
      "Đang mô phỏng giao dịch:  94%|████████████████████████████████████████████████████████████████████████████████▋     | 5743/6124 [00:40<00:03, 107.35it/s]"
     ]
    },
    {
     "name": "stdout",
     "output_type": "stream",
     "text": [
      "  > MUA 11 BCA @ 20,000 VND\n",
      "  > MUA 23 DRC @ 23,900 VND\n",
      "  > MUA 20 FTS @ 33,630 VND\n",
      "  > MUA 7 VTP @ 73,590 VND\n",
      "  > MUA 60 MBB @ 15,650 VND\n",
      "  > MUA 12 VCB @ 65,890 VND\n",
      "[WARNING] Mã NAB (holding): không tìm thấy trong thông tin giá của ngày hiện tại.\n",
      "[WARNING] Mã NAB (tín hiệu mua): không tìm thấy trong thông tin giá của ngày hiện tại.\n",
      "[WARNING] Mã NAB (holding): không tìm thấy trong thông tin giá của ngày hiện tại.\n",
      "[WARNING] Mã VTP (holding): không tìm thấy trong thông tin giá của ngày hiện tại.\n",
      "[WARNING] Mã NAB (tín hiệu mua): không tìm thấy trong thông tin giá của ngày hiện tại.\n",
      "[WARNING] Mã VTP (tín hiệu mua): không tìm thấy trong thông tin giá của ngày hiện tại.\n",
      "  > MUA 9 PNJ @ 93,210 VND\n",
      "[WARNING] Mã NAB (holding): không tìm thấy trong thông tin giá của ngày hiện tại.\n",
      "[WARNING] Mã VTP (holding): không tìm thấy trong thông tin giá của ngày hiện tại.\n",
      "[WARNING] Mã NAB (tín hiệu mua): không tìm thấy trong thông tin giá của ngày hiện tại.\n",
      "[WARNING] Mã VTP (tín hiệu mua): không tìm thấy trong thông tin giá của ngày hiện tại.\n",
      "  > MUA 53 BTP @ 17,250 VND\n",
      "[WARNING] Mã NAB (holding): không tìm thấy trong thông tin giá của ngày hiện tại.\n",
      "[WARNING] Mã VTP (holding): không tìm thấy trong thông tin giá của ngày hiện tại.\n",
      "[WARNING] Mã NAB (tín hiệu mua): không tìm thấy trong thông tin giá của ngày hiện tại.\n",
      "[WARNING] Mã VTP (tín hiệu mua): không tìm thấy trong thông tin giá của ngày hiện tại.\n",
      "[WARNING] Mã NAB (holding): không tìm thấy trong thông tin giá của ngày hiện tại.\n",
      "[WARNING] Mã VTP (holding): không tìm thấy trong thông tin giá của ngày hiện tại.\n",
      "[WARNING] Mã NAB (tín hiệu mua): không tìm thấy trong thông tin giá của ngày hiện tại.\n",
      "[WARNING] Mã VTP (tín hiệu mua): không tìm thấy trong thông tin giá của ngày hiện tại.\n",
      "  > MUA 25 CTS @ 25,520 VND\n",
      "[WARNING] Mã NAB (holding): không tìm thấy trong thông tin giá của ngày hiện tại.\n",
      "[WARNING] Mã VTP (holding): không tìm thấy trong thông tin giá của ngày hiện tại.\n",
      "[WARNING] Mã NAB (tín hiệu mua): không tìm thấy trong thông tin giá của ngày hiện tại.\n",
      "[WARNING] Mã VTP (tín hiệu mua): không tìm thấy trong thông tin giá của ngày hiện tại.\n",
      "[WARNING] Mã VTP (holding): không tìm thấy trong thông tin giá của ngày hiện tại.\n",
      "[WARNING] Mã VTP (tín hiệu mua): không tìm thấy trong thông tin giá của ngày hiện tại.\n",
      "  > BÁN 62 NO1 @ 7,990 VND\n",
      "  > MUA 12 TDP @ 30,000 VND\n",
      "[WARNING] Mã VTP (holding): không tìm thấy trong thông tin giá của ngày hiện tại.\n",
      "[WARNING] Mã VTP (tín hiệu mua): không tìm thấy trong thông tin giá của ngày hiện tại.\n",
      "  > MUA 21 CSV @ 22,990 VND\n",
      "  > MUA 4 DGC @ 125,480 VND\n",
      "  > MUA 8 SIP @ 69,350 VND\n",
      "  > BÁN 4 VSF @ 32,500 VND\n"
     ]
    },
    {
     "name": "stderr",
     "output_type": "stream",
     "text": [
      "Đang mô phỏng giao dịch:  94%|█████████████████████████████████████████████████████████████████████████████████▉     | 5767/6124 [00:40<00:04, 88.60it/s]"
     ]
    },
    {
     "name": "stdout",
     "output_type": "stream",
     "text": [
      "  > MUA 19 CNG @ 34,800 VND\n",
      "  > MUA 37 CST @ 21,090 VND\n",
      "  > MUA 12 HMR @ 20,300 VND\n",
      "  > MUA 25 MBS @ 25,160 VND\n",
      "  > MUA 38 NTL @ 17,200 VND\n",
      "  > MUA 110 QTP @ 14,130 VND\n",
      "  > MUA 7 VGI @ 48,610 VND\n",
      "  > BÁN 53 BTP @ 14,290 VND\n",
      "  > MUA 42 LPB @ 14,990 VND\n",
      "  > BÁN 41 KOS @ 37,000 VND\n",
      "  > BÁN 7 VTP @ 69,860 VND\n",
      "  > BÁN 29 EVF @ 12,780 VND\n"
     ]
    },
    {
     "name": "stderr",
     "output_type": "stream",
     "text": [
      "Đang mô phỏng giao dịch:  95%|█████████████████████████████████████████████████████████████████████████████████▎    | 5794/6124 [00:41<00:03, 100.07it/s]"
     ]
    },
    {
     "name": "stdout",
     "output_type": "stream",
     "text": [
      "  > MUA 29 DHT @ 29,190 VND\n",
      "  > BÁN 37 CST @ 18,840 VND\n",
      "  > MUA 16 FOX @ 41,780 VND\n",
      "  > MUA 8 SCS @ 78,100 VND\n",
      "  > MUA 24 PVT @ 21,730 VND\n",
      "  > MUA 3 MCH @ 104,180 VND\n",
      "  > BÁN 16 DBD @ 40,580 VND\n",
      "  > MUA 34 BIC @ 18,020 VND\n",
      "  > MUA 10 NTP @ 43,780 VND\n",
      "  > MUA 20 QNS @ 46,510 VND\n",
      "  > MUA 23 VEA @ 37,290 VND\n"
     ]
    },
    {
     "name": "stderr",
     "output_type": "stream",
     "text": [
      "Đang mô phỏng giao dịch:  95%|██████████████████████████████████████████████████████████████████████████████████▍    | 5805/6124 [00:41<00:03, 94.43it/s]"
     ]
    },
    {
     "name": "stdout",
     "output_type": "stream",
     "text": [
      "  > MUA 9 TV2 @ 47,470 VND\n",
      "\n",
      "--- Ngày: 2024-05-29 ---\n",
      "NAV: 139,064,087 VND | Tiền mặt: 104,776,807 VND | CP: 42\n",
      "  > MUA 12 BFC @ 34,780 VND\n",
      "  > MUA 28 VPI @ 50,160 VND\n",
      "  > MUA 7 ACV @ 69,870 VND\n",
      "  > MUA 13 DPR @ 43,530 VND\n",
      "  > MUA 37 PVP @ 16,300 VND\n",
      "  > MUA 18 GDA @ 23,860 VND\n",
      "  > MUA 12 PAC @ 34,440 VND\n",
      "  > MUA 3 VTK @ 88,240 VND\n"
     ]
    },
    {
     "name": "stderr",
     "output_type": "stream",
     "text": [
      "Đang mô phỏng giao dịch:  95%|██████████████████████████████████████████████████████████████████████████████████▊    | 5826/6124 [00:41<00:03, 76.83it/s]"
     ]
    },
    {
     "name": "stdout",
     "output_type": "stream",
     "text": [
      "  > MUA 17 CST @ 24,450 VND\n",
      "  > MUA 5 VTP @ 94,200 VND\n",
      "  > MUA 11 TTN @ 23,940 VND\n",
      "  > BÁN 26 BID @ 35,780 VND\n",
      "  > BÁN 12 HMR @ 24,500 VND\n",
      "  > MUA 43 CTF @ 32,340 VND\n",
      "  > BÁN 9 TV2 @ 33,950 VND\n",
      "  > MUA 15 DCM @ 38,540 VND\n",
      "  > MUA 22 LAS @ 23,470 VND\n",
      "  > MUA 12 VGS @ 38,100 VND\n"
     ]
    },
    {
     "name": "stderr",
     "output_type": "stream",
     "text": [
      "Đang mô phỏng giao dịch:  95%|███████████████████████████████████████████████████████████████████████████████████    | 5843/6124 [00:41<00:04, 68.73it/s]"
     ]
    },
    {
     "name": "stdout",
     "output_type": "stream",
     "text": [
      "  > MUA 13 DVN @ 28,850 VND\n",
      "  > MUA 12 REE @ 63,480 VND\n",
      "  > MUA 28 VTZ @ 14,400 VND\n",
      "  > BÁN 11 BCA @ 13,500 VND\n",
      "  > BÁN 11 TTN @ 13,780 VND\n",
      "  > BÁN 8 BSI @ 36,360 VND\n",
      "  > BÁN 20 FTS @ 30,560 VND\n",
      "  > BÁN 25 CTS @ 22,520 VND\n",
      "  > BÁN 7 VGI @ 65,050 VND\n",
      "  > BÁN 12 BMP @ 83,810 VND\n",
      "  > BÁN 9 CTR @ 113,310 VND\n",
      "  > BÁN 43 CTF @ 27,760 VND\n"
     ]
    },
    {
     "name": "stderr",
     "output_type": "stream",
     "text": [
      "Đang mô phỏng giao dịch:  96%|███████████████████████████████████████████████████████████████████████████████████▋   | 5888/6124 [00:42<00:02, 92.03it/s]"
     ]
    },
    {
     "name": "stdout",
     "output_type": "stream",
     "text": [
      "  > MUA 9 SGR @ 42,500 VND\n",
      "  > MUA 9 IMP @ 46,600 VND\n",
      "  > BÁN 3 VTK @ 58,410 VND\n",
      "  > MUA 8 CTP @ 27,700 VND\n",
      "  > BÁN 38 NTL @ 19,040 VND\n",
      "  > BÁN 95 CDC @ 13,560 VND\n",
      "  > MUA 6 BMP @ 103,500 VND\n",
      "  > MUA 23 HCM @ 24,140 VND\n",
      "  > BÁN 23 CMG @ 46,310 VND\n",
      "  > BÁN 7 ACV @ 63,860 VND\n",
      "  > MUA 26 CTG @ 36,900 VND\n"
     ]
    },
    {
     "name": "stderr",
     "output_type": "stream",
     "text": [
      "Đang mô phỏng giao dịch:  97%|███████████████████████████████████████████████████████████████████████████████████   | 5912/6124 [00:42<00:02, 102.27it/s]"
     ]
    },
    {
     "name": "stdout",
     "output_type": "stream",
     "text": [
      "  > BÁN 16 FOX @ 55,560 VND\n",
      "  > BÁN 23 DRC @ 21,740 VND\n",
      "  > BÁN 110 QTP @ 13,030 VND\n",
      "  > BÁN 8 SCS @ 69,690 VND\n",
      "  > MUA 17 DBD @ 46,580 VND\n",
      "\n",
      "--- Ngày: 2024-10-18 ---\n",
      "NAV: 138,819,101 VND | Tiền mặt: 104,584,111 VND | CP: 46\n",
      "  > BÁN 12 GMD @ 59,180 VND\n",
      "  > BÁN 17 CST @ 21,260 VND\n",
      "  > BÁN 9 PNJ @ 92,730 VND\n",
      "  > BÁN 12 PAC @ 25,970 VND\n",
      "  > BÁN 4 DGC @ 106,310 VND\n",
      "  > BÁN 8 SIP @ 59,800 VND\n",
      "  > BÁN 18 GDA @ 19,500 VND\n",
      "  > BÁN 12 REE @ 53,440 VND\n"
     ]
    },
    {
     "name": "stderr",
     "output_type": "stream",
     "text": [
      "Đang mô phỏng giao dịch:  97%|████████████████████████████████████████████████████████████████████████████████████▏  | 5923/6124 [00:42<00:02, 84.18it/s]"
     ]
    },
    {
     "name": "stdout",
     "output_type": "stream",
     "text": [
      "  > MUA 48 NO1 @ 11,490 VND\n",
      "  > MUA 14 TLG @ 56,200 VND\n",
      "  > MUA 20 PHP @ 33,100 VND\n",
      "  > BÁN 19 CNG @ 30,700 VND\n"
     ]
    },
    {
     "name": "stderr",
     "output_type": "stream",
     "text": [
      "Đang mô phỏng giao dịch:  97%|████████████████████████████████████████████████████████████████████████████████████▋  | 5960/6124 [00:43<00:02, 79.64it/s]"
     ]
    },
    {
     "name": "stdout",
     "output_type": "stream",
     "text": [
      "  > MUA 39 PDV @ 16,870 VND\n",
      "  > MUA 16 PGN @ 15,700 VND\n",
      "  > MUA 22 STB @ 36,450 VND\n",
      "  > MUA 29 BAF @ 28,500 VND\n",
      "  > MUA 11 TRC @ 52,980 VND\n",
      "  > BÁN 13 DPR @ 36,370 VND\n",
      "  > BÁN 22 LAS @ 18,280 VND\n",
      "  > BÁN 12 VGS @ 25,640 VND\n",
      "  > BÁN 24 PVT @ 20,080 VND\n",
      "  > BÁN 12 BFC @ 34,880 VND\n",
      "  > BÁN 15 DCM @ 32,250 VND\n",
      "  > MUA 55 PCH @ 13,240 VND\n",
      "  > BÁN 57 HDB @ 21,200 VND\n"
     ]
    },
    {
     "name": "stderr",
     "output_type": "stream",
     "text": [
      "Đang mô phỏng giao dịch:  98%|████████████████████████████████████████████████████████████████████████████████████▉  | 5979/6124 [00:43<00:01, 83.74it/s]"
     ]
    },
    {
     "name": "stdout",
     "output_type": "stream",
     "text": [
      "  > BÁN 48 NO1 @ 8,400 VND\n",
      "  > MUA 19 TTN @ 24,510 VND\n",
      "  > MUA 12 GEE @ 34,560 VND\n",
      "  > MUA 19 HAH @ 41,370 VND\n",
      "  > MUA 8 PVI @ 69,000 VND\n",
      "  > MUA 10 MTA @ 18,600 VND\n",
      "  > MUA 20 TCL @ 39,040 VND\n",
      "  > MUA 18 MSH @ 39,670 VND\n",
      "  > MUA 19 DPR @ 42,940 VND\n",
      "  > MUA 10 SIP @ 74,550 VND\n",
      "  > MUA 10 LSG @ 21,000 VND\n",
      "  > MUA 53 SBG @ 12,400 VND\n",
      "  > MUA 22 TAL @ 23,650 VND\n"
     ]
    },
    {
     "name": "stderr",
     "output_type": "stream",
     "text": [
      "Đang mô phỏng giao dịch:  98%|█████████████████████████████████████████████████████████████████████████████████████▏ | 5997/6124 [00:43<00:01, 80.34it/s]"
     ]
    },
    {
     "name": "stdout",
     "output_type": "stream",
     "text": [
      "  > MUA 13 REE @ 64,330 VND\n",
      "  > MUA 16 FTS @ 44,520 VND\n",
      "  > BÁN 3 MCH @ 145,600 VND\n",
      "  > MUA 27 HVA @ 11,300 VND\n",
      "  > BÁN 23 FPT @ 113,470 VND\n",
      "\n",
      "--- Ngày: 2025-03-17 ---\n",
      "NAV: 141,018,763 VND | Tiền mặt: 101,890,643 VND | CP: 51\n"
     ]
    },
    {
     "name": "stderr",
     "output_type": "stream",
     "text": [
      "Đang mô phỏng giao dịch:  98%|█████████████████████████████████████████████████████████████████████████████████████▋ | 6028/6124 [00:43<00:01, 93.86it/s]"
     ]
    },
    {
     "name": "stdout",
     "output_type": "stream",
     "text": [
      "  > MUA 12 BSI @ 53,180 VND\n",
      "  > BÁN 6 FRT @ 130,080 VND\n",
      "  > BÁN 29 DHT @ 86,500 VND\n",
      "  > BÁN 21 CSV @ 32,050 VND\n",
      "  > BÁN 20 QNS @ 41,750 VND\n",
      "  > BÁN 23 VEA @ 36,200 VND\n",
      "  > BÁN 9 SGR @ 30,750 VND\n",
      "  > BÁN 6 BMP @ 101,010 VND\n",
      "  > BÁN 17 DBD @ 45,030 VND\n",
      "  > BÁN 14 TLG @ 47,970 VND\n",
      "  > BÁN 39 PDV @ 12,820 VND\n",
      "  > BÁN 19 TTN @ 14,730 VND\n",
      "  > MUA 5 MGC @ 24,800 VND\n",
      "  > BÁN 23 ELC @ 21,100 VND\n",
      "  > BÁN 62 ACB @ 19,300 VND\n",
      "  > BÁN 37 PVP @ 13,300 VND\n",
      "  > BÁN 5 VTP @ 108,200 VND\n",
      "  > BÁN 20 PHP @ 37,700 VND\n",
      "  > BÁN 19 DPR @ 35,610 VND\n",
      "  > BÁN 60 MBB @ 14,600 VND\n",
      "  > BÁN 12 VCB @ 52,000 VND\n",
      "  > BÁN 34 BIC @ 16,670 VND\n",
      "  > BÁN 10 NTP @ 39,960 VND\n",
      "  > BÁN 13 DVN @ 16,830 VND\n",
      "  > BÁN 9 IMP @ 36,640 VND\n",
      "  > BÁN 8 CTP @ 22,300 VND\n",
      "  > BÁN 23 HCM @ 18,630 VND\n",
      "  > BÁN 26 CTG @ 33,800 VND\n",
      "  > BÁN 18 MSH @ 29,300 VND\n",
      "  > BÁN 10 SIP @ 55,530 VND\n",
      "  > BÁN 13 REE @ 49,650 VND\n",
      "  > BÁN 25 MBS @ 23,830 VND\n",
      "  > BÁN 22 STB @ 35,400 VND\n",
      "  > BÁN 11 TRC @ 60,880 VND\n",
      "  > BÁN 8 PVI @ 59,000 VND\n",
      "  > BÁN 20 TCL @ 33,620 VND\n",
      "  > BÁN 16 FTS @ 36,570 VND\n",
      "  > BÁN 16 PGN @ 8,200 VND\n",
      "  > MUA 12 STB @ 40,450 VND\n",
      "  > BÁN 28 VPI @ 51,800 VND\n",
      "  > MUA 3 BMP @ 138,340 VND\n",
      "  > MUA 6 NTP @ 58,370 VND\n"
     ]
    },
    {
     "name": "stderr",
     "output_type": "stream",
     "text": [
      "Đang mô phỏng giao dịch:  99%|█████████████████████████████████████████████████████████████████████████████████████▉ | 6050/6124 [00:44<00:00, 94.75it/s]"
     ]
    },
    {
     "name": "stdout",
     "output_type": "stream",
     "text": [
      "  > MUA 10 BWE @ 53,500 VND\n",
      "  > MUA 36 HTI @ 18,590 VND\n",
      "  > MUA 17 TCB @ 29,500 VND\n",
      "  > MUA 28 MBB @ 18,880 VND\n",
      "  > MUA 24 HHS @ 14,650 VND\n",
      "  > MUA 7 IMP @ 54,170 VND\n",
      "  > MUA 9 BFC @ 46,980 VND\n"
     ]
    },
    {
     "name": "stderr",
     "output_type": "stream",
     "text": [
      "Đang mô phỏng giao dịch:  99%|██████████████████████████████████████████████████████████████████████████████████████▎| 6072/6124 [00:44<00:00, 97.98it/s]"
     ]
    },
    {
     "name": "stdout",
     "output_type": "stream",
     "text": [
      "  > MUA 7 REE @ 67,220 VND\n",
      "  > MUA 16 VFS @ 25,000 VND\n",
      "  > MUA 21 DBC @ 29,700 VND\n",
      "  > MUA 26 CTG @ 43,000 VND\n"
     ]
    },
    {
     "name": "stderr",
     "output_type": "stream",
     "text": [
      "Đang mô phỏng giao dịch:  99%|██████████████████████████████████████████████████████████████████████████████████████▌| 6092/6124 [00:44<00:00, 96.84it/s]"
     ]
    },
    {
     "name": "stdout",
     "output_type": "stream",
     "text": [
      "  > MUA 74 ACB @ 22,650 VND\n",
      "  > MUA 36 VIX @ 17,700 VND\n",
      "  > BÁN 10 MTA @ 16,500 VND\n",
      "  > MUA 8 FOX @ 74,000 VND\n",
      "  > MUA 19 CTS @ 32,000 VND\n",
      "[WARNING] Mã TAL (holding): không tìm thấy trong thông tin giá của ngày hiện tại.\n",
      "[WARNING] Mã TAL (tín hiệu mua): không tìm thấy trong thông tin giá của ngày hiện tại.\n",
      "  > MUA 11 GEX @ 48,540 VND\n",
      "[WARNING] Mã TAL (holding): không tìm thấy trong thông tin giá của ngày hiện tại.\n",
      "[WARNING] Mã TAL (tín hiệu mua): không tìm thấy trong thông tin giá của ngày hiện tại.\n",
      "[WARNING] Mã TAL (holding): không tìm thấy trong thông tin giá của ngày hiện tại.\n",
      "[WARNING] Mã TAL (tín hiệu mua): không tìm thấy trong thông tin giá của ngày hiện tại.\n",
      "  > MUA 33 HDB @ 27,600 VND\n",
      "[WARNING] Mã TAL (holding): không tìm thấy trong thông tin giá của ngày hiện tại.\n",
      "[WARNING] Mã TAL (tín hiệu mua): không tìm thấy trong thông tin giá của ngày hiện tại.\n",
      "  > MUA 20 EIB @ 28,100 VND\n",
      "  > MUA 29 HCM @ 26,400 VND\n",
      "  > MUA 37 VPB @ 24,350 VND\n",
      "  > MUA 19 VSC @ 24,050 VND\n",
      "[WARNING] Mã TAL (holding): không tìm thấy trong thông tin giá của ngày hiện tại.\n",
      "[WARNING] Mã TAL (tín hiệu mua): không tìm thấy trong thông tin giá của ngày hiện tại.\n",
      "  > MUA 16 MBS @ 35,220 VND\n",
      "  > MUA 50 SHB @ 14,600 VND\n",
      "  > MUA 15 VCI @ 45,800 VND\n",
      "[WARNING] Mã TDM (holding): không tìm thấy trong thông tin giá của ngày hiện tại.\n",
      "[WARNING] Mã TAL (holding): không tìm thấy trong thông tin giá của ngày hiện tại.\n",
      "[WARNING] Mã TDM (tín hiệu mua): không tìm thấy trong thông tin giá của ngày hiện tại.\n",
      "[WARNING] Mã TAL (tín hiệu mua): không tìm thấy trong thông tin giá của ngày hiện tại.\n",
      "  > MUA 22 CDC @ 20,000 VND\n",
      "[WARNING] Mã TAL (holding): không tìm thấy trong thông tin giá của ngày hiện tại.\n",
      "[WARNING] Mã TAL (tín hiệu mua): không tìm thấy trong thông tin giá của ngày hiện tại.\n",
      "[WARNING] Mã TAL (holding): không tìm thấy trong thông tin giá của ngày hiện tại.\n",
      "[WARNING] Mã TAL (tín hiệu mua): không tìm thấy trong thông tin giá của ngày hiện tại.\n",
      "  > MUA 18 DDV @ 33,900 VND\n",
      "  > MUA 22 DCM @ 39,400 VND\n"
     ]
    },
    {
     "name": "stderr",
     "output_type": "stream",
     "text": [
      "Đang mô phỏng giao dịch: 100%|██████████████████████████████████████████████████████████████████████████████████████▊| 6112/6124 [00:44<00:00, 87.81it/s]"
     ]
    },
    {
     "name": "stdout",
     "output_type": "stream",
     "text": [
      "\n",
      "--- Ngày: 2025-08-08 ---\n",
      "NAV: 139,911,042 VND | Tiền mặt: 106,847,662 VND | CP: 45\n",
      "  > MUA 24 BIC @ 27,570 VND\n",
      "  > MUA 19 CTX @ 18,400 VND\n",
      "  > MUA 26 D2D @ 40,000 VND\n",
      "  > MUA 23 MZG @ 12,100 VND\n",
      "  > MUA 36 VAB @ 13,230 VND\n",
      "  > MUA 6 VGC @ 67,700 VND\n",
      "  > MUA 15 SHS @ 25,000 VND\n",
      "  > BÁN 5 MGC @ 15,500 VND\n",
      "  > MUA 19 L40 @ 28,000 VND\n",
      "  > MUA 17 DSE @ 29,550 VND\n",
      "  > MUA 27 NAG @ 16,900 VND\n",
      "  > MUA 24 TPB @ 21,500 VND\n",
      "  > MUA 17 VDS @ 24,700 VND\n",
      "  > MUA 37 VIB @ 23,400 VND\n",
      "  > MUA 41 MSB @ 15,420 VND\n",
      "  > MUA 17 NAF @ 31,500 VND\n",
      "  > MUA 3 VIC @ 131,000 VND\n",
      "  > MUA 12 SSI @ 40,450 VND\n",
      "  > MUA 13 AAS @ 21,500 VND\n",
      "  > MUA 11 VCB @ 69,500 VND\n",
      "  > MUA 8 MWG @ 78,000 VND\n"
     ]
    },
    {
     "name": "stderr",
     "output_type": "stream",
     "text": [
      "Đang mô phỏng giao dịch: 100%|██████████████████████████████████████████████████████████████████████████████████████| 6124/6124 [00:44<00:00, 136.19it/s]"
     ]
    },
    {
     "name": "stdout",
     "output_type": "stream",
     "text": [
      "  > MUA 153 SJD @ 16,000 VND\n",
      "  > BÁN 13 AAS @ 13,400 VND\n"
     ]
    },
    {
     "name": "stderr",
     "output_type": "stream",
     "text": [
      "\n"
     ]
    }
   ],
   "source": [
    "# Chạy backtest\n",
    "results = run_backtest(full_data, config)"
   ]
  },
  {
   "cell_type": "code",
   "execution_count": 12,
   "id": "4e0e6863",
   "metadata": {},
   "outputs": [
    {
     "name": "stdout",
     "output_type": "stream",
     "text": [
      "\n",
      "--- KẾT QUẢ BACKTEST ---\n",
      "                     nav\n",
      "date                    \n",
      "2025-09-08  1.405306e+08\n",
      "2025-09-09  1.409364e+08\n",
      "2025-09-10  1.412577e+08\n",
      "2025-09-11  1.414844e+08\n",
      "2025-09-12  1.417584e+08\n",
      "\n",
      "Vốn ban đầu: 100,000,000 VND\n",
      "NAV cuối kỳ:  141,758,444 VND\n",
      "Thời gian:    25.13 năm\n",
      "CAGR:         1.40%\n"
     ]
    },
    {
     "data": {
      "image/png": "[encoded data removed]",
      "text/plain": [
       "<Figure size 1500x800 with 1 Axes>"
      ]
     },
     "metadata": {},
     "output_type": "display_data"
    }
   ],
   "source": [
    "# In và vẽ kết quả\n",
    "print(\"\\n--- KẾT QUẢ BACKTEST ---\")\n",
    "print(results.tail())\n",
    "\n",
    "# Tính toán các chỉ số hiệu suất\n",
    "final_nav = results['nav'].iloc[-1]\n",
    "initial_nav = config.INITIAL_CAPITAL\n",
    "years = (results.index.max() - results.index.min()).days / 365.25\n",
    "cagr = ((final_nav / initial_nav) ** (1 / years)) - 1\n",
    "\n",
    "print(f\"\\nVốn ban đầu: {initial_nav:,.0f} VND\")\n",
    "print(f\"NAV cuối kỳ:  {final_nav:,.0f} VND\")\n",
    "print(f\"Thời gian:    {years:.2f} năm\")\n",
    "print(f\"CAGR:         {cagr:.2%}\")\n",
    "\n",
    "# Vẽ biểu đồ NAV\n",
    "try:\n",
    "    import matplotlib.pyplot as plt\n",
    "    plt.style.use('seaborn-v0_8-darkgrid')\n",
    "    results['nav'].plot(figsize=(15, 8), title='Hiệu suất Chiến lược Trend Following')\n",
    "    plt.ylabel('Tổng giá trị tài sản (NAV)')\n",
    "    plt.xlabel('Thời gian')\n",
    "    plt.yscale('log') # Dùng thang log để dễ nhìn hơn\n",
    "    plt.show()\n",
    "except ImportError:\n",
    "    print(\"\\nVui lòng cài đặt matplotlib (`pip install matplotlib`) để vẽ biểu đồ.\")"
   ]
  },
  {
   "cell_type": "markdown",
   "id": "49a2e0eb",
   "metadata": {},
   "source": [
    "### Stock EDA"
   ]
  },
  {
   "cell_type": "markdown",
   "id": "67d0dfc1",
   "metadata": {},
   "source": [
    "#### Define"
   ]
  },
  {
   "cell_type": "code",
   "execution_count": 7,
   "id": "cf82fbdc",
   "metadata": {},
   "outputs": [],
   "source": [
    "import os\n",
    "import numpy as np\n",
    "import pandas as pd\n",
    "import matplotlib.pyplot as plt\n",
    "from tqdm import tqdm\n",
    "\n",
    "# Đọc tất cả file csv trong folder\n",
    "def load_stock_data(folder):\n",
    "    all_data = []\n",
    "    for file in tqdm(os.listdir(folder)):\n",
    "        if file.endswith(\".csv\"):\n",
    "            ticker = file.replace(\".csv\", \"\")\n",
    "            df = pd.read_csv(os.path.join(folder, file))\n",
    "            df[\"time\"] = pd.to_datetime(df[\"time\"])\n",
    "            df[\"ticker\"] = ticker\n",
    "            all_data.append(df)\n",
    "    return pd.concat(all_data, ignore_index=True)\n",
    "\n",
    "# Thống kê date\n",
    "def analyze_dates(df):\n",
    "    stats = df.groupby(\"ticker\").agg(min_date=(\"time\", \"min\"),\n",
    "                                     max_date=(\"time\", \"max\")).reset_index()\n",
    "    print(stats)\n",
    "\n",
    "    plt.hist(stats[\"min_date\"], bins=30, alpha=0.7, label=\"Min dates\")\n",
    "    plt.hist(stats[\"max_date\"], bins=30, alpha=0.7, label=\"Max dates\")\n",
    "    plt.legend()\n",
    "    plt.title(\"Phân phối Min/Max date của các cổ phiếu\")\n",
    "    plt.show()\n",
    "    return stats\n",
    "\n",
    "# Thống kê volume\n",
    "def analyze_volume(df, idx=0):\n",
    "    vol_stats = df.groupby(\"ticker\")[\"volume\"].mean().sort_values(ascending=False).reset_index()\n",
    "    print(vol_stats)\n",
    "\n",
    "    ticker = vol_stats.iloc[idx][\"ticker\"]\n",
    "    df_ticker = df[df[\"ticker\"] == ticker]\n",
    "    \n",
    "    plt.hist(df_ticker[\"volume\"], bins=50)\n",
    "    plt.title(f\"Phân phối volume của {ticker}\")\n",
    "    plt.show()\n",
    "    \n",
    "    return vol_stats\n",
    "\n",
    "def plot_volume_distribution(vol_stats):\n",
    "    plt.hist(vol_stats[\"volume\"], bins=50)\n",
    "    plt.title(\"Phân phối mean volume của các cổ phiếu\")\n",
    "    plt.yscale(\"log\")\n",
    "    plt.xlabel(\"Mean Volume\")\n",
    "    plt.ylabel(\"Số cổ phiếu\")\n",
    "    plt.show()\n",
    "\n",
    "# Thống kê giá hiện tại\n",
    "def analyze_prices(df, n=10000):\n",
    "    latest_prices = df.sort_values(\"time\").groupby(\"ticker\").tail(1)[[\"ticker\", \"close\"]]\n",
    "    print(latest_prices)\n",
    "\n",
    "    count = (latest_prices[\"close\"] <= n).sum()\n",
    "    print(f\"Số cổ phiếu có giá mới nhất <= {n}: {count}\")\n",
    "    return latest_prices, count\n",
    "\n",
    "def compute_avg_days_per_year(df):\n",
    "    \"\"\"\n",
    "    df: DataFrame chứa tất cả stock data, có cột 'time' và 'ticker'\n",
    "    Trả về: Series trung bình số ngày có data hợp lệ cho mỗi ticker,\n",
    "             và Series phân phối trung bình của toàn bộ ticker\n",
    "    \"\"\"\n",
    "    df = df.copy()\n",
    "    df[\"year\"] = df[\"time\"].dt.year\n",
    "\n",
    "    results = {}\n",
    "\n",
    "    for ticker, group in df.groupby(\"ticker\"):\n",
    "        # Xác định các năm đầy đủ để tính trung bình\n",
    "        years = group[\"year\"].unique()\n",
    "        min_year, max_year = years.min(), years.max()\n",
    "\n",
    "        # Chỉ lấy các năm đầy đủ (không tính năm đầu và cuối nếu thiếu ngày)\n",
    "        valid_years = []\n",
    "        yearly_counts = {}\n",
    "        for y in range(min_year, max_year+1):\n",
    "            year_data = group[group[\"year\"]==y]\n",
    "            # Nếu số ngày >= 250 (hoặc gần 365 ngày tùy thị trường) -> coi là đầy đủ\n",
    "            if len(year_data) >= 250:  # giả sử thị trường chứng khoán ~250 ngày/năm\n",
    "                valid_years.append(y)\n",
    "                # Đếm số ngày không NaN trong các cột dữ liệu (bỏ cột time, ticker)\n",
    "                num_days = year_data.drop(columns=[\"time\", \"ticker\"]).dropna(how='all').shape[0]\n",
    "                yearly_counts[y] = num_days\n",
    "\n",
    "        if valid_years:\n",
    "            # Trung bình các năm đầy đủ\n",
    "            results[ticker] = np.mean([yearly_counts[y] for y in valid_years])\n",
    "        else:\n",
    "            results[ticker] = np.nan\n",
    "\n",
    "    # Chuyển kết quả sang Series\n",
    "    ticker_avg = pd.Series(results)\n",
    "    overall_avg_distribution = ticker_avg.dropna()\n",
    "\n",
    "    return ticker_avg, overall_avg_distribution\n",
    "\n",
    "def analyze_nan(df: pd.DataFrame, visulize=False):\n",
    "    \"\"\"\n",
    "    Thống kê NaN cho dữ liệu stock đã load bằng load_stock_data.\n",
    "    \n",
    "    Parameters:\n",
    "        df (pd.DataFrame): DataFrame có cột ['time', 'open', 'high', 'low', 'close', 'volume', 'ticker']\n",
    "    \n",
    "    Returns:\n",
    "        nan_df (pd.DataFrame): số lượng NaN cho từng mã, từng cột\n",
    "        nan_mean (pd.Series): trung bình số lượng NaN trên mỗi cột\n",
    "    \"\"\"\n",
    "\n",
    "    # Đếm NaN theo từng ticker\n",
    "    nan_df = df.groupby(\"ticker\").apply(lambda x: x.isna().sum())\n",
    "    nan_df = nan_df[[\"time\", \"open\", \"high\", \"low\", \"close\", \"volume\"]]  # giữ 6 cột chính\n",
    "\n",
    "    # Tính trung bình NaN theo cột\n",
    "    nan_mean = nan_df.mean()\n",
    "\n",
    "    # In kết quả\n",
    "    print(\"Số lượng NaN của mỗi mã:\")\n",
    "    print(nan_df)\n",
    "\n",
    "    print(\"\\nTrung bình số lượng NaN mỗi cột:\")\n",
    "    print(nan_mean)\n",
    "\n",
    "    # Vẽ phân phối NaN cho từng cột\n",
    "    if visulize:\n",
    "        for col in nan_df.columns:\n",
    "            plt.figure(figsize=(6,4))\n",
    "            plt.hist(nan_df[col], bins=20, edgecolor=\"black\")\n",
    "            plt.title(f\"Phân phối số lượng NaN - cột {col}\")\n",
    "            plt.xlabel(\"Số NaN\")\n",
    "            plt.ylabel(\"Số lượng mã\")\n",
    "            plt.show()\n",
    "\n",
    "    return nan_df, nan_mean\n",
    "\n",
    "def analyze_zero(df: pd.DataFrame, visulize=False):\n",
    "    \"\"\"\n",
    "    Thống kê số lượng giá trị bằng 0 cho dữ liệu stock đã load bằng load_stock_data.\n",
    "    \n",
    "    Parameters:\n",
    "        df (pd.DataFrame): DataFrame có cột ['time', 'open', 'high', 'low', 'close', 'volume', 'ticker']\n",
    "    \n",
    "    Returns:\n",
    "        zero_df (pd.DataFrame): số lượng giá trị 0 cho từng mã, từng cột\n",
    "        zero_mean (pd.Series): trung bình số lượng giá trị 0 trên mỗi cột\n",
    "    \"\"\"\n",
    "\n",
    "    # Đếm số lượng 0 theo từng ticker\n",
    "    zero_df = df.groupby(\"ticker\").apply(lambda x: (x == 0).sum())\n",
    "    zero_df = zero_df[[\"time\", \"open\", \"high\", \"low\", \"close\", \"volume\"]]  # giữ 6 cột chính\n",
    "\n",
    "    # Tính trung bình số lượng 0 theo cột\n",
    "    zero_mean = zero_df.mean()\n",
    "\n",
    "    # In kết quả\n",
    "    print(\"Số lượng giá trị 0 của mỗi mã:\")\n",
    "    print(zero_df)\n",
    "\n",
    "    print(\"\\nTrung bình số lượng giá trị 0 mỗi cột:\")\n",
    "    print(zero_mean)\n",
    "\n",
    "    # Vẽ phân phối số lượng 0 cho từng cột\n",
    "    if visulize:\n",
    "        for col in zero_df.columns:\n",
    "            plt.figure(figsize=(6,4))\n",
    "            plt.hist(zero_df[col], bins=20, edgecolor=\"black\")\n",
    "            plt.title(f\"Phân phối số lượng 0 - cột {col}\")\n",
    "            plt.xlabel(\"Số lượng 0\")\n",
    "            plt.ylabel(\"Số lượng mã\")\n",
    "            plt.show()\n",
    "\n",
    "    return zero_df, zero_mean\n",
    "\n",
    "def check_abnormal_changes(df_all, threshold=40, vol_threshold=10_000, roll_window=42):\n",
    "    \"\"\"\n",
    "    df_all: DataFrame chứa ['time','ticker','close','volume']\n",
    "    Trả về DataFrame gồm các trường hợp pct_change bất thường\n",
    "    (loại bỏ dòng đầu & cuối của mỗi ticker, \n",
    "    chỉ xác nhận bất thường nếu volume > vol_threshold \n",
    "    hoặc volume trung bình 42 ngày > vol_threshold).\n",
    "    \"\"\"\n",
    "    df_all = df_all.copy()\n",
    "    df_all[\"time\"] = pd.to_datetime(df_all[\"time\"])\n",
    "    df_all = df_all.sort_values([\"ticker\", \"time\"])\n",
    "\n",
    "    # % change\n",
    "    df_all[\"pct_change\"] = df_all.groupby(\"ticker\")[\"close\"].pct_change() * 100\n",
    "\n",
    "    # Rolling volume mean theo ticker\n",
    "    df_all[\"vol_roll_mean\"] = (\n",
    "        df_all.groupby(\"ticker\")[\"volume\"]\n",
    "        .transform(lambda x: x.rolling(roll_window, min_periods=1).mean())\n",
    "    )\n",
    "\n",
    "    # Đánh dấu first và last row\n",
    "    df_all[\"is_first\"] = df_all.groupby(\"ticker\").cumcount() == 0\n",
    "    df_all[\"is_last\"] = df_all.groupby(\"ticker\").cumcount(ascending=False) == 0\n",
    "\n",
    "    # Điều kiện volume hợp lệ\n",
    "    vol_ok = (df_all[\"volume\"] > vol_threshold) | (df_all[\"vol_roll_mean\"] > vol_threshold)\n",
    "\n",
    "    # Điều kiện bất thường\n",
    "    abnormal = df_all[\n",
    "        (\n",
    "            (df_all[\"pct_change\"].abs() > threshold)\n",
    "            | (df_all[\"pct_change\"].isna())\n",
    "            | (np.isinf(df_all[\"pct_change\"]))\n",
    "        )\n",
    "        & ~df_all[\"is_first\"]\n",
    "        & ~df_all[\"is_last\"]\n",
    "        & vol_ok\n",
    "    ].drop(columns=[\"is_first\", \"is_last\"])\n",
    "\n",
    "    return abnormal\n",
    "\n",
    "def check_low_high(df: pd.DataFrame):\n",
    "    \"\"\"\n",
    "    Kiểm tra cột 'low' có phải là min và 'high' có phải là max trong [open, high, low, close].\n",
    "\n",
    "    Parameters:\n",
    "        df (pd.DataFrame): DataFrame từ hàm load_stock_data\n",
    "\n",
    "    Returns:\n",
    "        invalid_df (pd.DataFrame): Các dòng không hợp lệ\n",
    "    \"\"\"\n",
    "\n",
    "    # Tính min/max trên từng dòng\n",
    "    row_min = df[[\"open\", \"high\", \"low\", \"close\"]].min(axis=1)\n",
    "    row_max = df[[\"open\", \"high\", \"low\", \"close\"]].max(axis=1)\n",
    "\n",
    "    # Điều kiện sai\n",
    "    invalid_mask = (df[\"low\"] != row_min) | (df[\"high\"] != row_max)\n",
    "    invalid_df = df[invalid_mask]\n",
    "\n",
    "    # In kết quả\n",
    "    if invalid_df.empty:\n",
    "        print(\"✅ Dữ liệu hợp lệ: tất cả các dòng đều có low=min và high=max.\")\n",
    "    else:\n",
    "        print(f\"⚠️ Có {len(invalid_df)} dòng dữ liệu không hợp lệ:\")\n",
    "        print(invalid_df[[\"time\", \"ticker\", \"open\", \"high\", \"low\", \"close\"]].head(20))\n",
    "\n",
    "    return invalid_df\n",
    "\n",
    "def check_max_increase_from_df(all_stock_df):\n",
    "    \"\"\"\n",
    "    all_stock_df: DataFrame đã concat từ nhiều mã, \n",
    "                  cần có cột 'ticker', 'time', 'close'\n",
    "    \"\"\"\n",
    "    results = []\n",
    "\n",
    "    for ticker, df in all_stock_df.groupby(\"ticker\"):\n",
    "        df = df.sort_values(\"time\").reset_index(drop=True)\n",
    "        close = df[\"close\"].values\n",
    "        time = df[\"time\"].values\n",
    "\n",
    "        # Skip nếu giá <=0\n",
    "        if np.nanmin(close) <= 0:\n",
    "            continue\n",
    "\n",
    "        max_increase = -np.inf\n",
    "        start_idx, end_idx = 0, 0\n",
    "\n",
    "        for i in range(len(close)):\n",
    "            low_price = close[i]\n",
    "            future_high_idx = i + np.argmax(close[i:])\n",
    "            future_high = close[future_high_idx]\n",
    "\n",
    "            increase = (future_high - low_price) / low_price\n",
    "            if increase > max_increase:\n",
    "                max_increase = increase\n",
    "                start_idx = i\n",
    "                end_idx = future_high_idx\n",
    "\n",
    "        if max_increase > 0:\n",
    "            days = (time[end_idx] - time[start_idx]).astype('timedelta64[D]').astype(int)\n",
    "            holding_years = days / 365.0  # kể cả lẻ\n",
    "            CAGR = (close[end_idx] / close[start_idx]) ** (1/holding_years) - 1 if holding_years > 0 else np.nan\n",
    "\n",
    "            results.append({\n",
    "                \"ticker\": ticker,\n",
    "                \"start_date\": pd.to_datetime(time[start_idx]),\n",
    "                \"end_date\": pd.to_datetime(time[end_idx]),\n",
    "                \"start_price\": close[start_idx],\n",
    "                \"end_price\": close[end_idx],\n",
    "                \"pct_increase\": max_increase,   # decimal\n",
    "                \"CAGR\": CAGR,                   # decimal\n",
    "                \"holding_years\": holding_years\n",
    "            })\n",
    "        else:\n",
    "            results.append({\n",
    "                \"ticker\": ticker,\n",
    "                \"start_date\": np.nan,\n",
    "                \"end_date\": np.nan,\n",
    "                \"start_price\": np.nan,\n",
    "                \"end_price\": np.nan,\n",
    "                \"pct_increase\": 0,\n",
    "                \"CAGR\": np.nan,\n",
    "                \"holding_years\": 0\n",
    "            })\n",
    "\n",
    "    df_result = pd.DataFrame(results)\n",
    "\n",
    "    # Lọc chỉ những mã holding > 1 tháng (~1/12 năm)\n",
    "    df_filtered = df_result[df_result[\"holding_years\"] > 1.5/12]\n",
    "\n",
    "    # Vẽ histogram\n",
    "    plt.figure(figsize=(12,5))\n",
    "    plt.subplot(1,2,1)\n",
    "    plt.hist(df_filtered[\"pct_increase\"]*100, bins=50, color='skyblue', edgecolor='black')\n",
    "    plt.title(\"Distribution of pct_increase (%)\")\n",
    "    plt.xlabel(\"% Increase\")\n",
    "    plt.ylabel(\"Frequency\")\n",
    "    plt.yscale('log')\n",
    "\n",
    "    plt.subplot(1,2,2)\n",
    "    plt.hist(df_filtered[\"CAGR\"]*100, bins=50, color='salmon', edgecolor='black')\n",
    "    plt.title(\"Distribution of CAGR (%)\")\n",
    "    plt.xlabel(\"CAGR %/year\")\n",
    "    plt.ylabel(\"Frequency\")\n",
    "    plt.yscale('log')\n",
    "\n",
    "    plt.tight_layout()\n",
    "    plt.show()\n",
    "\n",
    "    return df_result\n"
   ]
  },
  {
   "cell_type": "code",
   "execution_count": 8,
   "id": "3fed21b1",
   "metadata": {},
   "outputs": [
    {
     "name": "stderr",
     "output_type": "stream",
     "text": [
      "100%|████████████████████████████████████████████████████████████████████████████████████████████████████████████████████████████████████████████████████████████████| 1686/1686 [00:35<00:00, 47.46it/s]\n"
     ]
    }
   ],
   "source": [
    "data_folder = \"/mnt/c/Users/HOME/Downloads/TF-algo-trading/vci_stock_history\"\n",
    "df_all = load_stock_data(data_folder)\n",
    "df_all_backup = df_all.copy()"
   ]
  },
  {
   "cell_type": "markdown",
   "id": "094c6443",
   "metadata": {},
   "source": [
    "#### EDA"
   ]
  },
  {
   "cell_type": "code",
   "execution_count": 9,
   "id": "1c78818a",
   "metadata": {},
   "outputs": [
    {
     "name": "stdout",
     "output_type": "stream",
     "text": [
      "     ticker   min_date   max_date\n",
      "0       A32 2018-10-23 2025-09-08\n",
      "1       AAA 2010-07-15 2025-09-12\n",
      "2       AAH 2024-01-11 2025-09-12\n",
      "3       AAM 2009-09-24 2025-09-12\n",
      "4       AAS 2020-07-23 2025-09-12\n",
      "...     ...        ...        ...\n",
      "1681    XPH 2014-11-25 2025-09-12\n",
      "1682    YBC 2008-05-20 2025-09-11\n",
      "1683    YBM 2018-08-21 2025-09-12\n",
      "1684    YEG 2018-06-26 2025-09-12\n",
      "1685    YTC 2017-08-03 2025-09-11\n",
      "\n",
      "[1686 rows x 3 columns]\n"
     ]
    },
    {
     "data": {
      "image/png": "[encoded data removed]",
      "text/plain": [
       "<Figure size 640x480 with 1 Axes>"
      ]
     },
     "metadata": {},
     "output_type": "display_data"
    }
   ],
   "source": [
    "# Thống kê date\n",
    "stats_date = analyze_dates(df_all)"
   ]
  },
  {
   "cell_type": "code",
   "execution_count": 21,
   "id": "8580ac01",
   "metadata": {},
   "outputs": [
    {
     "name": "stdout",
     "output_type": "stream",
     "text": [
      "     ticker        volume\n",
      "0       VPB  1.177724e+07\n",
      "1       SHB  1.036628e+07\n",
      "2       ROS  1.010619e+07\n",
      "3       HPG  8.964041e+06\n",
      "4       FLC  8.864954e+06\n",
      "...     ...           ...\n",
      "1681    TEC  0.000000e+00\n",
      "1682    SCV  0.000000e+00\n",
      "1683    KTW  0.000000e+00\n",
      "1684    KWA  0.000000e+00\n",
      "1685    MTX  0.000000e+00\n",
      "\n",
      "[1686 rows x 2 columns]\n"
     ]
    },
    {
     "data": {
      "image/png": "[encoded data removed]",
      "text/plain": [
       "<Figure size 640x480 with 1 Axes>"
      ]
     },
     "metadata": {},
     "output_type": "display_data"
    }
   ],
   "source": [
    "# Thống kê volume, ví dụ chọn idx=0 (cổ phiếu có mean volume cao nhất)\n",
    "stats_volume = analyze_volume(df_all, idx=0)"
   ]
  },
  {
   "cell_type": "code",
   "execution_count": 22,
   "id": "bc1ed398",
   "metadata": {},
   "outputs": [
    {
     "data": {
      "image/png": "[encoded data removed]",
      "text/plain": [
       "<Figure size 640x480 with 1 Axes>"
      ]
     },
     "metadata": {},
     "output_type": "display_data"
    }
   ],
   "source": [
    "plot_volume_distribution(stats_volume)"
   ]
  },
  {
   "cell_type": "code",
   "execution_count": 23,
   "id": "febaf770",
   "metadata": {},
   "outputs": [
    {
     "name": "stdout",
     "output_type": "stream",
     "text": [
      "        ticker  close\n",
      "798336     DAR   13.0\n",
      "1126284    EAD   28.1\n",
      "2429872    NS3    8.2\n",
      "1590294    HNT    3.9\n",
      "811502     DBH    7.8\n",
      "...        ...    ...\n",
      "1621419    HPT   28.6\n",
      "2646380    PIT    6.9\n",
      "3933393    TV1   23.9\n",
      "1608287    HPG   30.0\n",
      "1278481    GHC   30.1\n",
      "\n",
      "[1686 rows x 2 columns]\n",
      "Số cổ phiếu có giá mới nhất <= 10: 659\n"
     ]
    }
   ],
   "source": [
    "# Thống kê giá hiện tại, ví dụ n = 20000\n",
    "stats_prices, count = analyze_prices(df_all, n=10)"
   ]
  },
  {
   "cell_type": "code",
   "execution_count": 24,
   "id": "29f52f2a",
   "metadata": {},
   "outputs": [
    {
     "data": {
      "text/plain": [
       "(array([120., 622., 727., 103.,   0.,  25.,   0.,   0.,   0.,   1.]),\n",
       " array([250. , 250.2, 250.4, 250.6, 250.8, 251. , 251.2, 251.4, 251.6,\n",
       "        251.8, 252. ]),\n",
       " <BarContainer object of 10 artists>)"
      ]
     },
     "execution_count": 24,
     "metadata": {},
     "output_type": "execute_result"
    },
    {
     "data": {
      "image/png": "[encoded data removed]",
      "text/plain": [
       "<Figure size 640x480 with 1 Axes>"
      ]
     },
     "metadata": {},
     "output_type": "display_data"
    }
   ],
   "source": [
    "ticker_avg, overall_avg_distribution = compute_avg_days_per_year(df_all)\n",
    "plt.hist(overall_avg_distribution)"
   ]
  },
  {
   "cell_type": "code",
   "execution_count": 27,
   "id": "25fb3b31",
   "metadata": {},
   "outputs": [
    {
     "data": {
      "image/png": "[encoded data removed]",
      "text/plain": [
       "<Figure size 1200x500 with 2 Axes>"
      ]
     },
     "metadata": {},
     "output_type": "display_data"
    },
    {
     "data": {
      "application/vnd.microsoft.datawrangler.viewer.v0+json": {
       "columns": [
        {
         "name": "index",
         "rawType": "int64",
         "type": "integer"
        },
        {
         "name": "ticker",
         "rawType": "object",
         "type": "string"
        },
        {
         "name": "start_date",
         "rawType": "datetime64[ns]",
         "type": "datetime"
        },
        {
         "name": "end_date",
         "rawType": "datetime64[ns]",
         "type": "datetime"
        },
        {
         "name": "start_price",
         "rawType": "float64",
         "type": "float"
        },
        {
         "name": "end_price",
         "rawType": "float64",
         "type": "float"
        },
        {
         "name": "pct_increase",
         "rawType": "float64",
         "type": "float"
        },
        {
         "name": "CAGR",
         "rawType": "float64",
         "type": "float"
        },
        {
         "name": "holding_years",
         "rawType": "float64",
         "type": "float"
        }
       ],
       "ref": "09326376-cfaa-45ae-b34a-78ae74c3dec8",
       "rows": [
        [
         "0",
         "AAA",
         "2011-12-27 00:00:00",
         "2022-01-07 00:00:00",
         "2.33",
         "21.89",
         "8.394849785407725",
         "0.2500208203252414",
         "10.038356164383561"
        ],
        [
         "1",
         "AAH",
         "2024-04-23 00:00:00",
         "2024-05-15 00:00:00",
         "3.3",
         "7.0",
         "1.1212121212121213",
         "262014.57984542285",
         "0.06027397260273973"
        ],
        [
         "2",
         "AAM",
         "2016-12-29 00:00:00",
         "2022-03-11 00:00:00",
         "5.07",
         "16.83",
         "2.3195266272189343",
         "0.259525467150038",
         "5.2"
        ],
        [
         "3",
         "AAS",
         "2020-12-11 00:00:00",
         "2025-08-28 00:00:00",
         "3.17",
         "23.0",
         "6.2555205047318605",
         "0.5224244572808114",
         "4.715068493150685"
        ],
        [
         "4",
         "AAT",
         "2021-03-29 00:00:00",
         "2021-11-12 00:00:00",
         "8.24",
         "18.74",
         "1.274271844660194",
         "2.726154165582027",
         "0.6246575342465753"
        ],
        [
         "5",
         "AAV",
         "2020-07-29 00:00:00",
         "2021-10-01 00:00:00",
         "3.61",
         "31.02",
         "7.592797783933518",
         "5.234139516377698",
         "1.1753424657534246"
        ],
        [
         "6",
         "ABB",
         "2021-01-28 00:00:00",
         "2022-02-10 00:00:00",
         "6.59",
         "16.55",
         "1.5113808801213962",
         "1.4330944951829099",
         "1.0356164383561643"
        ],
        [
         "7",
         "ABC",
         "2022-12-09 00:00:00",
         "2024-06-24 00:00:00",
         "3.92",
         "20.69",
         "4.278061224489797",
         "1.940283995538913",
         "1.5424657534246575"
        ],
        [
         "8",
         "ABS",
         "2020-07-29 00:00:00",
         "2021-04-26 00:00:00",
         "8.06",
         "70.07",
         "7.693548387096772",
         "17.40645829265211",
         "0.7424657534246575"
        ],
        [
         "9",
         "ABT",
         "2009-01-12 00:00:00",
         "2025-07-31 00:00:00",
         "3.04",
         "69.5",
         "21.861842105263154",
         "0.20802901435514332",
         "16.55890410958904"
        ],
        [
         "10",
         "ABW",
         "2025-04-09 00:00:00",
         "2025-08-29 00:00:00",
         "6.2",
         "13.3",
         "1.1451612903225807",
         "6.112006236196695",
         "0.38904109589041097"
        ],
        [
         "11",
         "ACB",
         "2008-06-10 00:00:00",
         "2025-08-21 00:00:00",
         "1.68",
         "29.45",
         "16.529761904761905",
         "0.18107647835401908",
         "17.208219178082192"
        ],
        [
         "12",
         "ACC",
         "2011-08-11 00:00:00",
         "2022-03-10 00:00:00",
         "1.96",
         "24.83",
         "11.668367346938775",
         "0.2710565252985786",
         "10.586301369863014"
        ],
        [
         "13",
         "ACG",
         "2022-11-23 00:00:00",
         "2024-06-17 00:00:00",
         "27.96",
         "49.03",
         "0.7535765379113019",
         "0.4310383339265187",
         "1.5671232876712329"
        ],
        [
         "14",
         "ACL",
         "2009-03-03 00:00:00",
         "2022-04-21 00:00:00",
         "1.74",
         "31.26",
         "16.965517241379313",
         "0.24580291662312637",
         "13.142465753424657"
        ],
        [
         "15",
         "ACM",
         "2019-11-27 00:00:00",
         "2021-04-15 00:00:00",
         "0.3",
         "4.8",
         "15.0",
         "6.418302553170192",
         "1.3835616438356164"
        ],
        [
         "16",
         "ACS",
         "2019-11-28 00:00:00",
         "2021-11-16 00:00:00",
         "4.9",
         "19.0",
         "2.877551020408163",
         "0.9896694834042477",
         "1.9698630136986301"
        ],
        [
         "17",
         "ACV",
         "2016-11-21 00:00:00",
         "2024-06-13 00:00:00",
         "20.39",
         "82.39",
         "3.0407062285434034",
         "0.20274269957143498",
         "7.564383561643836"
        ],
        [
         "18",
         "ADC",
         "2011-08-12 00:00:00",
         "2025-06-03 00:00:00",
         "0.73",
         "23.6",
         "31.328767123287673",
         "0.2859933026051604",
         "13.819178082191781"
        ],
        [
         "19",
         "ADG",
         "2019-12-26 00:00:00",
         "2021-01-04 00:00:00",
         "29.84",
         "57.41",
         "0.9239276139410186",
         "0.8906466172230667",
         "1.0273972602739727"
        ],
        [
         "20",
         "ADS",
         "2016-07-11 00:00:00",
         "2021-12-22 00:00:00",
         "3.61",
         "25.45",
         "6.049861495844875",
         "0.43077324627920177",
         "5.4520547945205475"
        ],
        [
         "21",
         "AFX",
         "2019-05-31 00:00:00",
         "2021-12-31 00:00:00",
         "2.4",
         "18.2",
         "6.583333333333333",
         "1.1869565886072273",
         "2.589041095890411"
        ],
        [
         "22",
         "AG1",
         "2019-09-12 00:00:00",
         "2025-06-03 00:00:00",
         "3.17",
         "14.6",
         "3.6056782334384856",
         "0.30551827722395086",
         "5.728767123287671"
        ],
        [
         "23",
         "AGE",
         "2022-08-15 00:00:00",
         "2022-08-19 00:00:00",
         "9.72",
         "17.98",
         "0.8497942386831275",
         "2.3714408707585655e+24",
         "0.010958904109589041"
        ],
        [
         "24",
         "AGF",
         "2003-07-29 00:00:00",
         "2007-02-27 00:00:00",
         "8.81",
         "59.36",
         "5.737797956867196",
         "0.7022485277414903",
         "3.5863013698630137"
        ],
        [
         "25",
         "AGG",
         "2020-07-27 00:00:00",
         "2022-03-16 00:00:00",
         "13.25",
         "38.04",
         "1.870943396226415",
         "0.905600284409791",
         "1.6356164383561644"
        ],
        [
         "26",
         "AGM",
         "2015-11-13 00:00:00",
         "2022-03-15 00:00:00",
         "5.67",
         "62.0",
         "9.934744268077601",
         "0.45833407176767804",
         "6.33972602739726"
        ],
        [
         "27",
         "AGR",
         "2016-12-16 00:00:00",
         "2021-11-30 00:00:00",
         "1.73",
         "23.9",
         "12.815028901734102",
         "0.6980889872194613",
         "4.958904109589041"
        ],
        [
         "28",
         "AIC",
         "2022-11-23 00:00:00",
         "2024-01-29 00:00:00",
         "7.3",
         "15.8",
         "1.1643835616438356",
         "0.9201111617357556",
         "1.1835616438356165"
        ],
        [
         "29",
         "AIG",
         "2025-04-08 00:00:00",
         "2025-06-06 00:00:00",
         "38.9",
         "47.5",
         "0.22107969151670956",
         "2.4406196196309673",
         "0.16164383561643836"
        ],
        [
         "30",
         "ALT",
         "2012-08-23 00:00:00",
         "2022-08-04 00:00:00",
         "4.21",
         "22.76",
         "4.406175771971497",
         "0.18476430071772976",
         "9.953424657534246"
        ],
        [
         "31",
         "ALV",
         "2020-04-24 00:00:00",
         "2025-08-18 00:00:00",
         "0.94",
         "10.29",
         "9.946808510638299",
         "0.5679589133399219",
         "5.32054794520548"
        ],
        [
         "32",
         "AMC",
         "2013-01-30 00:00:00",
         "2021-09-16 00:00:00",
         "3.39",
         "26.31",
         "6.761061946902654",
         "0.26790035106036525",
         "8.632876712328768"
        ],
        [
         "33",
         "AMD",
         "2019-10-10 00:00:00",
         "2022-01-10 00:00:00",
         "1.4",
         "10.3",
         "6.357142857142858",
         "1.4231762222906617",
         "2.254794520547945"
        ],
        [
         "34",
         "AME",
         "2013-04-22 00:00:00",
         "2018-12-25 00:00:00",
         "1.21",
         "20.2",
         "15.694214876033056",
         "0.6415770010641804",
         "5.67945205479452"
        ],
        [
         "35",
         "AMP",
         "2023-03-31 00:00:00",
         "2024-05-02 00:00:00",
         "8.0",
         "29.6",
         "2.7",
         "2.3196287777449545",
         "1.0904109589041096"
        ],
        [
         "36",
         "AMS",
         "2017-06-28 00:00:00",
         "2021-10-29 00:00:00",
         "4.43",
         "19.23",
         "3.3408577878103842",
         "0.40254267715226844",
         "4.33972602739726"
        ],
        [
         "37",
         "AMV",
         "2012-10-02 00:00:00",
         "2018-12-18 00:00:00",
         "1.02",
         "16.14",
         "14.823529411764707",
         "0.5595869025669917",
         "6.213698630136986"
        ],
        [
         "38",
         "ANT",
         "2019-04-03 00:00:00",
         "2025-07-30 00:00:00",
         "2.43",
         "31.5",
         "11.962962962962962",
         "0.49905273141698814",
         "6.328767123287672"
        ],
        [
         "39",
         "ANV",
         "2011-08-11 00:00:00",
         "2022-06-17 00:00:00",
         "0.68",
         "29.29",
         "42.0735294117647",
         "0.4142101779436653",
         "10.857534246575343"
        ],
        [
         "40",
         "APC",
         "2010-11-16 00:00:00",
         "2017-12-18 00:00:00",
         "7.25",
         "90.8",
         "11.524137931034483",
         "0.4281100305236829",
         "7.093150684931507"
        ],
        [
         "41",
         "APF",
         "2019-08-23 00:00:00",
         "2024-07-10 00:00:00",
         "6.52",
         "54.33",
         "7.332822085889571",
         "0.5434637061576084",
         "4.884931506849315"
        ],
        [
         "42",
         "APG",
         "2012-11-06 00:00:00",
         "2022-01-04 00:00:00",
         "0.99",
         "20.7",
         "19.90909090909091",
         "0.39325107669172277",
         "9.167123287671233"
        ],
        [
         "43",
         "APH",
         "2022-11-15 00:00:00",
         "2024-06-06 00:00:00",
         "5.55",
         "10.9",
         "0.9639639639639641",
         "0.541836046918313",
         "1.558904109589041"
        ],
        [
         "44",
         "API",
         "2012-11-27 00:00:00",
         "2021-11-15 00:00:00",
         "1.01",
         "46.36",
         "44.9009900990099",
         "0.5318304637193259",
         "8.972602739726028"
        ],
        [
         "45",
         "APP",
         "2020-07-27 00:00:00",
         "2024-06-12 00:00:00",
         "3.0",
         "17.3",
         "4.766666666666667",
         "0.5708776164934153",
         "3.8794520547945206"
        ],
        [
         "46",
         "APS",
         "2020-01-15 00:00:00",
         "2021-11-18 00:00:00",
         "1.58",
         "59.9",
         "36.91139240506329",
         "6.181945909222584",
         "1.8438356164383563"
        ],
        [
         "47",
         "APT",
         "2022-11-11 00:00:00",
         "2024-03-08 00:00:00",
         "1.7",
         "4.0",
         "1.352941176470588",
         "0.9090798795269899",
         "1.3232876712328767"
        ],
        [
         "48",
         "ARM",
         "2011-05-18 00:00:00",
         "2019-03-22 00:00:00",
         "3.19",
         "52.58",
         "15.482758620689655",
         "0.42905579140833017",
         "7.8493150684931505"
        ],
        [
         "49",
         "ART",
         "2019-09-10 00:00:00",
         "2022-01-07 00:00:00",
         "1.7",
         "18.1",
         "9.647058823529413",
         "1.7612421757400574",
         "2.328767123287671"
        ]
       ],
       "shape": {
        "columns": 8,
        "rows": 1235
       }
      },
      "text/html": [
       "<div>\n",
       "<style scoped>\n",
       "    .dataframe tbody tr th:only-of-type {\n",
       "        vertical-align: middle;\n",
       "    }\n",
       "\n",
       "    .dataframe tbody tr th {\n",
       "        vertical-align: top;\n",
       "    }\n",
       "\n",
       "    .dataframe thead th {\n",
       "        text-align: right;\n",
       "    }\n",
       "</style>\n",
       "<table border=\"1\" class=\"dataframe\">\n",
       "  <thead>\n",
       "    <tr style=\"text-align: right;\">\n",
       "      <th></th>\n",
       "      <th>ticker</th>\n",
       "      <th>start_date</th>\n",
       "      <th>end_date</th>\n",
       "      <th>start_price</th>\n",
       "      <th>end_price</th>\n",
       "      <th>pct_increase</th>\n",
       "      <th>CAGR</th>\n",
       "      <th>holding_years</th>\n",
       "    </tr>\n",
       "  </thead>\n",
       "  <tbody>\n",
       "    <tr>\n",
       "      <th>0</th>\n",
       "      <td>AAA</td>\n",
       "      <td>2011-12-27</td>\n",
       "      <td>2022-01-07</td>\n",
       "      <td>2.33</td>\n",
       "      <td>21.89</td>\n",
       "      <td>8.394850</td>\n",
       "      <td>0.250021</td>\n",
       "      <td>10.038356</td>\n",
       "    </tr>\n",
       "    <tr>\n",
       "      <th>1</th>\n",
       "      <td>AAH</td>\n",
       "      <td>2024-04-23</td>\n",
       "      <td>2024-05-15</td>\n",
       "      <td>3.30</td>\n",
       "      <td>7.00</td>\n",
       "      <td>1.121212</td>\n",
       "      <td>262014.579845</td>\n",
       "      <td>0.060274</td>\n",
       "    </tr>\n",
       "    <tr>\n",
       "      <th>2</th>\n",
       "      <td>AAM</td>\n",
       "      <td>2016-12-29</td>\n",
       "      <td>2022-03-11</td>\n",
       "      <td>5.07</td>\n",
       "      <td>16.83</td>\n",
       "      <td>2.319527</td>\n",
       "      <td>0.259525</td>\n",
       "      <td>5.200000</td>\n",
       "    </tr>\n",
       "    <tr>\n",
       "      <th>3</th>\n",
       "      <td>AAS</td>\n",
       "      <td>2020-12-11</td>\n",
       "      <td>2025-08-28</td>\n",
       "      <td>3.17</td>\n",
       "      <td>23.00</td>\n",
       "      <td>6.255521</td>\n",
       "      <td>0.522424</td>\n",
       "      <td>4.715068</td>\n",
       "    </tr>\n",
       "    <tr>\n",
       "      <th>4</th>\n",
       "      <td>AAT</td>\n",
       "      <td>2021-03-29</td>\n",
       "      <td>2021-11-12</td>\n",
       "      <td>8.24</td>\n",
       "      <td>18.74</td>\n",
       "      <td>1.274272</td>\n",
       "      <td>2.726154</td>\n",
       "      <td>0.624658</td>\n",
       "    </tr>\n",
       "    <tr>\n",
       "      <th>...</th>\n",
       "      <td>...</td>\n",
       "      <td>...</td>\n",
       "      <td>...</td>\n",
       "      <td>...</td>\n",
       "      <td>...</td>\n",
       "      <td>...</td>\n",
       "      <td>...</td>\n",
       "      <td>...</td>\n",
       "    </tr>\n",
       "    <tr>\n",
       "      <th>1230</th>\n",
       "      <td>XMP</td>\n",
       "      <td>2021-09-30</td>\n",
       "      <td>2023-08-08</td>\n",
       "      <td>13.95</td>\n",
       "      <td>20.20</td>\n",
       "      <td>0.448029</td>\n",
       "      <td>0.220905</td>\n",
       "      <td>1.854795</td>\n",
       "    </tr>\n",
       "    <tr>\n",
       "      <th>1231</th>\n",
       "      <td>YBC</td>\n",
       "      <td>2017-03-13</td>\n",
       "      <td>2020-04-10</td>\n",
       "      <td>1.70</td>\n",
       "      <td>50.00</td>\n",
       "      <td>28.411765</td>\n",
       "      <td>1.998316</td>\n",
       "      <td>3.079452</td>\n",
       "    </tr>\n",
       "    <tr>\n",
       "      <th>1232</th>\n",
       "      <td>YBM</td>\n",
       "      <td>2020-03-30</td>\n",
       "      <td>2025-02-27</td>\n",
       "      <td>2.40</td>\n",
       "      <td>19.00</td>\n",
       "      <td>6.916667</td>\n",
       "      <td>0.523042</td>\n",
       "      <td>4.917808</td>\n",
       "    </tr>\n",
       "    <tr>\n",
       "      <th>1233</th>\n",
       "      <td>YEG</td>\n",
       "      <td>2022-11-15</td>\n",
       "      <td>2024-12-25</td>\n",
       "      <td>3.66</td>\n",
       "      <td>21.17</td>\n",
       "      <td>4.784153</td>\n",
       "      <td>1.295371</td>\n",
       "      <td>2.112329</td>\n",
       "    </tr>\n",
       "    <tr>\n",
       "      <th>1234</th>\n",
       "      <td>YTC</td>\n",
       "      <td>2017-08-30</td>\n",
       "      <td>2023-12-25</td>\n",
       "      <td>11.59</td>\n",
       "      <td>76.52</td>\n",
       "      <td>5.602243</td>\n",
       "      <td>0.347816</td>\n",
       "      <td>6.323288</td>\n",
       "    </tr>\n",
       "  </tbody>\n",
       "</table>\n",
       "<p>1235 rows × 8 columns</p>\n",
       "</div>"
      ],
      "text/plain": [
       "     ticker start_date   end_date  start_price  end_price  pct_increase  \\\n",
       "0       AAA 2011-12-27 2022-01-07         2.33      21.89      8.394850   \n",
       "1       AAH 2024-04-23 2024-05-15         3.30       7.00      1.121212   \n",
       "2       AAM 2016-12-29 2022-03-11         5.07      16.83      2.319527   \n",
       "3       AAS 2020-12-11 2025-08-28         3.17      23.00      6.255521   \n",
       "4       AAT 2021-03-29 2021-11-12         8.24      18.74      1.274272   \n",
       "...     ...        ...        ...          ...        ...           ...   \n",
       "1230    XMP 2021-09-30 2023-08-08        13.95      20.20      0.448029   \n",
       "1231    YBC 2017-03-13 2020-04-10         1.70      50.00     28.411765   \n",
       "1232    YBM 2020-03-30 2025-02-27         2.40      19.00      6.916667   \n",
       "1233    YEG 2022-11-15 2024-12-25         3.66      21.17      4.784153   \n",
       "1234    YTC 2017-08-30 2023-12-25        11.59      76.52      5.602243   \n",
       "\n",
       "               CAGR  holding_years  \n",
       "0          0.250021      10.038356  \n",
       "1     262014.579845       0.060274  \n",
       "2          0.259525       5.200000  \n",
       "3          0.522424       4.715068  \n",
       "4          2.726154       0.624658  \n",
       "...             ...            ...  \n",
       "1230       0.220905       1.854795  \n",
       "1231       1.998316       3.079452  \n",
       "1232       0.523042       4.917808  \n",
       "1233       1.295371       2.112329  \n",
       "1234       0.347816       6.323288  \n",
       "\n",
       "[1235 rows x 8 columns]"
      ]
     },
     "execution_count": 27,
     "metadata": {},
     "output_type": "execute_result"
    }
   ],
   "source": [
    "df_increase = check_max_increase_from_df(df_all)\n",
    "df_increase"
   ]
  },
  {
   "cell_type": "markdown",
   "id": "0c56fb5c",
   "metadata": {},
   "source": [
    "#### Check values (for preprocessing)"
   ]
  },
  {
   "cell_type": "code",
   "execution_count": null,
   "id": "370248ef",
   "metadata": {},
   "outputs": [
    {
     "name": "stderr",
     "output_type": "stream",
     "text": [
      "/tmp/ipykernel_149/1251423513.py:75: FutureWarning: DataFrameGroupBy.apply operated on the grouping columns. This behavior is deprecated, and in a future version of pandas the grouping columns will be excluded from the operation. Either pass `include_groups=False` to exclude the groupings or explicitly select the grouping columns after groupby to silence this warning.\n",
      "  nan_df = df.groupby(\"ticker\").apply(lambda x: x.isna().sum())\n"
     ]
    },
    {
     "name": "stdout",
     "output_type": "stream",
     "text": [
      "Số lượng NaN của mỗi mã:\n",
      "        time  open  high  low  close  volume\n",
      "ticker                                      \n",
      "A32        0     0     0    0      0       0\n",
      "AAA        0     0     0    0      0       0\n",
      "AAH        0     0     0    0      0       0\n",
      "AAM        0     0     0    0      0       0\n",
      "AAS        0     0     0    0      0       0\n",
      "...      ...   ...   ...  ...    ...     ...\n",
      "XPH        0     0     0    0      0       0\n",
      "YBC        0     0     0    0      0       0\n",
      "YBM        0     0     0    0      0       0\n",
      "YEG        0     0     0    0      0       0\n",
      "YTC        0     0     0    0      0       0\n",
      "\n",
      "[1686 rows x 6 columns]\n",
      "\n",
      "Trung bình số lượng NaN mỗi cột:\n",
      "time      0.000000\n",
      "open      0.013049\n",
      "high      0.023725\n",
      "low       0.023725\n",
      "close     0.025504\n",
      "volume    0.139976\n",
      "dtype: float64\n"
     ]
    },
    {
     "data": {
      "image/png": "[encoded data removed]",
      "text/plain": [
       "<Figure size 600x400 with 1 Axes>"
      ]
     },
     "metadata": {},
     "output_type": "display_data"
    },
    {
     "data": {
      "image/png": "[encoded data removed]",
      "text/plain": [
       "<Figure size 600x400 with 1 Axes>"
      ]
     },
     "metadata": {},
     "output_type": "display_data"
    },
    {
     "data": {
      "image/png": "[encoded data removed]",
      "text/plain": [
       "<Figure size 600x400 with 1 Axes>"
      ]
     },
     "metadata": {},
     "output_type": "display_data"
    },
    {
     "data": {
      "image/png": "[encoded data removed]",
      "text/plain": [
       "<Figure size 600x400 with 1 Axes>"
      ]
     },
     "metadata": {},
     "output_type": "display_data"
    },
    {
     "data": {
      "image/png": "[encoded data removed]",
      "text/plain": [
       "<Figure size 600x400 with 1 Axes>"
      ]
     },
     "metadata": {},
     "output_type": "display_data"
    },
    {
     "data": {
      "image/png": "[encoded data removed]",
      "text/plain": [
       "<Figure size 600x400 with 1 Axes>"
      ]
     },
     "metadata": {},
     "output_type": "display_data"
    }
   ],
   "source": [
    "nan_df, nan_mean = analyze_nan(df_all)"
   ]
  },
  {
   "cell_type": "code",
   "execution_count": 16,
   "id": "04fc2c6e",
   "metadata": {},
   "outputs": [
    {
     "name": "stderr",
     "output_type": "stream",
     "text": [
      "/tmp/ipykernel_615/1593459811.py:112: FutureWarning: DataFrameGroupBy.apply operated on the grouping columns. This behavior is deprecated, and in a future version of pandas the grouping columns will be excluded from the operation. Either pass `include_groups=False` to exclude the groupings or explicitly select the grouping columns after groupby to silence this warning.\n",
      "  zero_df = df.groupby(\"ticker\").apply(lambda x: (x == 0).sum())\n"
     ]
    },
    {
     "name": "stdout",
     "output_type": "stream",
     "text": [
      "Số lượng giá trị 0 của mỗi mã:\n",
      "        time  open  high  low  close  volume\n",
      "ticker                                      \n",
      "A32        0     0     1    1      1     873\n",
      "AAA        0     0     0    0      0       2\n",
      "AAH        0     0     0    0      0       0\n",
      "AAM        0     0     0    0      0     197\n",
      "AAS        0     0     0    0      0       0\n",
      "...      ...   ...   ...  ...    ...     ...\n",
      "XPH        0     1     1    1      1     691\n",
      "YBC        0     0     0    0      0    2421\n",
      "YBM        0     0     0    0      0      30\n",
      "YEG        0     0     0    0      0       0\n",
      "YTC        0     0     0    0      0    1323\n",
      "\n",
      "[1686 rows x 6 columns]\n",
      "\n",
      "Trung bình số lượng giá trị 0 mỗi cột:\n",
      "time        0.000000\n",
      "open        0.680902\n",
      "high        6.471530\n",
      "low         6.472123\n",
      "close       6.651839\n",
      "volume    883.923488\n",
      "dtype: float64\n"
     ]
    },
    {
     "data": {
      "image/png": "[encoded data removed]",
      "text/plain": [
       "<Figure size 600x400 with 1 Axes>"
      ]
     },
     "metadata": {},
     "output_type": "display_data"
    },
    {
     "data": {
      "image/png": "[encoded data removed]",
      "text/plain": [
       "<Figure size 600x400 with 1 Axes>"
      ]
     },
     "metadata": {},
     "output_type": "display_data"
    },
    {
     "data": {
      "image/png": "[encoded data removed]",
      "text/plain": [
       "<Figure size 600x400 with 1 Axes>"
      ]
     },
     "metadata": {},
     "output_type": "display_data"
    },
    {
     "data": {
      "image/png": "[encoded data removed]",
      "text/plain": [
       "<Figure size 600x400 with 1 Axes>"
      ]
     },
     "metadata": {},
     "output_type": "display_data"
    },
    {
     "data": {
      "image/png": "[encoded data removed]",
      "text/plain": [
       "<Figure size 600x400 with 1 Axes>"
      ]
     },
     "metadata": {},
     "output_type": "display_data"
    },
    {
     "data": {
      "image/png": "[encoded data removed]",
      "text/plain": [
       "<Figure size 600x400 with 1 Axes>"
      ]
     },
     "metadata": {},
     "output_type": "display_data"
    }
   ],
   "source": [
    "zero_df, zero_mean = analyze_zero(df_all)"
   ]
  },
  {
   "cell_type": "code",
   "execution_count": null,
   "id": "4289b482",
   "metadata": {},
   "outputs": [
    {
     "data": {
      "application/vnd.microsoft.datawrangler.viewer.v0+json": {
       "columns": [
        {
         "name": "index",
         "rawType": "int64",
         "type": "integer"
        },
        {
         "name": "time",
         "rawType": "datetime64[ns]",
         "type": "datetime"
        },
        {
         "name": "open",
         "rawType": "float64",
         "type": "float"
        },
        {
         "name": "high",
         "rawType": "float64",
         "type": "float"
        },
        {
         "name": "low",
         "rawType": "float64",
         "type": "float"
        },
        {
         "name": "close",
         "rawType": "float64",
         "type": "float"
        },
        {
         "name": "volume",
         "rawType": "float64",
         "type": "float"
        },
        {
         "name": "ticker",
         "rawType": "object",
         "type": "string"
        },
        {
         "name": "pct_change",
         "rawType": "float64",
         "type": "float"
        },
        {
         "name": "vol_roll_mean",
         "rawType": "float64",
         "type": "float"
        }
       ],
       "ref": "63a00716-9163-4760-9033-e56136075c2e",
       "rows": [
        [
         "95837",
         "2019-06-21 00:00:00",
         "1.7",
         "2.9",
         "1.7",
         "2.7",
         "69700.0",
         "ALV",
         "117.741935483871",
         "4603.047619047619"
        ],
        [
         "169423",
         "2019-06-21 00:00:00",
         "0.3",
         "0.3",
         "0.3",
         "0.3",
         "2104.0",
         "ATA",
         "49.99999999999998",
         "15352.07142857143"
        ],
        [
         "169448",
         "2019-07-26 00:00:00",
         "0.2",
         "0.3",
         "0.2",
         "0.3",
         "70510.0",
         "ATA",
         "49.99999999999998",
         "9340.738095238095"
        ],
        [
         "169581",
         "2020-02-07 00:00:00",
         "0.2",
         "0.3",
         "0.2",
         "0.3",
         "14340.0",
         "ATA",
         "49.99999999999998",
         "955.0"
        ],
        [
         "169601",
         "2020-03-06 00:00:00",
         "0.3",
         "0.3",
         "0.2",
         "0.3",
         "24110.0",
         "ATA",
         "49.99999999999998",
         "6320.0952380952385"
        ],
        [
         "169653",
         "2020-05-22 00:00:00",
         "0.2",
         "0.3",
         "0.1",
         "0.3",
         "265700.0",
         "ATA",
         "49.99999999999998",
         "19173.333333333332"
        ],
        [
         "169663",
         "2020-06-05 00:00:00",
         "0.2",
         "0.2",
         "0.1",
         "0.1",
         "93500.0",
         "ATA",
         "-50.0",
         "19521.904761904763"
        ],
        [
         "169668",
         "2020-06-12 00:00:00",
         "0.1",
         "0.3",
         "0.1",
         "0.3",
         "137700.0",
         "ATA",
         "199.99999999999994",
         "18200.47619047619"
        ],
        [
         "169683",
         "2020-07-03 00:00:00",
         "0.3",
         "0.3",
         "0.2",
         "0.3",
         "25422.0",
         "ATA",
         "49.99999999999998",
         "20399.095238095237"
        ],
        [
         "169697",
         "2020-07-23 00:00:00",
         "0.2",
         "0.3",
         "0.3",
         "0.3",
         "0.0",
         "ATA",
         "49.99999999999998",
         "11608.666666666666"
        ],
        [
         "169816",
         "2021-01-08 00:00:00",
         "0.2",
         "0.3",
         "0.2",
         "0.3",
         "1364860.0",
         "ATA",
         "49.99999999999998",
         "65488.833333333336"
        ],
        [
         "181266",
         "2015-06-18 00:00:00",
         "1.6",
         "1.6",
         "1.6",
         "1.6",
         "294400.0",
         "AVF",
         "45.45454545454546",
         "639240.2380952381"
        ],
        [
         "181567",
         "2016-08-26 00:00:00",
         "0.4",
         "0.5",
         "0.3",
         "0.5",
         "364446.0",
         "AVF",
         "66.66666666666667",
         "65487.357142857145"
        ],
        [
         "181631",
         "2016-11-25 00:00:00",
         "0.3",
         "0.3",
         "0.2",
         "0.3",
         "69000.0",
         "AVF",
         "49.99999999999998",
         "44924.52380952381"
        ],
        [
         "181641",
         "2016-12-09 00:00:00",
         "0.3",
         "0.3",
         "0.2",
         "0.3",
         "37750.0",
         "AVF",
         "49.99999999999998",
         "31319.04761904762"
        ],
        [
         "181656",
         "2016-12-30 00:00:00",
         "0.3",
         "0.3",
         "0.2",
         "0.3",
         "139700.0",
         "AVF",
         "49.99999999999998",
         "20966.190476190477"
        ],
        [
         "181980",
         "2018-04-20 00:00:00",
         "0.2",
         "0.3",
         "0.2",
         "0.3",
         "392200.0",
         "AVF",
         "49.99999999999998",
         "41196.42857142857"
        ],
        [
         "181987",
         "2018-05-04 00:00:00",
         "0.3",
         "0.3",
         "0.2",
         "0.3",
         "76900.0",
         "AVF",
         "49.99999999999998",
         "34905.95238095238"
        ],
        [
         "181992",
         "2018-05-11 00:00:00",
         "0.3",
         "0.3",
         "0.2",
         "0.3",
         "561350.0",
         "AVF",
         "49.99999999999998",
         "47076.19047619047"
        ],
        [
         "182482",
         "2020-04-24 00:00:00",
         "0.4",
         "0.5",
         "0.4",
         "0.5",
         "206200.0",
         "AVF",
         "66.66666666666667",
         "49836.78571428572"
        ],
        [
         "182629",
         "2020-11-20 00:00:00",
         "0.3",
         "0.3",
         "0.2",
         "0.2",
         "203000.0",
         "AVF",
         "-50.0",
         "16633.571428571428"
        ],
        [
         "182639",
         "2020-12-04 00:00:00",
         "0.3",
         "0.3",
         "0.2",
         "0.3",
         "130600.0",
         "AVF",
         "49.99999999999998",
         "60776.19047619047"
        ],
        [
         "182654",
         "2020-12-25 00:00:00",
         "0.2",
         "0.3",
         "0.2",
         "0.3",
         "2858230.0",
         "AVF",
         "49.99999999999998",
         "243025.11904761905"
        ],
        [
         "182663",
         "2021-01-08 00:00:00",
         "0.2",
         "0.3",
         "0.2",
         "0.3",
         "7544670.0",
         "AVF",
         "49.99999999999998",
         "422488.6904761905"
        ],
        [
         "298362",
         "2007-05-22 00:00:00",
         "62.24",
         "62.24",
         "62.24",
         "62.24",
         "330.0",
         "BMC",
         "-65.05334081976417",
         "18057.14285714286"
        ],
        [
         "378463",
         "2017-06-15 00:00:00",
         "5.6",
         "5.6",
         "5.5",
         "5.5",
         "13320.0",
         "BT6",
         "-76.98744769874477",
         "9659.214285714286"
        ],
        [
         "427651",
         "2007-12-14 00:00:00",
         "103.77",
         "103.77",
         "100.15",
         "103.77",
         "159000.0",
         "BVS",
         "-59.24354895722871",
         "25552.380952380954"
        ],
        [
         "468423",
         "2019-09-06 00:00:00",
         "0.2",
         "0.3",
         "0.2",
         "0.3",
         "65191.0",
         "CAD",
         "49.99999999999998",
         "11000.047619047618"
        ],
        [
         "468673",
         "2020-09-04 00:00:00",
         "0.3",
         "0.3",
         "0.2",
         "0.3",
         "14002.0",
         "CAD",
         "49.99999999999998",
         "2304.9523809523807"
        ],
        [
         "468748",
         "2020-12-18 00:00:00",
         "0.3",
         "0.5",
         "0.3",
         "0.5",
         "22300.0",
         "CAD",
         "66.66666666666667",
         "946.2857142857143"
        ],
        [
         "499119",
         "2015-05-06 00:00:00",
         "2.09",
         "2.2",
         "2.09",
         "2.14",
         "87010.0",
         "CCL",
         "52.85714285714287",
         "185420.95238095237"
        ],
        [
         "529222",
         "2018-11-02 00:00:00",
         "3.44",
         "3.44",
         "3.44",
         "3.44",
         "50500.0",
         "CDR",
         "-40.06968641114983",
         "1202.3809523809523"
        ],
        [
         "617940",
         "2020-03-17 00:00:00",
         "5.27",
         "5.27",
         "5.27",
         "5.27",
         "12600.0",
         "CMD",
         "-42.965367965367975",
         "300.0"
        ],
        [
         "662715",
         "2010-03-15 00:00:00",
         "6.34",
         "17.55",
         "16.73",
         "6.34",
         "86760.0",
         "CNT",
         "-62.10400478182905",
         "31658.095238095237"
        ],
        [
         "662716",
         "2010-03-16 00:00:00",
         "17.44",
         "17.44",
         "16.62",
         "16.95",
         "99880.0",
         "CNT",
         "167.35015772870662",
         "31242.14285714286"
        ],
        [
         "709882",
         "2020-06-12 00:00:00",
         "0.1",
         "0.1",
         "0.1",
         "0.1",
         "235300.0",
         "CTA",
         "-50.0",
         "5607.142857142857"
        ],
        [
         "709887",
         "2020-06-19 00:00:00",
         "0.2",
         "0.2",
         "0.2",
         "0.2",
         "20000.0",
         "CTA",
         "100.0",
         "6083.333333333333"
        ],
        [
         "767866",
         "2017-05-23 00:00:00",
         "2.0",
         "2.0",
         "1.9",
         "1.9",
         "28130.0",
         "CYC",
         "-42.42424242424242",
         "6949.285714285715"
        ],
        [
         "811508",
         "2010-01-26 00:00:00",
         "8.6",
         "9.51",
         "8.6",
         "8.6",
         "17270.0",
         "DBM",
         "-45.80970384373031",
         "2878.3333333333335"
        ],
        [
         "831468",
         "2019-08-13 00:00:00",
         "3.49",
         "3.49",
         "3.49",
         "3.49",
         "100000.0",
         "DCF",
         "-41.14671163575041",
         "2681.809523809524"
        ],
        [
         "847746",
         "2020-08-14 00:00:00",
         "0.4",
         "0.5",
         "0.3",
         "0.5",
         "217500.0",
         "DCS",
         "66.66666666666667",
         "108896.14285714286"
        ],
        [
         "858361",
         "2014-12-15 00:00:00",
         "0.9",
         "0.9",
         "0.9",
         "0.9",
         "8400.0",
         "DDM",
         "50.0",
         "32647.14285714286"
        ],
        [
         "1014652",
         "2019-11-08 00:00:00",
         "0.2",
         "0.3",
         "0.2",
         "0.3",
         "991563.0",
         "DPS",
         "49.99999999999998",
         "129907.28571428571"
        ],
        [
         "1014696",
         "2020-01-10 00:00:00",
         "0.3",
         "0.3",
         "0.3",
         "0.3",
         "9500.0",
         "DPS",
         "49.99999999999998",
         "43912.09523809524"
        ],
        [
         "1014736",
         "2020-03-13 00:00:00",
         "0.2",
         "0.3",
         "0.1",
         "0.3",
         "1867330.0",
         "DPS",
         "49.99999999999998",
         "81499.0"
        ],
        [
         "1014765",
         "2020-04-24 00:00:00",
         "0.2",
         "0.3",
         "0.2",
         "0.3",
         "234374.0",
         "DPS",
         "49.99999999999998",
         "106662.42857142857"
        ],
        [
         "1014798",
         "2020-06-12 00:00:00",
         "0.3",
         "0.3",
         "0.3",
         "0.3",
         "1707072.0",
         "DPS",
         "49.99999999999998",
         "84524.90476190476"
        ],
        [
         "1014818",
         "2020-07-10 00:00:00",
         "0.2",
         "0.3",
         "0.2",
         "0.3",
         "283502.0",
         "DPS",
         "49.99999999999998",
         "110352.61904761905"
        ],
        [
         "1060721",
         "2008-10-10 00:00:00",
         "22.94",
         "22.94",
         "20.0",
         "20.0",
         "11900.0",
         "DTC",
         "-53.767914932963464",
         "7259.523809523809"
        ],
        [
         "1063724",
         "2020-11-06 00:00:00",
         "9.48",
         "13.39",
         "9.48",
         "9.48",
         "12800.0",
         "DTC",
         "-42.05378973105134",
         "411.9047619047619"
        ]
       ],
       "shape": {
        "columns": 9,
        "rows": 214
       }
      },
      "text/html": [
       "<div>\n",
       "<style scoped>\n",
       "    .dataframe tbody tr th:only-of-type {\n",
       "        vertical-align: middle;\n",
       "    }\n",
       "\n",
       "    .dataframe tbody tr th {\n",
       "        vertical-align: top;\n",
       "    }\n",
       "\n",
       "    .dataframe thead th {\n",
       "        text-align: right;\n",
       "    }\n",
       "</style>\n",
       "<table border=\"1\" class=\"dataframe\">\n",
       "  <thead>\n",
       "    <tr style=\"text-align: right;\">\n",
       "      <th></th>\n",
       "      <th>time</th>\n",
       "      <th>open</th>\n",
       "      <th>high</th>\n",
       "      <th>low</th>\n",
       "      <th>close</th>\n",
       "      <th>volume</th>\n",
       "      <th>ticker</th>\n",
       "      <th>pct_change</th>\n",
       "      <th>vol_roll_mean</th>\n",
       "    </tr>\n",
       "  </thead>\n",
       "  <tbody>\n",
       "    <tr>\n",
       "      <th>95837</th>\n",
       "      <td>2019-06-21</td>\n",
       "      <td>1.70</td>\n",
       "      <td>2.90</td>\n",
       "      <td>1.70</td>\n",
       "      <td>2.70</td>\n",
       "      <td>69700.0</td>\n",
       "      <td>ALV</td>\n",
       "      <td>117.741935</td>\n",
       "      <td>4603.047619</td>\n",
       "    </tr>\n",
       "    <tr>\n",
       "      <th>169423</th>\n",
       "      <td>2019-06-21</td>\n",
       "      <td>0.30</td>\n",
       "      <td>0.30</td>\n",
       "      <td>0.30</td>\n",
       "      <td>0.30</td>\n",
       "      <td>2104.0</td>\n",
       "      <td>ATA</td>\n",
       "      <td>50.000000</td>\n",
       "      <td>15352.071429</td>\n",
       "    </tr>\n",
       "    <tr>\n",
       "      <th>169448</th>\n",
       "      <td>2019-07-26</td>\n",
       "      <td>0.20</td>\n",
       "      <td>0.30</td>\n",
       "      <td>0.20</td>\n",
       "      <td>0.30</td>\n",
       "      <td>70510.0</td>\n",
       "      <td>ATA</td>\n",
       "      <td>50.000000</td>\n",
       "      <td>9340.738095</td>\n",
       "    </tr>\n",
       "    <tr>\n",
       "      <th>169581</th>\n",
       "      <td>2020-02-07</td>\n",
       "      <td>0.20</td>\n",
       "      <td>0.30</td>\n",
       "      <td>0.20</td>\n",
       "      <td>0.30</td>\n",
       "      <td>14340.0</td>\n",
       "      <td>ATA</td>\n",
       "      <td>50.000000</td>\n",
       "      <td>955.000000</td>\n",
       "    </tr>\n",
       "    <tr>\n",
       "      <th>169601</th>\n",
       "      <td>2020-03-06</td>\n",
       "      <td>0.30</td>\n",
       "      <td>0.30</td>\n",
       "      <td>0.20</td>\n",
       "      <td>0.30</td>\n",
       "      <td>24110.0</td>\n",
       "      <td>ATA</td>\n",
       "      <td>50.000000</td>\n",
       "      <td>6320.095238</td>\n",
       "    </tr>\n",
       "    <tr>\n",
       "      <th>...</th>\n",
       "      <td>...</td>\n",
       "      <td>...</td>\n",
       "      <td>...</td>\n",
       "      <td>...</td>\n",
       "      <td>...</td>\n",
       "      <td>...</td>\n",
       "      <td>...</td>\n",
       "      <td>...</td>\n",
       "      <td>...</td>\n",
       "    </tr>\n",
       "    <tr>\n",
       "      <th>4242038</th>\n",
       "      <td>2018-05-17</td>\n",
       "      <td>64.36</td>\n",
       "      <td>64.36</td>\n",
       "      <td>64.36</td>\n",
       "      <td>64.36</td>\n",
       "      <td>18000.0</td>\n",
       "      <td>VHM</td>\n",
       "      <td>268.402977</td>\n",
       "      <td>428.571429</td>\n",
       "    </tr>\n",
       "    <tr>\n",
       "      <th>4250714</th>\n",
       "      <td>2007-10-17</td>\n",
       "      <td>15.16</td>\n",
       "      <td>15.16</td>\n",
       "      <td>15.16</td>\n",
       "      <td>15.16</td>\n",
       "      <td>5360.0</td>\n",
       "      <td>VID</td>\n",
       "      <td>-40.150020</td>\n",
       "      <td>121617.857143</td>\n",
       "    </tr>\n",
       "    <tr>\n",
       "      <th>4457744</th>\n",
       "      <td>2006-07-18</td>\n",
       "      <td>7.75</td>\n",
       "      <td>7.75</td>\n",
       "      <td>7.75</td>\n",
       "      <td>7.75</td>\n",
       "      <td>0.0</td>\n",
       "      <td>VSH</td>\n",
       "      <td>46.780303</td>\n",
       "      <td>181211.904762</td>\n",
       "    </tr>\n",
       "    <tr>\n",
       "      <th>4508343</th>\n",
       "      <td>2024-07-30</td>\n",
       "      <td>9.50</td>\n",
       "      <td>10.30</td>\n",
       "      <td>9.50</td>\n",
       "      <td>10.00</td>\n",
       "      <td>12900.0</td>\n",
       "      <td>VTL</td>\n",
       "      <td>42.857143</td>\n",
       "      <td>2587.714286</td>\n",
       "    </tr>\n",
       "    <tr>\n",
       "      <th>4571605</th>\n",
       "      <td>2019-06-28</td>\n",
       "      <td>11.63</td>\n",
       "      <td>11.63</td>\n",
       "      <td>8.36</td>\n",
       "      <td>9.45</td>\n",
       "      <td>27000.0</td>\n",
       "      <td>XMC</td>\n",
       "      <td>88.622754</td>\n",
       "      <td>8216.904762</td>\n",
       "    </tr>\n",
       "  </tbody>\n",
       "</table>\n",
       "<p>214 rows × 9 columns</p>\n",
       "</div>"
      ],
      "text/plain": [
       "              time   open   high    low  close   volume ticker  pct_change  \\\n",
       "95837   2019-06-21   1.70   2.90   1.70   2.70  69700.0    ALV  117.741935   \n",
       "169423  2019-06-21   0.30   0.30   0.30   0.30   2104.0    ATA   50.000000   \n",
       "169448  2019-07-26   0.20   0.30   0.20   0.30  70510.0    ATA   50.000000   \n",
       "169581  2020-02-07   0.20   0.30   0.20   0.30  14340.0    ATA   50.000000   \n",
       "169601  2020-03-06   0.30   0.30   0.20   0.30  24110.0    ATA   50.000000   \n",
       "...            ...    ...    ...    ...    ...      ...    ...         ...   \n",
       "4242038 2018-05-17  64.36  64.36  64.36  64.36  18000.0    VHM  268.402977   \n",
       "4250714 2007-10-17  15.16  15.16  15.16  15.16   5360.0    VID  -40.150020   \n",
       "4457744 2006-07-18   7.75   7.75   7.75   7.75      0.0    VSH   46.780303   \n",
       "4508343 2024-07-30   9.50  10.30   9.50  10.00  12900.0    VTL   42.857143   \n",
       "4571605 2019-06-28  11.63  11.63   8.36   9.45  27000.0    XMC   88.622754   \n",
       "\n",
       "         vol_roll_mean  \n",
       "95837      4603.047619  \n",
       "169423    15352.071429  \n",
       "169448     9340.738095  \n",
       "169581      955.000000  \n",
       "169601     6320.095238  \n",
       "...                ...  \n",
       "4242038     428.571429  \n",
       "4250714  121617.857143  \n",
       "4457744  181211.904762  \n",
       "4508343    2587.714286  \n",
       "4571605    8216.904762  \n",
       "\n",
       "[214 rows x 9 columns]"
      ]
     },
     "metadata": {},
     "output_type": "display_data"
    }
   ],
   "source": [
    "abnormal = check_abnormal_changes(processed_data)\n",
    "abnormal"
   ]
  },
  {
   "cell_type": "markdown",
   "id": "757021cb",
   "metadata": {},
   "source": [
    "### Preprocess"
   ]
  },
  {
   "cell_type": "code",
   "execution_count": 54,
   "id": "e2a1008b",
   "metadata": {},
   "outputs": [],
   "source": [
    "input_folder = '/mnt/c/Users/HOME/Downloads/TF-algo-trading/vci_stock_history'\n",
    "output_folder = '/mnt/c/Users/HOME/Downloads/TF-algo-trading/processed_stock_history'\n",
    "# os.makedirs(output_folder, exist_ok=True)"
   ]
  },
  {
   "cell_type": "markdown",
   "id": "5f6d8577",
   "metadata": {},
   "source": [
    "#### `process_stock_invalid_data`"
   ]
  },
  {
   "cell_type": "code",
   "execution_count": 55,
   "id": "fd62aade",
   "metadata": {},
   "outputs": [
    {
     "name": "stderr",
     "output_type": "stream",
     "text": [
      "Loading data:   0%|                                                                                                                                                     | 0/1686 [00:00<?, ?it/s]"
     ]
    },
    {
     "name": "stderr",
     "output_type": "stream",
     "text": [
      "Loading data:   5%|██████▉                                                                                                                                     | 84/1686 [00:03<00:56, 28.12it/s]"
     ]
    },
    {
     "name": "stdout",
     "output_type": "stream",
     "text": [
      "[WEEKEND DATA] BBS có dữ liệu T7/CN, số dòng = 1\n",
      "         time\n",
      "37 2006-04-01\n"
     ]
    },
    {
     "name": "stderr",
     "output_type": "stream",
     "text": [
      "Loading data:  14%|███████████████████▎                                                                                                                       | 234/1686 [00:08<00:45, 31.63it/s]"
     ]
    },
    {
     "name": "stdout",
     "output_type": "stream",
     "text": [
      "[WEEKEND DATA] CID có dữ liệu T7/CN, số dòng = 8\n",
      "         time\n",
      "0  2005-01-08\n",
      "2  2005-02-12\n",
      "6  2005-05-08\n",
      "10 2005-07-09\n",
      "11 2005-07-10\n",
      "31 2005-09-11\n",
      "41 2005-10-08\n",
      "62 2005-12-10\n"
     ]
    },
    {
     "name": "stderr",
     "output_type": "stream",
     "text": [
      "Loading data:  41%|█████████████████████████████████████████████████████████                                                                                  | 692/1686 [00:23<00:32, 30.18it/s]"
     ]
    },
    {
     "name": "stdout",
     "output_type": "stream",
     "text": [
      "[WEEKEND DATA] ILC có dữ liệu T7/CN, số dòng = 1\n",
      "         time\n",
      "38 2006-04-01\n"
     ]
    },
    {
     "name": "stderr",
     "output_type": "stream",
     "text": [
      "Loading data:  98%|███████████████████████████████████████████████████████████████████████████████████████████████████████████████████████████████████████▍  | 1655/1686 [01:02<00:01, 30.76it/s]"
     ]
    },
    {
     "name": "stdout",
     "output_type": "stream",
     "text": [
      "[WEEKEND DATA] VTL có dữ liệu T7/CN, số dòng = 9\n",
      "          time\n",
      "0   2005-01-08\n",
      "2   2005-02-12\n",
      "6   2005-05-08\n",
      "10  2005-07-09\n",
      "11  2005-07-10\n",
      "31  2005-09-11\n",
      "41  2005-10-08\n",
      "62  2005-12-10\n",
      "107 2006-04-01\n"
     ]
    },
    {
     "name": "stderr",
     "output_type": "stream",
     "text": [
      "Loading data: 100%|██████████████████████████████████████████████████████████████████████████████████████████████████████████████████████████████████████████| 1686/1686 [01:03<00:00, 26.59it/s]\n"
     ]
    }
   ],
   "source": [
    "# Đọc tất cả file csv\n",
    "all_files = [f for f in os.listdir(input_folder) if f.endswith(\".csv\")]\n",
    "\n",
    "# Tìm min và max date toàn cục\n",
    "min_date, max_date = None, None\n",
    "stock_dfs = {}\n",
    "\n",
    "for file in tqdm(all_files, desc=\"Loading data\"):\n",
    "    ticker = file.replace(\".csv\", \"\")\n",
    "    df = pd.read_csv(os.path.join(input_folder, file))\n",
    "    df[\"time\"] = pd.to_datetime(df[\"time\"])\n",
    "    df = df.sort_values(\"time\").reset_index(drop=True)\n",
    "\n",
    "    # 🚨 Kiểm tra dữ liệu có ngày T7/CN\n",
    "    weekend_rows = df[df[\"time\"].dt.weekday >= 5]\n",
    "    if not weekend_rows.empty:\n",
    "        print(f\"[WEEKEND DATA] {ticker} có dữ liệu T7/CN, số dòng = {len(weekend_rows)}\")\n",
    "        print(weekend_rows[[\"time\"]])  # in thử vài dòng đầu\n",
    "\n",
    "    stock_dfs[ticker] = df\n",
    "\n",
    "    # update global min/max\n",
    "    if min_date is None or df[\"time\"].min() < min_date:\n",
    "        min_date = df[\"time\"].min()\n",
    "    if max_date is None or df[\"time\"].max() > max_date:\n",
    "        max_date = df[\"time\"].max()\n",
    "\n",
    "# Tạo dải ngày chung (Mon-Fri)\n",
    "all_days = pd.date_range(start=min_date, end=max_date, freq=\"B\")  # B = business days (Mon-Fri)"
   ]
  },
  {
   "cell_type": "code",
   "execution_count": 56,
   "id": "acd0bbea",
   "metadata": {},
   "outputs": [
    {
     "name": "stderr",
     "output_type": "stream",
     "text": [
      "Processing tickers: 100%|████████████████████████████████████████████████████████████████████████████████████████████████████████████████████████████████████| 1686/1686 [00:57<00:00, 29.31it/s]\n"
     ]
    },
    {
     "name": "stdout",
     "output_type": "stream",
     "text": [
      "✅ Done processing all tickers!\n"
     ]
    }
   ],
   "source": [
    "def process_stock_data(stock_dfs):\n",
    "    processed_data = []\n",
    "    out_stock_dfs = {}\n",
    "\n",
    "    for ticker, df in tqdm(stock_dfs.items(), desc=\"Processing tickers\"):\n",
    "        df = df.copy()\n",
    "        df = df.set_index(\"time\")\n",
    "        # min_t, max_t = df[\"time\"].min(), df[\"time\"].max()\n",
    "        # df = df.set_index(\"time\")\n",
    "\n",
    "        # date_range = pd.date_range(start=min_t, end=max_t)\n",
    "        # df = df.reindex(date_range)\n",
    "\n",
    "        # --- 1. Đánh dấu invalid ---\n",
    "        invalid_open  = df[\"open\"].isna()  | (df[\"open\"]  <= 0)\n",
    "        invalid_high  = df[\"high\"].isna()  | (df[\"high\"]  <= 0)\n",
    "        invalid_low   = df[\"low\"].isna()   | (df[\"low\"]   <= 0)\n",
    "        invalid_close = df[\"close\"].isna() | (df[\"close\"] <= 0)\n",
    "        invalid_vol   = df[\"volume\"].isna() | (df[\"volume\"] < 0)\n",
    "\n",
    "        # --- 2. Case 4 giá trị invalid: fill close ffill/bfill ---\n",
    "        all_invalid = invalid_open & invalid_high & invalid_low & invalid_close\n",
    "        valid_close = df[\"close\"].where((df[\"close\"] > 0) & df[\"close\"].notna())\n",
    "        df.loc[all_invalid, \"close\"] = valid_close.ffill().bfill()\n",
    "        df.loc[all_invalid, [\"open\", \"high\", \"low\"]] = df.loc[all_invalid, \"close\"]\n",
    "\n",
    "        # update\n",
    "        invalid_open  = df[\"open\"].isna()  | (df[\"open\"]  <= 0)\n",
    "        invalid_high  = df[\"high\"].isna()  | (df[\"high\"]  <= 0)\n",
    "        invalid_low   = df[\"low\"].isna()   | (df[\"low\"]   <= 0)\n",
    "        invalid_close = df[\"close\"].isna() | (df[\"close\"] <= 0)\n",
    "\n",
    "        # --- 3. Ưu tiên high/low ---\n",
    "        # low = min(open, high, close) nếu invalid\n",
    "        cols = [\"open\", \"high\", \"close\"]\n",
    "        tmp = df.loc[invalid_low, cols].replace(0, np.nan)  # thay 0 bằng NaN\n",
    "        tmp[tmp <= 0] = np.nan  # bỏ cả giá trị <=0\n",
    "\n",
    "        df.loc[invalid_low, \"low\"] = tmp.min(axis=1)\n",
    "        # high = max(open, low, close) nếu invalid\n",
    "        df.loc[invalid_high, \"high\"] = df.loc[invalid_high, [\"open\", \"low\", \"close\"]].max(axis=1)\n",
    "\n",
    "        # update\n",
    "        invalid_high  = df[\"high\"].isna()  | (df[\"high\"]  <= 0)\n",
    "        invalid_low   = df[\"low\"].isna()   | (df[\"low\"]   <= 0)\n",
    "\n",
    "        # --- 4. Ưu tiên close ---\n",
    "        # close = open -> low -> high (theo thứ tự)\n",
    "        df.loc[invalid_close, \"close\"] = (\n",
    "            df[\"open\"].where(~invalid_open)\n",
    "            .fillna(df[\"low\"].where(~invalid_low))\n",
    "            .fillna(df[\"high\"].where(~invalid_high))\n",
    "            .fillna(df[\"close\"])\n",
    "        )\n",
    "\n",
    "        # update\n",
    "        invalid_close  = df[\"close\"].isna()  | (df[\"close\"]  <= 0)\n",
    "\n",
    "        # --- 5. Ưu tiên open ---\n",
    "        # open = close -> low -> high (theo thứ tự)\n",
    "        df.loc[invalid_open, \"open\"] = (\n",
    "            df[\"close\"].where(~invalid_close)\n",
    "            .fillna(df[\"low\"].where(~invalid_low))\n",
    "            .fillna(df[\"high\"].where(~invalid_high))\n",
    "            .fillna(df[\"open\"])\n",
    "        )\n",
    "\n",
    "        # --- 6. Volume ---\n",
    "        valid_vol = df[\"volume\"].where((df[\"volume\"] >= 0) & df[\"volume\"].notna())\n",
    "        df.loc[invalid_vol, \"volume\"] = valid_vol.ffill().bfill()\n",
    "\n",
    "        # Reset index\n",
    "        df = df.reset_index().rename(columns={\"index\": \"time\"})\n",
    "        df[\"ticker\"] = ticker\n",
    "        processed_data.append(df)\n",
    "        out_stock_dfs[ticker] = df\n",
    "\n",
    "    all_processed = pd.concat(processed_data, ignore_index=True)\n",
    "    print(\"✅ Done processing all tickers!\")\n",
    "    return all_processed, out_stock_dfs\n",
    "\n",
    "processed_data, out_stock_dfs = process_stock_data(stock_dfs)"
   ]
  },
  {
   "cell_type": "code",
   "execution_count": 57,
   "id": "4244dcab",
   "metadata": {},
   "outputs": [
    {
     "name": "stdout",
     "output_type": "stream",
     "text": [
      "Số lượng NaN của mỗi mã:\n",
      "        time  open  high  low  close  volume\n",
      "ticker                                      \n",
      "A32        0     0     0    0      0       0\n",
      "AAA        0     0     0    0      0       0\n",
      "AAH        0     0     0    0      0       0\n",
      "AAM        0     0     0    0      0       0\n",
      "AAS        0     0     0    0      0       0\n",
      "...      ...   ...   ...  ...    ...     ...\n",
      "XPH        0     0     0    0      0       0\n",
      "YBC        0     0     0    0      0       0\n",
      "YBM        0     0     0    0      0       0\n",
      "YEG        0     0     0    0      0       0\n",
      "YTC        0     0     0    0      0       0\n",
      "\n",
      "[1686 rows x 6 columns]\n",
      "\n",
      "Trung bình số lượng NaN mỗi cột:\n",
      "time      0.0\n",
      "open      0.0\n",
      "high      0.0\n",
      "low       0.0\n",
      "close     0.0\n",
      "volume    0.0\n",
      "dtype: float64\n"
     ]
    },
    {
     "name": "stderr",
     "output_type": "stream",
     "text": [
      "/tmp/ipykernel_809/284803357.py:116: FutureWarning: DataFrameGroupBy.apply operated on the grouping columns. This behavior is deprecated, and in a future version of pandas the grouping columns will be excluded from the operation. Either pass `include_groups=False` to exclude the groupings or explicitly select the grouping columns after groupby to silence this warning.\n",
      "  nan_df = df.groupby(\"ticker\").apply(lambda x: x.isna().sum())\n"
     ]
    },
    {
     "data": {
      "text/plain": [
       "(        time  open  high  low  close  volume\n",
       " ticker                                      \n",
       " A32        0     0     0    0      0       0\n",
       " AAA        0     0     0    0      0       0\n",
       " AAH        0     0     0    0      0       0\n",
       " AAM        0     0     0    0      0       0\n",
       " AAS        0     0     0    0      0       0\n",
       " ...      ...   ...   ...  ...    ...     ...\n",
       " XPH        0     0     0    0      0       0\n",
       " YBC        0     0     0    0      0       0\n",
       " YBM        0     0     0    0      0       0\n",
       " YEG        0     0     0    0      0       0\n",
       " YTC        0     0     0    0      0       0\n",
       " \n",
       " [1686 rows x 6 columns],\n",
       " time      0.0\n",
       " open      0.0\n",
       " high      0.0\n",
       " low       0.0\n",
       " close     0.0\n",
       " volume    0.0\n",
       " dtype: float64)"
      ]
     },
     "execution_count": 57,
     "metadata": {},
     "output_type": "execute_result"
    }
   ],
   "source": [
    "analyze_nan(processed_data)"
   ]
  },
  {
   "cell_type": "code",
   "execution_count": 58,
   "id": "335a00b0",
   "metadata": {},
   "outputs": [
    {
     "name": "stdout",
     "output_type": "stream",
     "text": [
      "Số lượng giá trị 0 của mỗi mã:\n",
      "        time  open  high  low  close  volume\n",
      "ticker                                      \n",
      "A32        0     0     0    0      0     873\n",
      "AAA        0     0     0    0      0       2\n",
      "AAH        0     0     0    0      0       0\n",
      "AAM        0     0     0    0      0     197\n",
      "AAS        0     0     0    0      0       0\n",
      "...      ...   ...   ...  ...    ...     ...\n",
      "XPH        0     0     0    0      0     691\n",
      "YBC        0     0     0    0      0    2421\n",
      "YBM        0     0     0    0      0      30\n",
      "YEG        0     0     0    0      0       0\n",
      "YTC        0     0     0    0      0    1323\n",
      "\n",
      "[1686 rows x 6 columns]\n",
      "\n",
      "Trung bình số lượng giá trị 0 mỗi cột:\n",
      "time        0.000000\n",
      "open        0.000000\n",
      "high        0.000000\n",
      "low         0.000000\n",
      "close       0.000000\n",
      "volume    884.011862\n",
      "dtype: float64\n"
     ]
    },
    {
     "name": "stderr",
     "output_type": "stream",
     "text": [
      "/tmp/ipykernel_809/284803357.py:154: FutureWarning: DataFrameGroupBy.apply operated on the grouping columns. This behavior is deprecated, and in a future version of pandas the grouping columns will be excluded from the operation. Either pass `include_groups=False` to exclude the groupings or explicitly select the grouping columns after groupby to silence this warning.\n",
      "  zero_df = df.groupby(\"ticker\").apply(lambda x: (x == 0).sum())\n"
     ]
    },
    {
     "data": {
      "text/plain": [
       "(        time  open  high  low  close  volume\n",
       " ticker                                      \n",
       " A32        0     0     0    0      0     873\n",
       " AAA        0     0     0    0      0       2\n",
       " AAH        0     0     0    0      0       0\n",
       " AAM        0     0     0    0      0     197\n",
       " AAS        0     0     0    0      0       0\n",
       " ...      ...   ...   ...  ...    ...     ...\n",
       " XPH        0     0     0    0      0     691\n",
       " YBC        0     0     0    0      0    2421\n",
       " YBM        0     0     0    0      0      30\n",
       " YEG        0     0     0    0      0       0\n",
       " YTC        0     0     0    0      0    1323\n",
       " \n",
       " [1686 rows x 6 columns],\n",
       " time        0.000000\n",
       " open        0.000000\n",
       " high        0.000000\n",
       " low         0.000000\n",
       " close       0.000000\n",
       " volume    884.011862\n",
       " dtype: float64)"
      ]
     },
     "execution_count": 58,
     "metadata": {},
     "output_type": "execute_result"
    }
   ],
   "source": [
    "analyze_zero(processed_data)"
   ]
  },
  {
   "cell_type": "code",
   "execution_count": 59,
   "id": "943e9a92",
   "metadata": {},
   "outputs": [
    {
     "data": {
      "application/vnd.microsoft.datawrangler.viewer.v0+json": {
       "columns": [
        {
         "name": "index",
         "rawType": "object",
         "type": "string"
        },
        {
         "name": "mean_overfill",
         "rawType": "float64",
         "type": "float"
        },
        {
         "name": "mean_underfill",
         "rawType": "float64",
         "type": "float"
        }
       ],
       "ref": "31407dad-63ff-47bb-ba87-6489e3915f3f",
       "rows": [
        [
         "low",
         "0.0",
         "0.0"
        ],
        [
         "high",
         "0.0",
         "0.0"
        ],
        [
         "open",
         "0.0",
         "0.0"
        ],
        [
         "close",
         "0.0",
         "0.0"
        ],
        [
         "volume",
         "0.0",
         "0.0"
        ]
       ],
       "shape": {
        "columns": 2,
        "rows": 5
       }
      },
      "text/html": [
       "<div>\n",
       "<style scoped>\n",
       "    .dataframe tbody tr th:only-of-type {\n",
       "        vertical-align: middle;\n",
       "    }\n",
       "\n",
       "    .dataframe tbody tr th {\n",
       "        vertical-align: top;\n",
       "    }\n",
       "\n",
       "    .dataframe thead th {\n",
       "        text-align: right;\n",
       "    }\n",
       "</style>\n",
       "<table border=\"1\" class=\"dataframe\">\n",
       "  <thead>\n",
       "    <tr style=\"text-align: right;\">\n",
       "      <th></th>\n",
       "      <th>mean_overfill</th>\n",
       "      <th>mean_underfill</th>\n",
       "    </tr>\n",
       "  </thead>\n",
       "  <tbody>\n",
       "    <tr>\n",
       "      <th>low</th>\n",
       "      <td>0.0</td>\n",
       "      <td>0.0</td>\n",
       "    </tr>\n",
       "    <tr>\n",
       "      <th>high</th>\n",
       "      <td>0.0</td>\n",
       "      <td>0.0</td>\n",
       "    </tr>\n",
       "    <tr>\n",
       "      <th>open</th>\n",
       "      <td>0.0</td>\n",
       "      <td>0.0</td>\n",
       "    </tr>\n",
       "    <tr>\n",
       "      <th>close</th>\n",
       "      <td>0.0</td>\n",
       "      <td>0.0</td>\n",
       "    </tr>\n",
       "    <tr>\n",
       "      <th>volume</th>\n",
       "      <td>0.0</td>\n",
       "      <td>0.0</td>\n",
       "    </tr>\n",
       "  </tbody>\n",
       "</table>\n",
       "</div>"
      ],
      "text/plain": [
       "        mean_overfill  mean_underfill\n",
       "low               0.0             0.0\n",
       "high              0.0             0.0\n",
       "open              0.0             0.0\n",
       "close             0.0             0.0\n",
       "volume            0.0             0.0"
      ]
     },
     "execution_count": 59,
     "metadata": {},
     "output_type": "execute_result"
    }
   ],
   "source": [
    "def invalid_filling_check(stock_dfs, out_stock_dfs):\n",
    "    # Các cột cần xét\n",
    "    cols_to_check = [\"low\", \"high\", \"open\", \"close\", \"volume\"]\n",
    "\n",
    "    # Hàm kiểm tra giá trị hợp lệ\n",
    "    def is_valid(col_name, series):\n",
    "        if col_name in [\"low\", \"high\", \"open\", \"close\"]:\n",
    "            return (series > 0) & series.notna()\n",
    "        elif col_name == \"volume\":\n",
    "            return (series >= 0) & series.notna()\n",
    "        else:\n",
    "            return pd.Series([True] * len(series))\n",
    "\n",
    "    # Lưu kết quả fill dư / fill thiếu\n",
    "    results = {}\n",
    "\n",
    "    for ticker in stock_dfs.keys():\n",
    "        df_orig = stock_dfs[ticker]\n",
    "        df_filled = out_stock_dfs[ticker]\n",
    "        \n",
    "        results[ticker] = {}\n",
    "        \n",
    "        for col in cols_to_check:\n",
    "            valid_mask = is_valid(col, df_orig[col])\n",
    "            invalid_mask = ~valid_mask\n",
    "            \n",
    "            # Fill dư: vị trí hợp lệ nhưng đã bị thay đổi\n",
    "            overfill_mask = valid_mask & (df_orig[col] != df_filled[col])\n",
    "            overfill_ratio = overfill_mask.sum() / len(df_orig[col])\n",
    "            \n",
    "            # Fill thiếu: vị trí invalid nhưng chưa được fill\n",
    "            underfill_mask = invalid_mask & (df_filled[col] == df_orig[col])\n",
    "            underfill_ratio = underfill_mask.sum() / len(df_orig[col])\n",
    "            \n",
    "            results[ticker][col] = {\n",
    "                \"overfill_ratio\": overfill_ratio,\n",
    "                \"underfill_ratio\": underfill_ratio\n",
    "            }\n",
    "\n",
    "    # Tính mean theo cột\n",
    "    overfill_means = {col: [] for col in cols_to_check}\n",
    "    underfill_means = {col: [] for col in cols_to_check}\n",
    "\n",
    "    for ticker, col_dict in results.items():\n",
    "        for col in cols_to_check:\n",
    "            overfill_means[col].append(col_dict[col][\"overfill_ratio\"])\n",
    "            underfill_means[col].append(col_dict[col][\"underfill_ratio\"])\n",
    "\n",
    "    mean_overfill = {col: np.nanmean(overfill_means[col]) for col in cols_to_check}\n",
    "    mean_underfill = {col: np.nanmean(underfill_means[col]) for col in cols_to_check}\n",
    "\n",
    "    return pd.DataFrame({\n",
    "        \"mean_overfill\": mean_overfill,\n",
    "        \"mean_underfill\": mean_underfill\n",
    "    })\n",
    "\n",
    "invalid_filling_check(stock_dfs, out_stock_dfs)"
   ]
  },
  {
   "cell_type": "code",
   "execution_count": null,
   "id": "ef567e58",
   "metadata": {},
   "outputs": [
    {
     "name": "stdout",
     "output_type": "stream",
     "text": [
      "        time  open  high   low  close  volume\n",
      "0 2008-12-12  3.63  3.89  3.63   3.63  201500\n",
      "1 2008-12-15  3.74  3.89  3.59   3.85  150200\n",
      "2 2008-12-16  3.89  3.89  3.63   3.76  120400\n",
      "3 2008-12-17  2.18  2.22  2.18   2.22  538100\n",
      "4 2008-12-18  2.37  2.37  2.35   2.37  190500\n",
      "5 2008-12-19  2.52  2.52  2.44   2.52  441100\n",
      "6 2008-12-22  2.67  2.67  2.50   2.52  179200\n"
     ]
    }
   ],
   "source": [
    "def get_window(stock_dfs, ticker, date_n, window=5):\n",
    "    \"\"\"\n",
    "    Lấy dữ liệu stock từ ticker tại ngày date_n ± window ngày.\n",
    "    \n",
    "    stock_dfs: dict[ticker -> DataFrame]\n",
    "    ticker: mã cổ phiếu\n",
    "    date_n: ngày cần lấy (datetime hoặc str)\n",
    "    window: số ngày trước/sau (mặc định 5)\n",
    "    \"\"\"\n",
    "    df = stock_dfs[ticker].copy()\n",
    "    df[\"time\"] = pd.to_datetime(df[\"time\"])\n",
    "    date_n = pd.to_datetime(date_n)\n",
    "    \n",
    "    start_date = date_n - pd.Timedelta(days=window)\n",
    "    end_date = date_n + pd.Timedelta(days=window)\n",
    "    \n",
    "    mask = (df[\"time\"] >= start_date) & (df[\"time\"] <= end_date)\n",
    "    return df.loc[mask].sort_values(\"time\").reset_index(drop=True)\n",
    "\n",
    "# Ví dụ\n",
    "ticker = \"VGS\"\n",
    "date_n = \"2008-12-17\"\n",
    "window_df = get_window(stock_dfs, ticker, date_n, window=5)\n",
    "print(window_df)"
   ]
  },
  {
   "cell_type": "code",
   "execution_count": 64,
   "id": "cac0a78b",
   "metadata": {},
   "outputs": [
    {
     "name": "stderr",
     "output_type": "stream",
     "text": [
      "Saving processed stocks:   0%|                                                                                                                                          | 0/1686 [00:00<?, ?it/s]"
     ]
    },
    {
     "name": "stderr",
     "output_type": "stream",
     "text": [
      "Saving processed stocks: 100%|███████████████████████████████████████████████████████████████████████████████████████████████████████████████████████████████| 1686/1686 [03:00<00:00,  9.37it/s]"
     ]
    },
    {
     "name": "stdout",
     "output_type": "stream",
     "text": [
      "✅ Saved 1686 tickers into folder: /mnt/c/Users/HOME/Downloads/TF-algo-trading/processed_stock_history\n"
     ]
    },
    {
     "name": "stderr",
     "output_type": "stream",
     "text": [
      "\n"
     ]
    }
   ],
   "source": [
    "def save_processed_stocks(out_stock_dfs, output_folder=\"processed_stock_history\"):\n",
    "    os.makedirs(output_folder, exist_ok=True)  # tạo folder nếu chưa có\n",
    "    \n",
    "    for ticker, df in tqdm(out_stock_dfs.items(), desc=\"Saving processed stocks\"):\n",
    "        # đảm bảo cột time được lưu đúng format\n",
    "        df = df.copy()\n",
    "        df[\"time\"] = pd.to_datetime(df[\"time\"])\n",
    "        \n",
    "        out_path = os.path.join(output_folder, f\"{ticker}.csv\")\n",
    "        df.to_csv(out_path, index=False)\n",
    "    \n",
    "    print(f\"✅ Saved {len(out_stock_dfs)} tickers into folder: {output_folder}\")\n",
    "\n",
    "# Gọi hàm\n",
    "save_processed_stocks(out_stock_dfs, output_folder)"
   ]
  }
 ],
 "metadata": {
  "kernelspec": {
   "display_name": "huatuo",
   "language": "python",
   "name": "lnt"
  },
  "language_info": {
   "codemirror_mode": {
    "name": "ipython",
    "version": 3
   },
   "file_extension": ".py",
   "mimetype": "text/x-python",
   "name": "python",
   "nbconvert_exporter": "python",
   "pygments_lexer": "ipython3",
   "version": "3.12.9"
  }
 },
 "nbformat": 4,
 "nbformat_minor": 5
}
